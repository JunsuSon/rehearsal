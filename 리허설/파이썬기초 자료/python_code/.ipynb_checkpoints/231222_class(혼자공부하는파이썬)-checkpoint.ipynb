{
 "cells": [
  {
   "cell_type": "markdown",
   "id": "24a1be48",
   "metadata": {},
   "source": [
    "### 클래스 Class\n",
    " - 객체지향 프로그래밍에 대해서 이해한다.\n",
    " - 클래스, 인스턴스를 구분한다.\n",
    " - 클래스를 만ㄹ드는 방법을 이해한다.\n",
    " \n",
    "#### 클래스의 기본\n",
    " - 핵심 키워드; 객체, 겍체지향프로그래밍 언어, 추상화, 클래스, 인스턴스, 생서자, 메소드"
   ]
  },
  {
   "cell_type": "markdown",
   "id": "725427db",
   "metadata": {},
   "source": [
    "시작전\n",
    " - 파이선 외에 다른 프로그래밍 언어에 대해 들어본 적 있지요? C언어를 제외한 모든 프로그래밍 언어는 객체지향 프로그래밍언어입니다.(Object Oriented Programming)\n",
    " - 객체 지향 프로그래밍이란, 객체를 우선으로 생각해서 프로그래밍 한다는 의미\n",
    " - 클래스 기반의 객체 지향 프로그래밍 언어. 클래스(class)라고 하는 것을 기반으로 객체(object)를 만들고, 객체를 우선으로 생각해서 프로그래밍 해야함\n",
    " - 객체; 여러가지 속성을 가질 수 있는 대상 (교실 안| 학생, 교사, 칠판, 책상 .. 등등이 객체)\n",
    " - 추상화(abstraction); 필요한 요소만을 사용해서 객체를 표현하는 것, 복잡한 자료/모듈/시스템 등으로부터 핵심적인 개념 또는 기능을 간추려 내는 것 "
   ]
  },
  {
   "cell_type": "code",
   "execution_count": null,
   "id": "3050d993",
   "metadata": {},
   "outputs": [],
   "source": []
  },
  {
   "cell_type": "code",
   "execution_count": null,
   "id": "a27d9316",
   "metadata": {},
   "outputs": [],
   "source": []
  },
  {
   "cell_type": "code",
   "execution_count": null,
   "id": "b0e213ee",
   "metadata": {},
   "outputs": [],
   "source": []
  }
 ],
 "metadata": {
  "kernelspec": {
   "display_name": "Python 3 (ipykernel)",
   "language": "python",
   "name": "python3"
  },
  "language_info": {
   "codemirror_mode": {
    "name": "ipython",
    "version": 3
   },
   "file_extension": ".py",
   "mimetype": "text/x-python",
   "name": "python",
   "nbconvert_exporter": "python",
   "pygments_lexer": "ipython3",
   "version": "3.11.4"
  },
  "toc": {
   "base_numbering": 1,
   "nav_menu": {},
   "number_sections": true,
   "sideBar": true,
   "skip_h1_title": false,
   "title_cell": "Table of Contents",
   "title_sidebar": "Contents",
   "toc_cell": false,
   "toc_position": {},
   "toc_section_display": true,
   "toc_window_display": false
  },
  "varInspector": {
   "cols": {
    "lenName": 16,
    "lenType": 16,
    "lenVar": 40
   },
   "kernels_config": {
    "python": {
     "delete_cmd_postfix": "",
     "delete_cmd_prefix": "del ",
     "library": "var_list.py",
     "varRefreshCmd": "print(var_dic_list())"
    },
    "r": {
     "delete_cmd_postfix": ") ",
     "delete_cmd_prefix": "rm(",
     "library": "var_list.r",
     "varRefreshCmd": "cat(var_dic_list()) "
    }
   },
   "types_to_exclude": [
    "module",
    "function",
    "builtin_function_or_method",
    "instance",
    "_Feature"
   ],
   "window_display": false
  }
 },
 "nbformat": 4,
 "nbformat_minor": 5
}

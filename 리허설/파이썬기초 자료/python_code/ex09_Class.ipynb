{
 "cells": [
  {
   "cell_type": "markdown",
   "metadata": {},
   "source": [
    "### 클래스란?\n",
    " - 클래스란 객체 지향 프로그래밍(OOP)를 지원하는 다중 패러다임 프로그래밍을 구현하기 위한 요소\n",
    " - 클래스는 속성과 메소드를 담고 있음 \n",
    " - 클래스는 쉽게 말하면 어떤 개체를 만들기 위한 설계도이며, 설계도를 통해 파생된 것을 개체 또는 인스턴스라고 함\n",
    " - 파이썬에서 클래스를 정의하려면 class 명령어 뒤에 클래스명과 콜론을 사용하여 정의함\n",
    " - 파이썬 클래스명 규칙은 기존의 파이썬 변수 규칙인 snake_case로 하기보다, 각 단어가 대문자로 들어가는 PascalCase로 지정함\n",
    " - 공개 vs 비공개 속성, 메소드. 예를 들면) 공개 cal, cal() vs 비공개 _cal, _cal()\n",
    " - Name Mangling : __메소드명 : 클래스의 공개 api의 일부가 아니라 숨겨지는 값"
   ]
  },
  {
   "cell_type": "code",
   "execution_count": null,
   "metadata": {},
   "outputs": [],
   "source": [
    "# 클래스 정의 및 객체 생성, 클래스 속성 및 인스턴스 속성\n",
    "# 인스턴스 메소드, 정적 메소드, 클래스 메소드\n",
    "# 비공개 속성 및 메소드\n",
    "# 클래스 상속 및 추상 클래스, 오버라이딩 "
   ]
  },
  {
   "cell_type": "code",
   "execution_count": 1,
   "metadata": {},
   "outputs": [
    {
     "ename": "ModuleNotFoundError",
     "evalue": "No module named 'playsound'",
     "output_type": "error",
     "traceback": [
      "\u001b[1;31m---------------------------------------------------------------------------\u001b[0m",
      "\u001b[1;31mModuleNotFoundError\u001b[0m                       Traceback (most recent call last)",
      "Cell \u001b[1;32mIn[1], line 2\u001b[0m\n\u001b[0;32m      1\u001b[0m \u001b[38;5;28;01mfrom\u001b[39;00m \u001b[38;5;21;01mdatetime\u001b[39;00m \u001b[38;5;28;01mimport\u001b[39;00m datetime   \n\u001b[1;32m----> 2\u001b[0m \u001b[38;5;28;01mfrom\u001b[39;00m \u001b[38;5;21;01mplaysound\u001b[39;00m \u001b[38;5;28;01mimport\u001b[39;00m playsound\n\u001b[0;32m      3\u001b[0m alarm_time \u001b[38;5;241m=\u001b[39m \u001b[38;5;28minput\u001b[39m(\u001b[38;5;124m\"\u001b[39m\u001b[38;5;124mEnter the time of alarm to be set:HH:MM:SS\u001b[39m\u001b[38;5;130;01m\\n\u001b[39;00m\u001b[38;5;124m\"\u001b[39m)\n\u001b[0;32m      4\u001b[0m alarm_hour\u001b[38;5;241m=\u001b[39malarm_time[\u001b[38;5;241m0\u001b[39m:\u001b[38;5;241m2\u001b[39m]\n",
      "\u001b[1;31mModuleNotFoundError\u001b[0m: No module named 'playsound'"
     ]
    }
   ],
   "source": []
  },
  {
   "cell_type": "markdown",
   "metadata": {},
   "source": [
    "클래스와 인스턴스 개념"
   ]
  },
  {
   "cell_type": "code",
   "execution_count": 1,
   "metadata": {},
   "outputs": [
    {
     "name": "stdout",
     "output_type": "stream",
     "text": [
      "<class 'list'>\n",
      "True\n"
     ]
    }
   ],
   "source": [
    "list1 = [1,2,3,4,5]\n",
    "list2 = ['1','2','3','4','5']\n",
    "\n",
    "print(type(list1))\n",
    "print(isinstance(list1,list))"
   ]
  },
  {
   "cell_type": "markdown",
   "metadata": {},
   "source": [
    "클래스 정의"
   ]
  },
  {
   "cell_type": "code",
   "execution_count": 2,
   "metadata": {},
   "outputs": [],
   "source": [
    "class Member():\n",
    "    def __init__(self,name,sex,position,age):\n",
    "        self.name = name\n",
    "        self.sex = sex\n",
    "        self.position = position\n",
    "        self.age = age\n",
    "    \n",
    "    def info(self):\n",
    "        print(f\"\"\"\n",
    "        회원의 이름: {self.name}\n",
    "        성별: {self.sex}\n",
    "        위치: {self.position}\n",
    "        나이: {self.age}\n",
    "        \"\"\")"
   ]
  },
  {
   "cell_type": "code",
   "execution_count": 3,
   "metadata": {},
   "outputs": [
    {
     "ename": "TypeError",
     "evalue": "__init__() missing 4 required positional arguments: 'name', 'sex', 'position', and 'age'",
     "output_type": "error",
     "traceback": [
      "\u001b[1;31m---------------------------------------------------------------------------\u001b[0m",
      "\u001b[1;31mTypeError\u001b[0m                                 Traceback (most recent call last)",
      "Input \u001b[1;32mIn [3]\u001b[0m, in \u001b[0;36m<cell line: 1>\u001b[1;34m()\u001b[0m\n\u001b[1;32m----> 1\u001b[0m sjy \u001b[38;5;241m=\u001b[39m \u001b[43mMember\u001b[49m\u001b[43m(\u001b[49m\u001b[43m)\u001b[49m\n",
      "\u001b[1;31mTypeError\u001b[0m: __init__() missing 4 required positional arguments: 'name', 'sex', 'position', and 'age'"
     ]
    }
   ],
   "source": [
    "sjy = Member()"
   ]
  },
  {
   "cell_type": "code",
   "execution_count": 27,
   "metadata": {},
   "outputs": [],
   "source": [
    "sjy = Member('jiyong','female','ml',20)"
   ]
  },
  {
   "cell_type": "code",
   "execution_count": 28,
   "metadata": {},
   "outputs": [
    {
     "name": "stdout",
     "output_type": "stream",
     "text": [
      "\n",
      "        회원의 이름: jiyong\n",
      "        성별: female\n",
      "        위치: ml\n",
      "        나이: 20\n",
      "        \n"
     ]
    }
   ],
   "source": [
    "sjy.info()"
   ]
  },
  {
   "cell_type": "markdown",
   "metadata": {},
   "source": [
    "상속, 오버라이딩(재정의)"
   ]
  },
  {
   "cell_type": "code",
   "execution_count": 4,
   "metadata": {},
   "outputs": [],
   "source": [
    "class Charactor:\n",
    "    def __init__(self,name,age):\n",
    "        self.name = name\n",
    "        self.age = age\n",
    "    def walk(self):\n",
    "        print('이동!')\n",
    "    def eat(self):\n",
    "        print('냠냠!')"
   ]
  },
  {
   "cell_type": "code",
   "execution_count": 76,
   "metadata": {},
   "outputs": [],
   "source": [
    "class Student(Charactor):\n",
    "    def walk(self):\n",
    "        print('빠르게', end = ' ')\n",
    "        super().walk()\n",
    "    def study(self):\n",
    "        print(f'{self.name}은 공부중 !')"
   ]
  },
  {
   "cell_type": "code",
   "execution_count": 77,
   "metadata": {},
   "outputs": [],
   "source": [
    "class Teacher(Charactor):\n",
    "    def walk(self):\n",
    "        print('차분하게',end = ' ')\n",
    "        super().walk()\n",
    "    def teach(self):\n",
    "        print(f'{self.name}은 수업중!')"
   ]
  },
  {
   "cell_type": "code",
   "execution_count": 78,
   "metadata": {},
   "outputs": [
    {
     "name": "stdout",
     "output_type": "stream",
     "text": [
      "빠르게 이동!\n"
     ]
    }
   ],
   "source": [
    "sjy = Student('sjy',18)\n",
    "sjy.walk()"
   ]
  },
  {
   "cell_type": "code",
   "execution_count": 79,
   "metadata": {},
   "outputs": [
    {
     "name": "stdout",
     "output_type": "stream",
     "text": [
      "차분하게 이동!\n"
     ]
    }
   ],
   "source": [
    "pwh = Teacher('pwh',30)\n",
    "pwh.walk()"
   ]
  },
  {
   "cell_type": "code",
   "execution_count": 57,
   "metadata": {},
   "outputs": [
    {
     "data": {
      "text/plain": [
       "[__main__.Student, __main__.Charactor, object]"
      ]
     },
     "execution_count": 57,
     "metadata": {},
     "output_type": "execute_result"
    }
   ],
   "source": [
    "Student.mro()"
   ]
  },
  {
   "cell_type": "code",
   "execution_count": 89,
   "metadata": {},
   "outputs": [
    {
     "name": "stdout",
     "output_type": "stream",
     "text": [
      "마스크 개수 입력 >>7\n",
      "8개들이 포장지 개수 : 0\n",
      "5개들이 포장지 개수 : 2\n"
     ]
    }
   ],
   "source": [
    "countOfMask = int(input(\"마스크 개수 입력 >>\"))\n",
    "a = countOfMask // 8\n",
    "b = (countOfMask % 8) // 5\n",
    "c = (countOfMask % 8) % 5\n",
    "\n",
    "if c > 0:\n",
    "    b = b+1    \n",
    "        \n",
    "print(\"8개들이 포장지 개수 : {}\".format(a))\n",
    "print(\"5개들이 포장지 개수 : {}\".format(b))"
   ]
  },
  {
   "cell_type": "code",
   "execution_count": null,
   "metadata": {},
   "outputs": [],
   "source": []
  }
 ],
 "metadata": {
  "kernelspec": {
   "display_name": "Python 3 (ipykernel)",
   "language": "python",
   "name": "python3"
  },
  "language_info": {
   "codemirror_mode": {
    "name": "ipython",
    "version": 3
   },
   "file_extension": ".py",
   "mimetype": "text/x-python",
   "name": "python",
   "nbconvert_exporter": "python",
   "pygments_lexer": "ipython3",
   "version": "3.10.9"
  },
  "toc": {
   "base_numbering": 1,
   "nav_menu": {},
   "number_sections": true,
   "sideBar": true,
   "skip_h1_title": false,
   "title_cell": "Table of Contents",
   "title_sidebar": "Contents",
   "toc_cell": false,
   "toc_position": {},
   "toc_section_display": true,
   "toc_window_display": false
  },
  "varInspector": {
   "cols": {
    "lenName": 16,
    "lenType": 16,
    "lenVar": 40
   },
   "kernels_config": {
    "python": {
     "delete_cmd_postfix": "",
     "delete_cmd_prefix": "del ",
     "library": "var_list.py",
     "varRefreshCmd": "print(var_dic_list())"
    },
    "r": {
     "delete_cmd_postfix": ") ",
     "delete_cmd_prefix": "rm(",
     "library": "var_list.r",
     "varRefreshCmd": "cat(var_dic_list()) "
    }
   },
   "types_to_exclude": [
    "module",
    "function",
    "builtin_function_or_method",
    "instance",
    "_Feature"
   ],
   "window_display": false
  }
 },
 "nbformat": 4,
 "nbformat_minor": 4
}

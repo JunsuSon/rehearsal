{
 "cells": [
  {
   "cell_type": "markdown",
   "metadata": {},
   "source": [
    "## 목표\n",
    "- 변수의 개념을 이해하자\n",
    "- 여러 자료형을 변수에 대입해보자\n",
    "- 문자열 자료형과 관련 함수를 이해하자  \n",
    "- 문자열 인덱싱, 슬라이싱을 통해 값에 접근해보자"
   ]
  },
  {
   "cell_type": "markdown",
   "metadata": {},
   "source": [
    "### 변수\n",
    "- 사전의미: '변할 수 있는', '변화를 줄 수 있는'  \n",
    "- 프로그래밍 의미: 데이터를 담을 수 있는 공간"
   ]
  },
  {
   "cell_type": "markdown",
   "metadata": {},
   "source": [
    "#### 대입"
   ]
  },
  {
   "cell_type": "code",
   "metadata": {
    "jupyter": {
     "is_executing": true
    }
   },
   "source": [
    "# num 변수이름\n",
    "# = 대입 연산자\n",
    "# 저장하고 싶은 데이터값은 = 뒤에 작성\n",
    "# 대입 연산자는 뒤에서부터 앞으로 실행\n",
    "\n",
    "num = 3\n",
    "print(num)\n",
    "print(type(num))"
   ],
   "outputs": [],
   "execution_count": null
  },
  {
   "cell_type": "markdown",
   "metadata": {},
   "source": [
    "\\- 변수명 규칙"
   ]
  },
  {
   "cell_type": "code",
   "metadata": {
    "jupyter": {
     "is_executing": true
    }
   },
   "source": [
    "#1. 영문자,숫자,언더바(_)를 사용 \n",
    "#2. 영문자는 대문자 , 소문자를 다르게 인식\n",
    "\n",
    "number = 10\n",
    "Number = 20\n",
    "num_1 = 15\n",
    "print('number:',number)\n",
    "print('Number:',Number)\n",
    "print('num_1:', num_1)"
   ],
   "outputs": [],
   "execution_count": null
  },
  {
   "cell_type": "code",
   "metadata": {
    "jupyter": {
     "is_executing": true
    }
   },
   "source": [
    "# 3. 변수명은 숫자로 시작 x \n",
    "1a = 10\n",
    "1a"
   ],
   "outputs": [],
   "execution_count": null
  },
  {
   "cell_type": "code",
   "metadata": {
    "jupyter": {
     "is_executing": true
    }
   },
   "source": [
    "# 문자열로 시작하면 가능\n",
    "a1 = 10\n",
    "print(a1)"
   ],
   "outputs": [],
   "execution_count": null
  },
  {
   "cell_type": "code",
   "metadata": {
    "jupyter": {
     "is_executing": true
    }
   },
   "source": [
    "# 4. 키워드 사용 불가능\n",
    "# 파이썬 내장 함수이기때문에 이미 설정된 키워드에는 초록불이 들어옴 \n",
    "False = 30\n",
    "False"
   ],
   "outputs": [],
   "execution_count": null
  },
  {
   "cell_type": "code",
   "metadata": {
    "jupyter": {
     "is_executing": true
    }
   },
   "source": [
    "# 파이썬 키워드 보기\n",
    "import keyword\n",
    "print(keyword.kwlist)"
   ],
   "outputs": [],
   "execution_count": null
  },
  {
   "cell_type": "code",
   "metadata": {
    "jupyter": {
     "is_executing": true
    }
   },
   "source": [
    "# <권장사항>\n",
    "# 변수명의 첫글자는 항상 소문자로 한다\n",
    "# 두가지 문자를 섞어서 변수명을 만들 경우 두 단어를 구분할 수 있게 한다\n",
    "# ex) numberList, number_list"
   ],
   "outputs": [],
   "execution_count": null
  },
  {
   "cell_type": "markdown",
   "metadata": {},
   "source": [
    "#### 자료형  \n",
    "어떤 데이터 들이 담길까 ?  \n",
    "파이썬 기초 자료형 종류를 이해하자"
   ]
  },
  {
   "attachments": {},
   "cell_type": "markdown",
   "metadata": {},
   "source": []
  },
  {
   "cell_type": "markdown",
   "metadata": {},
   "source": [
    "\\- 변수에 숫자(정수) 대입"
   ]
  },
  {
   "cell_type": "code",
   "execution_count": 1,
   "metadata": {
    "ExecuteTime": {
     "end_time": "2023-07-14T05:22:05.175244Z",
     "start_time": "2023-07-14T05:22:05.141361Z"
    }
   },
   "outputs": [
    {
     "name": "stdout",
     "output_type": "stream",
     "text": [
      "25\n"
     ]
    }
   ],
   "source": [
    "# num1변수에 숫자 13\n",
    "# num2에 숫자 25 저장\n",
    "# num3에 숫자 77 저장\n",
    "\n",
    "num1 = 13\n",
    "# print(num1)\n",
    "num1 = 25\n",
    "print(num1)"
   ]
  },
  {
   "cell_type": "markdown",
   "metadata": {},
   "source": [
    "\\- 변수에 숫자(실수) 대입"
   ]
  },
  {
   "cell_type": "code",
   "execution_count": 3,
   "metadata": {},
   "outputs": [
    {
     "name": "stdout",
     "output_type": "stream",
     "text": [
      "3.1425\n",
      "1.25\n",
      "3.12\n"
     ]
    }
   ],
   "source": [
    "# num2 변수에 3.1425\n",
    "# num3 변수에 1.25 대입\n",
    "num2 = 3.1425\n",
    "num3 = 1.25\n",
    "print(num2)\n",
    "print(num3)"
   ]
  },
  {
   "cell_type": "markdown",
   "metadata": {},
   "source": [
    "\\- 변수에 문자열 대입"
   ]
  },
  {
   "cell_type": "code",
   "execution_count": 4,
   "metadata": {},
   "outputs": [
    {
     "name": "stdout",
     "output_type": "stream",
     "text": [
      "Funny python\n",
      "Easy python\n"
     ]
    }
   ],
   "source": [
    "# str1 변수 문자열 'Funny python' 대입\n",
    "str1 = 'funny python'\n",
    "# str2 변수에 숫자 'Easy python' 대입\n",
    "str2 = 'easy python'\n",
    "\n",
    "print(str1)\n",
    "print(str2)"
   ]
  },
  {
   "cell_type": "markdown",
   "metadata": {},
   "source": [
    "\\- 각각의 변수에 값 하나씩 담기"
   ]
  },
  {
   "cell_type": "code",
   "execution_count": null,
   "metadata": {},
   "outputs": [],
   "source": [
    "a1 = 10\n",
    "b1 = 15\n",
    "a2,b2 = 10,15 \n",
    "a3 = b3 = 1\n",
    "print('a1,b1: ', a1,b1)\n",
    "print('a2,b2: ',a2,b2)\n",
    "print('a3,b3: ',a3,b3)"
   ]
  },
  {
   "cell_type": "markdown",
   "metadata": {},
   "source": [
    "\\- 여러 변수에 같은 값 'python' 문자열 대입하기"
   ]
  },
  {
   "cell_type": "code",
   "execution_count": 2,
   "metadata": {
    "ExecuteTime": {
     "end_time": "2023-07-14T05:27:00.410660Z",
     "start_time": "2023-07-14T05:27:00.396698Z"
    }
   },
   "outputs": [
    {
     "name": "stdout",
     "output_type": "stream",
     "text": [
      "python1 python1\n",
      "python2 python2\n"
     ]
    }
   ],
   "source": [
    "str1 = 'python1'\n",
    "str2 = 'python1'\n",
    "print(str1, str2)\n",
    "\n",
    "str1 = str2 = 'python2'\n",
    "print(str1, str2)"
   ]
  },
  {
   "cell_type": "markdown",
   "metadata": {},
   "source": [
    "\\- 변수 실습 예제\n",
    "변수 x에는 100을 대입, 변수 y에는 200을 대입 후 변수 sum에는 두 변수의 합을 대입하여 아래와 같이 출력하시오."
   ]
  },
  {
   "cell_type": "code",
   "execution_count": 3,
   "metadata": {
    "ExecuteTime": {
     "end_time": "2023-07-14T05:28:52.746743Z",
     "start_time": "2023-07-14T05:28:52.737744Z"
    }
   },
   "outputs": [
    {
     "name": "stdout",
     "output_type": "stream",
     "text": [
      "300\n"
     ]
    }
   ],
   "source": [
    "x = 100\n",
    "y = 200\n",
    "sum1 = x + y \n",
    "print(sum1)"
   ]
  },
  {
   "cell_type": "code",
   "execution_count": 5,
   "metadata": {
    "ExecuteTime": {
     "end_time": "2023-07-14T05:29:04.740661Z",
     "start_time": "2023-07-14T05:29:04.723702Z"
    }
   },
   "outputs": [
    {
     "data": {
      "text/plain": [
       "3"
      ]
     },
     "execution_count": 5,
     "metadata": {},
     "output_type": "execute_result"
    }
   ],
   "source": [
    "sum([1,2])"
   ]
  },
  {
   "cell_type": "code",
   "execution_count": 6,
   "metadata": {
    "ExecuteTime": {
     "end_time": "2023-07-14T05:29:37.890992Z",
     "start_time": "2023-07-14T05:29:37.875039Z"
    }
   },
   "outputs": [
    {
     "name": "stdout",
     "output_type": "stream",
     "text": [
      "300\n"
     ]
    }
   ],
   "source": [
    "x = 100\n",
    "y = 200\n",
    "sum = x + y\n",
    "print(sum)"
   ]
  },
  {
   "cell_type": "code",
   "execution_count": 7,
   "metadata": {
    "ExecuteTime": {
     "end_time": "2023-07-14T05:29:46.148998Z",
     "start_time": "2023-07-14T05:29:46.135006Z"
    }
   },
   "outputs": [
    {
     "ename": "TypeError",
     "evalue": "'int' object is not callable",
     "output_type": "error",
     "traceback": [
      "\u001B[1;31m---------------------------------------------------------------------------\u001B[0m",
      "\u001B[1;31mTypeError\u001B[0m                                 Traceback (most recent call last)",
      "Cell \u001B[1;32mIn[7], line 1\u001B[0m\n\u001B[1;32m----> 1\u001B[0m \u001B[38;5;28;43msum\u001B[39;49m\u001B[43m(\u001B[49m\u001B[43m[\u001B[49m\u001B[38;5;241;43m1\u001B[39;49m\u001B[43m,\u001B[49m\u001B[38;5;241;43m2\u001B[39;49m\u001B[43m]\u001B[49m\u001B[43m)\u001B[49m\n",
      "\u001B[1;31mTypeError\u001B[0m: 'int' object is not callable"
     ]
    }
   ],
   "source": [
    "sum([1,2])"
   ]
  },
  {
   "cell_type": "markdown",
   "metadata": {},
   "source": [
    "파이썬에서 자료형을 확인하는 방법"
   ]
  },
  {
   "cell_type": "code",
   "execution_count": 7,
   "metadata": {},
   "outputs": [],
   "source": [
    "x = 100"
   ]
  },
  {
   "cell_type": "code",
   "execution_count": 8,
   "metadata": {},
   "outputs": [
    {
     "name": "stdout",
     "output_type": "stream",
     "text": [
      "===========x==========\n",
      "<class 'int'>\n",
      "True\n",
      "False\n",
      "False\n"
     ]
    }
   ],
   "source": [
    "print(\"===========x==========\")\n",
    "print(type(x))\n",
    "print(isinstance(x,int))\n",
    "print(isinstance(x,float))\n",
    "print(isinstance(x,str))"
   ]
  },
  {
   "cell_type": "code",
   "execution_count": 6,
   "metadata": {},
   "outputs": [],
   "source": [
    "x = 100\n",
    "y = 100.0\n",
    "z = '100'"
   ]
  },
  {
   "cell_type": "code",
   "execution_count": null,
   "metadata": {},
   "outputs": [],
   "source": [
    "print(\"===========x==========\")\n",
    "print(type(x))\n",
    "print(isinstance(x,int))\n",
    "print(isinstance(x,float))\n",
    "print(isinstance(x,str))\n",
    "print(\"===========y==========\")\n",
    "print(type(y))\n",
    "print(isinstance(y,int))\n",
    "print(isinstance(y,float))\n",
    "print(isinstance(y,str))\n",
    "print(\"===========z==========\")\n",
    "print(type(z))\n",
    "print(isinstance(z,int))\n",
    "print(isinstance(z,float))\n",
    "print(isinstance(z,str))"
   ]
  },
  {
   "cell_type": "code",
   "execution_count": 15,
   "metadata": {},
   "outputs": [
    {
     "name": "stdout",
     "output_type": "stream",
     "text": [
      "140720127192576\n",
      "140720127195776\n",
      "140720127195776\n"
     ]
    }
   ],
   "source": [
    "z1 = 100\n",
    "print(id(z1))\n",
    "z1 = 200\n",
    "print(id(z1))\n",
    "z2 = 200\n",
    "print(id(z1))"
   ]
  },
  {
   "cell_type": "code",
   "execution_count": 23,
   "metadata": {},
   "outputs": [
    {
     "data": {
      "text/plain": [
       "{1, 2, 3}"
      ]
     },
     "execution_count": 23,
     "metadata": {},
     "output_type": "execute_result"
    }
   ],
   "source": [
    "a = {1,2,3,3}\n",
    "a\n"
   ]
  },
  {
   "cell_type": "markdown",
   "metadata": {},
   "source": [
    "### 문자열 사용법"
   ]
  },
  {
   "attachments": {
    "image.png": {
     "image/png": "[encoded data removed]"
    }
   },
   "cell_type": "markdown",
   "metadata": {},
   "source": [
    "\\- 문자열 안에 작은 따옴표나 큰 따옴표 포함시키고 싶을때\n",
    "![image.png](attachment:image.png)"
   ]
  },
  {
   "cell_type": "code",
   "execution_count": null,
   "metadata": {},
   "outputs": [],
   "source": [
    "# 작은 따옴표 문자열 기호일때\n",
    "s1 = 'she' gone' \n",
    "# 오류나요 ! 문자열 구분이 안되고 있기때문이죠 "
   ]
  },
  {
   "cell_type": "code",
   "execution_count": null,
   "metadata": {},
   "outputs": [],
   "source": [
    "# \\' 이미 약속된 문자열조합으로 뒤에있는' 작은따옴표를 그대로 출력\n",
    "s1 = 'she\\' gone' \n",
    "print(s1)"
   ]
  },
  {
   "cell_type": "code",
   "execution_count": null,
   "metadata": {},
   "outputs": [],
   "source": [
    "# 큰 따옴표 문자열 기호일때\n",
    "s1 = \"she's gone\"\n",
    "s2 = \"she\\'s gone\"\n",
    "print(s1)\n",
    "print(s2)"
   ]
  },
  {
   "attachments": {
    "image.png": {
     "image/png": "[encoded data removed]"
    }
   },
   "cell_type": "markdown",
   "metadata": {},
   "source": [
    "![image.png](attachment:image.png)"
   ]
  },
  {
   "cell_type": "code",
   "execution_count": null,
   "metadata": {},
   "outputs": [],
   "source": [
    "# 큰따옴표 문자열에 포함하여 출력시킬 때 \n",
    "s1 = 'he said that \"she is gone\"'\n",
    "s2 = \"he said that \\\"she is gone\\\"\"\n",
    "print(s1)\n",
    "print(s2)"
   ]
  },
  {
   "cell_type": "markdown",
   "metadata": {},
   "source": [
    "\\- 줄바꿈을 포함한 여러 줄인 문자열을 변수에 대입하고 싶을때 "
   ]
  },
  {
   "cell_type": "code",
   "execution_count": 8,
   "metadata": {
    "ExecuteTime": {
     "end_time": "2023-07-14T05:40:38.518254Z",
     "start_time": "2023-07-14T05:40:38.510271Z"
    }
   },
   "outputs": [
    {
     "name": "stdout",
     "output_type": "stream",
     "text": [
      "파이썬\n",
      "- 동적언어\n",
      "- 직관적, 명시적, 간결함\n"
     ]
    }
   ],
   "source": [
    "s = \"파이썬\\n- 동적언어\\n- 직관적, 명시적, 간결함\"\n",
    "print(s)"
   ]
  },
  {
   "cell_type": "code",
   "execution_count": null,
   "metadata": {},
   "outputs": [],
   "source": [
    "#  ''' ''',\"\"\" \"\"\" 따옴표 3개 연속 사용\n",
    "# 이스케이프 코드(문자열 정의) 사용 안해도 됨"
   ]
  },
  {
   "cell_type": "code",
   "execution_count": 10,
   "metadata": {
    "ExecuteTime": {
     "end_time": "2023-07-14T05:41:32.637844Z",
     "start_time": "2023-07-14T05:41:32.623882Z"
    }
   },
   "outputs": [
    {
     "name": "stdout",
     "output_type": "stream",
     "text": [
      "파이썬\n",
      "- 동적언어\n",
      "- 직관적, 명시적, 간결함\n"
     ]
    }
   ],
   "source": [
    "s = '''파이썬\n",
    "- 동적언어\n",
    "- 직관적, 명시적, 간결함'''\n",
    "print(s)"
   ]
  },
  {
   "cell_type": "code",
   "execution_count": 11,
   "metadata": {
    "ExecuteTime": {
     "end_time": "2023-07-14T05:42:04.815811Z",
     "start_time": "2023-07-14T05:42:04.793894Z"
    }
   },
   "outputs": [
    {
     "name": "stdout",
     "output_type": "stream",
     "text": [
      "파이썬\n",
      "-\n"
     ]
    },
    {
     "ename": "NameError",
     "evalue": "name 's1' is not defined",
     "output_type": "error",
     "traceback": [
      "\u001B[1;31m---------------------------------------------------------------------------\u001B[0m",
      "\u001B[1;31mNameError\u001B[0m                                 Traceback (most recent call last)",
      "Cell \u001B[1;32mIn[11], line 2\u001B[0m\n\u001B[0;32m      1\u001B[0m \u001B[38;5;28mprint\u001B[39m(s[\u001B[38;5;241m0\u001B[39m:\u001B[38;5;241m5\u001B[39m])\n\u001B[1;32m----> 2\u001B[0m \u001B[38;5;28mprint\u001B[39m(\u001B[43ms1\u001B[49m[\u001B[38;5;241m6\u001B[39m:\u001B[38;5;241m12\u001B[39m])\n",
      "\u001B[1;31mNameError\u001B[0m: name 's1' is not defined"
     ]
    }
   ],
   "source": [
    "print(s[0:5])\n",
    "print(s1[6:12])"
   ]
  },
  {
   "cell_type": "code",
   "execution_count": 15,
   "metadata": {},
   "outputs": [
    {
     "name": "stdout",
     "output_type": "stream",
     "text": [
      "제목:풀꽃\n",
      "시인:나태주\n"
     ]
    }
   ],
   "source": [
    "print(s1[0:12])"
   ]
  },
  {
   "cell_type": "code",
   "execution_count": 7,
   "metadata": {},
   "outputs": [
    {
     "name": "stdout",
     "output_type": "stream",
     "text": [
      "제목:풀꽃\n",
      "시인:나태주\n",
      "\n",
      "자세히 보아야 예쁘다.\n",
      "오래 보아야 사랑스럽다.\n",
      "너도 그렇다.\n"
     ]
    }
   ],
   "source": [
    "s2 = \"\"\"제목:풀꽃\n",
    "시인:나태주\n",
    "\n",
    "자세히 보아야 예쁘다.\n",
    "오래 보아야 사랑스럽다.\n",
    "너도 그렇다.\"\"\"\n",
    "print(s2)"
   ]
  },
  {
   "cell_type": "markdown",
   "metadata": {},
   "source": [
    "#### 문자열 인덱싱과 슬라이싱 👏   \n",
    "- 인덱싱: 하나하나를 가리킴  \n",
    "- 슬라이싱: 범위를 지정하여 어디부터 어디까지를 잘라냄 \n",
    "\n",
    "\\* 인덱스 번호는 앞에서는 0부터 , 뒤로세면 -1부터 시작"
   ]
  },
  {
   "cell_type": "markdown",
   "metadata": {},
   "source": [
    "\\- 인덱싱"
   ]
  },
  {
   "cell_type": "code",
   "execution_count": null,
   "metadata": {},
   "outputs": [],
   "source": [
    "s = 'My name is JY'\n",
    "print(s[0]) \n",
    "print(s[8])"
   ]
  },
  {
   "cell_type": "code",
   "execution_count": null,
   "metadata": {},
   "outputs": [],
   "source": [
    "print(s[-2])\n",
    "print(s[-1])"
   ]
  },
  {
   "cell_type": "markdown",
   "metadata": {},
   "source": [
    "\\- 슬라이싱"
   ]
  },
  {
   "cell_type": "code",
   "execution_count": null,
   "metadata": {},
   "outputs": [],
   "source": [
    "# 'My','name','is' 문자열 가져오기\n",
    "\n",
    "s = 'My name is JY'\n",
    "print(s[0:2])\n",
    "print(s[3:7])\n",
    "print(s[8:10])"
   ]
  },
  {
   "cell_type": "code",
   "execution_count": null,
   "metadata": {},
   "outputs": [],
   "source": [
    "s = 'My name is JY'\n",
    "print(s[0:7])\n",
    "print(s[:7])"
   ]
  },
  {
   "cell_type": "code",
   "execution_count": null,
   "metadata": {},
   "outputs": [],
   "source": [
    "# is JY가져오기\n",
    "s = 'My name is JY'\n",
    "print(s[8:13])\n",
    "print(s[8:])\n",
    "print(s[-5:])"
   ]
  },
  {
   "cell_type": "code",
   "execution_count": null,
   "metadata": {},
   "outputs": [],
   "source": [
    "# 모든 문자열 가져오기\n",
    "s = 'My name is JY'\n",
    "print(s[0:13])\n",
    "print(s[:])"
   ]
  },
  {
   "cell_type": "markdown",
   "metadata": {},
   "source": [
    "\\- 문자열 슬라이싱 실습 예제"
   ]
  },
  {
   "cell_type": "code",
   "execution_count": null,
   "metadata": {},
   "outputs": [],
   "source": [
    "dayinfo = \"2020년 3월 3일의 날씨는 맑음입니다.\""
   ]
  },
  {
   "cell_type": "code",
   "execution_count": null,
   "metadata": {},
   "outputs": [],
   "source": [
    "print('날짜: ', dayinfo[:11])\n",
    "print(\"날씨 :\", dayinfo[17:19])\n",
    "print('날씨: ', dayinfo[-6:-4])"
   ]
  },
  {
   "cell_type": "markdown",
   "metadata": {},
   "source": [
    "#### 문자열의 특정 부분 초기화(formatting)"
   ]
  },
  {
   "cell_type": "code",
   "execution_count": null,
   "metadata": {},
   "outputs": [],
   "source": [
    "# format 함수 사용\n",
    "# 문장 안에 초기화 될 부분에 {}로 넣어줌\n",
    "# 문자열 기호 끝에 .format() 붙이고 ()안에 연결될 값 넣기 "
   ]
  },
  {
   "cell_type": "code",
   "execution_count": null,
   "metadata": {},
   "outputs": [],
   "source": [
    "month = 7\n",
    "day = 7\n",
    "s = \"오늘은 {}월 {}일 입니다.\".format(month,day)\n",
    "print(s)"
   ]
  },
  {
   "cell_type": "code",
   "execution_count": null,
   "metadata": {},
   "outputs": [],
   "source": [
    "# f문자열 포매팅 사용 \n",
    "# 문자열 기호 맨 앞에 접두사로 f를 붙임\n",
    "# 문장안에 초기화 부분은 {}로 연결하고 {}안에 넣을 값 넣기 "
   ]
  },
  {
   "cell_type": "code",
   "execution_count": null,
   "metadata": {},
   "outputs": [],
   "source": [
    "month = 7\n",
    "day = 7\n",
    "s = f\"오늘은 {month}월 {day}일 입니다.\"\n",
    "print(s)"
   ]
  },
  {
   "cell_type": "markdown",
   "metadata": {},
   "source": [
    "\\- 실습예제  \n",
    "lang변수에 ‘python’을 대입하고, 아래와 같이 출력하시오."
   ]
  },
  {
   "cell_type": "code",
   "execution_count": 6,
   "metadata": {},
   "outputs": [
    {
     "name": "stdout",
     "output_type": "stream",
     "text": [
      "Life is too short, You need 'python'\n"
     ]
    }
   ],
   "source": [
    "lang = 'python'\n",
    "s = f\"Life is too short, You need '{lang}'\"\n",
    "print(s)"
   ]
  },
  {
   "cell_type": "markdown",
   "metadata": {},
   "source": [
    "\\- 실습예제  \n",
    "변수 x에는 100을 대입, 변수 y에는 200을 대입 후 변수 sum2에는 두 변수의 합을 대입하고 포매팅을 이용하여 아래와 같이 출력하시오."
   ]
  },
  {
   "cell_type": "code",
   "execution_count": null,
   "metadata": {},
   "outputs": [],
   "source": [
    "x = 100\n",
    "y = 200\n",
    "sum2 = x + y"
   ]
  },
  {
   "cell_type": "code",
   "execution_count": null,
   "metadata": {},
   "outputs": [],
   "source": [
    "print('{}와 {}의 합은 {}입니다.'.format(x,y,sum2))\n",
    "print(f'{x}와 {y}의 합은 {sum2}입니다.')"
   ]
  },
  {
   "cell_type": "markdown",
   "metadata": {},
   "source": [
    "#### 문자열 관련 함수"
   ]
  },
  {
   "cell_type": "markdown",
   "metadata": {},
   "source": [
    "\\- count('문자')  \n",
    "문자열에 포함된 문자 개수 세기"
   ]
  },
  {
   "cell_type": "code",
   "execution_count": 12,
   "metadata": {
    "ExecuteTime": {
     "end_time": "2023-07-14T06:03:47.450135Z",
     "start_time": "2023-07-14T06:03:47.444122Z"
    }
   },
   "outputs": [
    {
     "data": {
      "text/plain": [
       "2"
      ]
     },
     "execution_count": 12,
     "metadata": {},
     "output_type": "execute_result"
    }
   ],
   "source": [
    "s = 'python is very easy.'\n",
    "\n",
    "# e 문자열이 s 문자열에 몇번 들었을까요 ?\n",
    "s.count('e')"
   ]
  },
  {
   "cell_type": "markdown",
   "metadata": {},
   "source": [
    "\\- find('문자')  \n",
    "\\- index('문자')  \n",
    "문자 위치 알려주기"
   ]
  },
  {
   "cell_type": "code",
   "execution_count": 37,
   "metadata": {},
   "outputs": [
    {
     "data": {
      "text/plain": [
       "0"
      ]
     },
     "execution_count": 37,
     "metadata": {},
     "output_type": "execute_result"
    }
   ],
   "source": [
    "s = 'python is very easy.'\n",
    "# 해당 문자열의 인덱스 위치 반환\n",
    "s.find('p') "
   ]
  },
  {
   "cell_type": "code",
   "execution_count": 38,
   "metadata": {},
   "outputs": [
    {
     "data": {
      "text/plain": [
       "-1"
      ]
     },
     "execution_count": 38,
     "metadata": {},
     "output_type": "execute_result"
    }
   ],
   "source": [
    "# find는 문자열이 없을때 : -1 반환\n",
    "s.find('z')\n"
   ]
  },
  {
   "cell_type": "code",
   "execution_count": 39,
   "metadata": {},
   "outputs": [
    {
     "data": {
      "text/plain": [
       "0"
      ]
     },
     "execution_count": 39,
     "metadata": {},
     "output_type": "execute_result"
    }
   ],
   "source": [
    "# 해당 문자열의 인덱스 위치 반환\n",
    "s.index('p')"
   ]
  },
  {
   "cell_type": "code",
   "execution_count": 40,
   "metadata": {},
   "outputs": [
    {
     "ename": "ValueError",
     "evalue": "substring not found",
     "output_type": "error",
     "traceback": [
      "\u001B[1;31m---------------------------------------------------------------------------\u001B[0m",
      "\u001B[1;31mValueError\u001B[0m                                Traceback (most recent call last)",
      "\u001B[1;32m<ipython-input-40-180b0228ee70>\u001B[0m in \u001B[0;36m<module>\u001B[1;34m\u001B[0m\n\u001B[0;32m      1\u001B[0m \u001B[1;31m# index는 문자열이 없을때 : 오류 메세지 출력\u001B[0m\u001B[1;33m\u001B[0m\u001B[1;33m\u001B[0m\u001B[1;33m\u001B[0m\u001B[0m\n\u001B[1;32m----> 2\u001B[1;33m \u001B[0ms\u001B[0m\u001B[1;33m.\u001B[0m\u001B[0mindex\u001B[0m\u001B[1;33m(\u001B[0m\u001B[1;34m'z'\u001B[0m\u001B[1;33m)\u001B[0m\u001B[1;33m\u001B[0m\u001B[1;33m\u001B[0m\u001B[0m\n\u001B[0m",
      "\u001B[1;31mValueError\u001B[0m: substring not found"
     ]
    }
   ],
   "source": [
    "# index는 문자열이 없을때 : 오류 메세지 출력\n",
    "s.index('z')"
   ]
  },
  {
   "cell_type": "markdown",
   "metadata": {},
   "source": [
    "\\- '삽입할 문자'.join(문자열)  \n",
    "각각의 문자 사이에 문자 삽입기능"
   ]
  },
  {
   "cell_type": "code",
   "execution_count": 41,
   "metadata": {},
   "outputs": [
    {
     "data": {
      "text/plain": [
       "'python is very easy.'"
      ]
     },
     "execution_count": 41,
     "metadata": {},
     "output_type": "execute_result"
    }
   ],
   "source": [
    "s"
   ]
  },
  {
   "cell_type": "code",
   "execution_count": 42,
   "metadata": {},
   "outputs": [
    {
     "data": {
      "text/plain": [
       "'p-y-t-h-o-n- -i-s- -v-e-r-y- -e-a-s-y-.'"
      ]
     },
     "execution_count": 42,
     "metadata": {},
     "output_type": "execute_result"
    }
   ],
   "source": [
    "'-'.join(s)"
   ]
  },
  {
   "cell_type": "markdown",
   "metadata": {},
   "source": [
    "\\- upper() 대문자로 변경  \n",
    "\\- lower() 소문자로 변경"
   ]
  },
  {
   "cell_type": "code",
   "execution_count": 43,
   "metadata": {},
   "outputs": [
    {
     "name": "stdout",
     "output_type": "stream",
     "text": [
      "대문자로 변경 전: python is very easy.\n",
      "대문자로 변경 후: PYTHON IS VERY EASY.\n"
     ]
    }
   ],
   "source": [
    "print('대문자로 변경 전:',s)\n",
    "s2 = s.upper()\n",
    "print('대문자로 변경 후:', s2)"
   ]
  },
  {
   "cell_type": "code",
   "execution_count": 44,
   "metadata": {},
   "outputs": [
    {
     "name": "stdout",
     "output_type": "stream",
     "text": [
      "소문자 변경 전: PYTHON IS VERY EASY.\n",
      "소문자 변경 후: python is very easy.\n"
     ]
    }
   ],
   "source": [
    "print('소문자 변경 전:', s2)\n",
    "s2 = s2.lower()\n",
    "print('소문자 변경 후:', s2)"
   ]
  },
  {
   "cell_type": "markdown",
   "metadata": {},
   "source": [
    "\\- strip()  \n",
    "문자열 양 옆에 공백 제거  \n",
    "\\- rstrip()  \n",
    "문자열 오른쪽 공백 제거  \n",
    "\\- lstrip()  \n",
    "문자열 왼쪽 공백 제거  "
   ]
  },
  {
   "cell_type": "code",
   "execution_count": 52,
   "metadata": {},
   "outputs": [
    {
     "name": "stdout",
     "output_type": "stream",
     "text": [
      "  1\n",
      "   2\n"
     ]
    }
   ],
   "source": [
    "s = ' python is very easy.  '\n",
    "print(s[0], len(s[0])) # 공백 1칸 들어감\n",
    "print(s[21:], len(s[21:])) # 공백2칸 들어감"
   ]
  },
  {
   "cell_type": "code",
   "execution_count": 51,
   "metadata": {},
   "outputs": [
    {
     "name": "stdout",
     "output_type": "stream",
     "text": [
      "python is very easy. 20\n",
      " python is very easy. 21\n",
      "python is very easy.   22\n"
     ]
    }
   ],
   "source": [
    "# 전체 문자열 길이 23\n",
    "# 문자열 전체 앞뒤 공백 제거\n",
    "print(s.strip(), len(s.strip()) ) # -3\n",
    "# 오른쪽 공백제거\n",
    "print(s.rstrip(), len(s.rstrip())) # -2\n",
    "# 왼쪽 공백 제거\n",
    "print(s.lstrip(), len(s.lstrip())) # -1"
   ]
  },
  {
   "cell_type": "markdown",
   "metadata": {},
   "source": [
    "\\- replace('찾을값','바꿀값')  \n",
    "찾을값을 찾아서 바꿔주는 기능"
   ]
  },
  {
   "cell_type": "code",
   "execution_count": 7,
   "metadata": {},
   "outputs": [],
   "source": [
    "s = 'python is very easy.'"
   ]
  },
  {
   "cell_type": "code",
   "execution_count": 8,
   "metadata": {
    "scrolled": true
   },
   "outputs": [
    {
     "data": {
      "text/plain": [
       "'python is very easy!'"
      ]
     },
     "execution_count": 8,
     "metadata": {},
     "output_type": "execute_result"
    }
   ],
   "source": [
    "# . 을 찾아서 ! 로 바꿔줌\n",
    "s.replace('.','!')"
   ]
  },
  {
   "cell_type": "markdown",
   "metadata": {},
   "source": [
    "\\- split('구분문자')  \n",
    "구분 문자를 기준으로 문자열은 분리하여 리스트 형태로 반환"
   ]
  },
  {
   "cell_type": "code",
   "execution_count": 12,
   "metadata": {},
   "outputs": [],
   "source": [
    "s2 = 'Hi, My name is JY'"
   ]
  },
  {
   "cell_type": "code",
   "execution_count": 13,
   "metadata": {},
   "outputs": [
    {
     "data": {
      "text/plain": [
       "['Hi', ' My name is JY']"
      ]
     },
     "execution_count": 13,
     "metadata": {},
     "output_type": "execute_result"
    }
   ],
   "source": [
    "s2.split(',')"
   ]
  },
  {
   "cell_type": "markdown",
   "metadata": {},
   "source": [
    "find, index 예제"
   ]
  },
  {
   "cell_type": "code",
   "execution_count": 10,
   "metadata": {},
   "outputs": [],
   "source": [
    "article = \"[요기요, 화이트데이 맞이 '선물하기' 이벤트 진행] 기사입력 2022.03.10. 작성자 이나영기자 요기요는 화이트데이를 앞두고 요기요 선물하기 서비스를 이용하는 고객들을 위한‘너와 나의 선물고리’이벤트를 진행한다고 10일 밝혔다.\""
   ]
  },
  {
   "cell_type": "code",
   "execution_count": 12,
   "metadata": {},
   "outputs": [
    {
     "name": "stdout",
     "output_type": "stream",
     "text": [
      "35\n"
     ]
    }
   ],
   "source": [
    "s_index = article.find('2022')\n",
    "print(f_index)"
   ]
  },
  {
   "cell_type": "code",
   "execution_count": 15,
   "metadata": {},
   "outputs": [
    {
     "name": "stdout",
     "output_type": "stream",
     "text": [
      "47\n"
     ]
    }
   ],
   "source": [
    "e_index = article.index('작성')\n",
    "print(e_index)"
   ]
  },
  {
   "cell_type": "code",
   "execution_count": 43,
   "metadata": {},
   "outputs": [
    {
     "name": "stdout",
     "output_type": "stream",
     "text": [
      "2\n"
     ]
    }
   ],
   "source": [
    "print(article[f_index+5])"
   ]
  },
  {
   "cell_type": "code",
   "execution_count": 23,
   "metadata": {},
   "outputs": [
    {
     "name": "stdout",
     "output_type": "stream",
     "text": [
      "기사가 업로드된 일자는 2022.03.10 입니다.\n"
     ]
    }
   ],
   "source": [
    "day = article[s_index:e_index-2]\n",
    "print(f'기사가 업로드된 일자는 {day} 입니다.')"
   ]
  },
  {
   "cell_type": "code",
   "execution_count": null,
   "metadata": {},
   "outputs": [],
   "source": [
    "\\- 실습예제  \n",
    "변수 x에는 100을 대입, 변수 y에는 200을 대입 후 변수 sum2에는 두 변수의 합을 대입하고 포매팅을 이용하여 아래와 같이 출력하시오."
   ]
  },
  {
   "cell_type": "code",
   "execution_count": null,
   "metadata": {},
   "outputs": [],
   "source": [
    "x = 100\n",
    "y = 200\n",
    "sum2 = x + y"
   ]
  },
  {
   "metadata": {
    "jupyter": {
     "is_executing": true
    }
   },
   "cell_type": "code",
   "source": [
    "# 심화! 코딩테스트 연습하고 싶은 사람용\n",
    "# 일반적으로는 input()\n",
    "# 알고리즘 문제풀이, 속도가 중요한 경우\n",
    "import sys\n",
    "\n",
    "# sys.stdin.readline() => input과 다르게 뒤에 개행문자가 포함\n",
    "# sys.stdin.readline().strip() # 개행문자 제거필요\n",
    "num = int(sys.stdin.readline().strip())\n",
    "# jupyter notebook에는 구현되어 있지 않음!"
   ],
   "outputs": [],
   "execution_count": null
  },
  {
   "metadata": {},
   "cell_type": "code",
   "outputs": [],
   "execution_count": null,
   "source": [
    "# 심화! 코딩테스트 연습하고 싶은 사람용\n",
    "# 일반적으로는 input()\n",
    "# 알고리즘 문제풀이, 속도가 중요한 경우\n",
    "import sys\n",
    "\n",
    "# sys.stdin.readline() => input과 다르게 뒤에 개행문자가 포함\n",
    "# sys.stdin.readline().strip() # 개행문자 제거필요\n",
    "num = int(sys.stdin.readline().strip())\n",
    "# jupyter notebook에는 구현되어 있지 않음!"
   ]
  },
  {
   "metadata": {},
   "cell_type": "code",
   "outputs": [],
   "execution_count": null,
   "source": ""
  }
 ],
 "metadata": {
  "kernelspec": {
   "display_name": "Python 3 (ipykernel)",
   "language": "python",
   "name": "python3"
  },
  "language_info": {
   "codemirror_mode": {
    "name": "ipython",
    "version": 3
   },
   "file_extension": ".py",
   "mimetype": "text/x-python",
   "name": "python",
   "nbconvert_exporter": "python",
   "pygments_lexer": "ipython3",
   "version": "3.10.9"
  },
  "toc": {
   "base_numbering": 1,
   "nav_menu": {
    "height": "247.857px",
    "width": "160px"
   },
   "number_sections": true,
   "sideBar": true,
   "skip_h1_title": false,
   "title_cell": "Table of Contents",
   "title_sidebar": "Contents",
   "toc_cell": false,
   "toc_position": {},
   "toc_section_display": true,
   "toc_window_display": false
  },
  "varInspector": {
   "cols": {
    "lenName": 16,
    "lenType": 16,
    "lenVar": 40
   },
   "kernels_config": {
    "python": {
     "delete_cmd_postfix": "",
     "delete_cmd_prefix": "del ",
     "library": "var_list.py",
     "varRefreshCmd": "print(var_dic_list())"
    },
    "r": {
     "delete_cmd_postfix": ") ",
     "delete_cmd_prefix": "rm(",
     "library": "var_list.r",
     "varRefreshCmd": "cat(var_dic_list()) "
    }
   },
   "types_to_exclude": [
    "module",
    "function",
    "builtin_function_or_method",
    "instance",
    "_Feature"
   ],
   "window_display": false
  },
  "widgets": {
   "application/vnd.jupyter.widget-state+json": {
    "state": {},
    "version_major": 2,
    "version_minor": 0
   }
  }
 },
 "nbformat": 4,
 "nbformat_minor": 4
}

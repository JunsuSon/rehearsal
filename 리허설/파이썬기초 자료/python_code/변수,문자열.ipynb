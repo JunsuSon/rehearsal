{
 "cells": [
  {
   "cell_type": "markdown",
   "id": "16c21c53-3e27-4e09-8187-bca305d2c0be",
   "metadata": {},
   "source": [
    "## 0.1. 목표\n",
    "- 변수의 개념을 이해하자\n",
    "- 여러 자료형을 변수에 대입해보자\n",
    "- 문자열 자료형과 관련 함수를 이해하자\n",
    "- 문자열 인덱싱, 슬라이싱을 통해 값에 접근해보자"
   ]
  },
  {
   "cell_type": "markdown",
   "id": "7ae387ce-80f0-4d36-9edd-27a64160ae4f",
   "metadata": {},
   "source": [
    "### 0.1.1. 변수\n",
    "- 사전의미 : '변할 수 있는', '변화를 줄 수 있는'\n",
    "- 프로그래밍 의미 : 데이터를 담을 수 있는 공간"
   ]
  },
  {
   "cell_type": "markdown",
   "id": "f84e5c05-2cd8-419a-86cb-ea00fc12db64",
   "metadata": {},
   "source": [
    "### 0.1.1.1. 대입"
   ]
  },
  {
   "cell_type": "code",
   "execution_count": 1,
   "id": "7f0a7f31-9e52-4692-ad75-a23ec9621fbd",
   "metadata": {},
   "outputs": [
    {
     "name": "stdout",
     "output_type": "stream",
     "text": [
      "3\n",
      "<class 'int'>\n"
     ]
    }
   ],
   "source": [
    "# num 변수이름\n",
    "# = 대입 연산자\n",
    "# 저장하고 싶은 데이터값은 = 뒤에 작성\n",
    "# 대입 연산자는 뒤에서부터 앞으로 실행\n",
    "\n",
    "num = 3\n",
    "print(num)\n",
    "print(type(num))"
   ]
  },
  {
   "cell_type": "markdown",
   "id": "e7feef63-9283-440f-a359-7bf8e4917c0c",
   "metadata": {},
   "source": [
    "#### - 변수명 규칙"
   ]
  },
  {
   "cell_type": "code",
   "execution_count": 5,
   "id": "2223bf50-e998-4cc0-a8eb-4af181a2981d",
   "metadata": {},
   "outputs": [
    {
     "name": "stdout",
     "output_type": "stream",
     "text": [
      "number : 10\n",
      "Number : 20\n",
      "num_1 : 15\n"
     ]
    }
   ],
   "source": [
    "#1. 영문자, 숫자, 언더바(_)를 사용\n",
    "#2. 영문자는 대문자, 소문자를 다르게 인식\n",
    "\n",
    "number = 10\n",
    "Number = 20\n",
    "num_1 = 15\n",
    "print('number :',number)\n",
    "print('Number :',Number)\n",
    "print('num_1 :',num_1)"
   ]
  },
  {
   "cell_type": "code",
   "execution_count": 6,
   "id": "5a688636",
   "metadata": {},
   "outputs": [
    {
     "ename": "SyntaxError",
     "evalue": "invalid decimal literal (2024427462.py, line 2)",
     "output_type": "error",
     "traceback": [
      "\u001b[1;36m  Cell \u001b[1;32mIn[6], line 2\u001b[1;36m\u001b[0m\n\u001b[1;33m    1a = 10\u001b[0m\n\u001b[1;37m    ^\u001b[0m\n\u001b[1;31mSyntaxError\u001b[0m\u001b[1;31m:\u001b[0m invalid decimal literal\n"
     ]
    }
   ],
   "source": [
    "# 3. 변수명은 숫자로 시작X\n",
    "1a = 10\n",
    "1a"
   ]
  },
  {
   "cell_type": "code",
   "execution_count": 7,
   "id": "70b7ea5c-d08f-44df-a250-12187c772d02",
   "metadata": {},
   "outputs": [
    {
     "name": "stdout",
     "output_type": "stream",
     "text": [
      "10\n"
     ]
    }
   ],
   "source": [
    "# 3.1 문자열로 시작하면 가능\n",
    "a1 = 10\n",
    "print(a1)"
   ]
  },
  {
   "cell_type": "code",
   "execution_count": 8,
   "id": "e11762f9-971a-4e83-ad9f-8789494aa7af",
   "metadata": {},
   "outputs": [
    {
     "ename": "SyntaxError",
     "evalue": "cannot assign to False (1196241444.py, line 2)",
     "output_type": "error",
     "traceback": [
      "\u001b[1;36m  Cell \u001b[1;32mIn[8], line 2\u001b[1;36m\u001b[0m\n\u001b[1;33m    False = 30\u001b[0m\n\u001b[1;37m    ^\u001b[0m\n\u001b[1;31mSyntaxError\u001b[0m\u001b[1;31m:\u001b[0m cannot assign to False\n"
     ]
    }
   ],
   "source": [
    "# 4. 키워드 사용 불가능(이미 설정된 키워드는 초록불이 들어옴)\n",
    "# 내장함수 사용 X\n",
    "False = 30\n",
    "False"
   ]
  },
  {
   "cell_type": "code",
   "execution_count": 9,
   "id": "ba84eada-f27f-4fdb-914c-2b813d2bc124",
   "metadata": {},
   "outputs": [
    {
     "name": "stdout",
     "output_type": "stream",
     "text": [
      "['False', 'None', 'True', 'and', 'as', 'assert', 'async', 'await', 'break', 'class', 'continue', 'def', 'del', 'elif', 'else', 'except', 'finally', 'for', 'from', 'global', 'if', 'import', 'in', 'is', 'lambda', 'nonlocal', 'not', 'or', 'pass', 'raise', 'return', 'try', 'while', 'with', 'yield']\n"
     ]
    }
   ],
   "source": [
    "# 파이썬 키워드 보기\n",
    "import keyword\n",
    "print(keyword.kwlist)"
   ]
  },
  {
   "cell_type": "code",
   "execution_count": 10,
   "id": "e2715bc6-18c4-4755-81bf-174abcd23926",
   "metadata": {},
   "outputs": [],
   "source": [
    "# <권장사항>\n",
    "# 변수명의 첫글자는 항상 소문자로 한다.\n",
    "# 두가지 문자를 섞어서 변수명을 만들 경우 두 단어를 구분할 수 있게 한다\n",
    "# ex) numberList(camelcase), number_list(snakecase)"
   ]
  },
  {
   "cell_type": "markdown",
   "id": "0383f552-62ae-411a-a7c2-d71483817abf",
   "metadata": {},
   "source": [
    "#### 0.1.1.2. 자료형\n",
    "어떤 데이터들이 담기는지\n",
    "파이썬 기초 자료형 종류를 이해하자!"
   ]
  },
  {
   "cell_type": "markdown",
   "id": "979a93ef-1fa5-4de1-b3ef-5a891d39d2ac",
   "metadata": {},
   "source": [
    "#### - 변수에 숫자(정수) 대입"
   ]
  },
  {
   "cell_type": "code",
   "execution_count": 12,
   "id": "d295bc34-ac16-4ad5-a4aa-45417402b090",
   "metadata": {},
   "outputs": [
    {
     "name": "stdout",
     "output_type": "stream",
     "text": [
      "13\n"
     ]
    }
   ],
   "source": [
    "# num1변수에 숫자 13\n",
    "# num2에 숫자 25\n",
    "# num3에 숫자 77\n",
    "\n",
    "num1 = 13\n",
    "print(num1)"
   ]
  },
  {
   "cell_type": "markdown",
   "id": "dcef2dcd-e6ed-4daf-a7ba-cf94b9d34c59",
   "metadata": {},
   "source": [
    "#### - 변수에 숫자(실수) 대입"
   ]
  },
  {
   "cell_type": "code",
   "execution_count": 14,
   "id": "770a7a9e-830c-48aa-91de-689984b34643",
   "metadata": {},
   "outputs": [
    {
     "name": "stdout",
     "output_type": "stream",
     "text": [
      "3.1415 1.25\n",
      "3.1415\n",
      "1.25\n"
     ]
    }
   ],
   "source": [
    "# num2 변수에 3.1415\n",
    "# num3 변수에 1.25 대입\n",
    "\n",
    "num2 = 3.1415\n",
    "num3 = 1.25\n",
    "\n",
    "print(num2, num3)\n",
    "# 파이썬의 경우 print함수는 기본적으로 개행이 이루어진다!\n",
    "print(num2)\n",
    "print(num3)\n",
    "# system.out.println / print >> java는 개행을 별도로 표기해야함"
   ]
  },
  {
   "cell_type": "markdown",
   "id": "a2d70864-9739-4fe6-a8fa-a09853a18108",
   "metadata": {},
   "source": [
    "#### - 각각의 변수에 값 하나씩 담기"
   ]
  },
  {
   "cell_type": "code",
   "execution_count": 21,
   "id": "5361f5ba-80da-43cb-9a5a-815b6746e0d9",
   "metadata": {},
   "outputs": [
    {
     "name": "stdout",
     "output_type": "stream",
     "text": [
      "a1,b1: 10 15\n",
      "a2,b2: 10 15\n",
      "a3,b3: 1 1\n"
     ]
    }
   ],
   "source": [
    "a1= 10\n",
    "b1= 15\n",
    "a2, b2 = 10, 15\n",
    "a3 = b3 = 1\n",
    "\n",
    "print('a1,b1:',a1,b1)\n",
    "print('a2,b2:',a2,b2)\n",
    "print('a3,b3:',a3,b3)"
   ]
  },
  {
   "cell_type": "markdown",
   "id": "6b1f114b-6745-4b8d-bf0b-d1fde66a48fd",
   "metadata": {},
   "source": [
    "#### - 변수에 문자열 대입"
   ]
  },
  {
   "cell_type": "code",
   "execution_count": 23,
   "id": "cf15782f-ba9c-44d5-ae69-f581f3122e74",
   "metadata": {},
   "outputs": [
    {
     "name": "stdout",
     "output_type": "stream",
     "text": [
      "Funny python , easy python\n"
     ]
    }
   ],
   "source": [
    "# str1 변수 문자열 'Funny python' 대입\n",
    "str1 = 'Funny python'\n",
    "# str2 변수에 문자 'Easy python' 대입\n",
    "str2 = 'easy python'\n",
    "\n",
    "print(str1,\",\", str2)"
   ]
  },
  {
   "cell_type": "code",
   "execution_count": 29,
   "id": "adeaaae4-23ee-486e-b726-64a16fd81007",
   "metadata": {},
   "outputs": [
    {
     "name": "stdout",
     "output_type": "stream",
     "text": [
      "python1 python1\n",
      "python2 python2\n"
     ]
    }
   ],
   "source": [
    "str3, str4 = 'python1', 'python1'\n",
    "\n",
    "str1 = str2 = 'python2'\n",
    "print(str3, str4)\n",
    "print(str1, str2)"
   ]
  },
  {
   "cell_type": "markdown",
   "id": "39209405-1d3a-4964-9244-dc8458de2af6",
   "metadata": {},
   "source": [
    "#### - 변수 실습 예제\n",
    "변수 x에는 100을 대입, y에는 200을 대입 후 변수 sum1에는 두변수의 합을 대입하여 sum1을 출력"
   ]
  },
  {
   "cell_type": "code",
   "execution_count": 30,
   "id": "377a3dd1-6fab-4e07-8049-110d5d988a41",
   "metadata": {},
   "outputs": [
    {
     "name": "stdout",
     "output_type": "stream",
     "text": [
      "300\n"
     ]
    }
   ],
   "source": [
    "x = 100\n",
    "y = 200\n",
    "sum1 = x+y\n",
    "print(sum1)"
   ]
  },
  {
   "cell_type": "code",
   "execution_count": 32,
   "id": "4cd98db0-241f-4fa2-9a38-d5fde8a7437b",
   "metadata": {},
   "outputs": [
    {
     "data": {
      "text/plain": [
       "3"
      ]
     },
     "execution_count": 32,
     "metadata": {},
     "output_type": "execute_result"
    }
   ],
   "source": [
    "sum([1,2])"
   ]
  },
  {
   "cell_type": "markdown",
   "id": "97a9bd85-2b9f-4aa3-ad6f-56ddf2db530b",
   "metadata": {},
   "source": [
    "#### 파이썬에서 자료형을 확인하는 방법"
   ]
  },
  {
   "cell_type": "code",
   "execution_count": 33,
   "id": "c87dcd6d-20c6-4570-bcef-683618b171dc",
   "metadata": {},
   "outputs": [],
   "source": [
    "x = 100"
   ]
  },
  {
   "cell_type": "code",
   "execution_count": 34,
   "id": "4a680b25-1ed4-42a0-8fcb-0fb4277298dd",
   "metadata": {},
   "outputs": [
    {
     "name": "stdout",
     "output_type": "stream",
     "text": [
      "=========x==========\n",
      "<class 'int'>\n",
      "True\n",
      "False\n",
      "False\n"
     ]
    }
   ],
   "source": [
    "print('=========x==========')\n",
    "print(type(x))\n",
    "# isinstance => 변수의 자료형이 일치하면 True, 일치하지 않으면 False를 반환해주는 함수\n",
    "print(isinstance(x,int))\n",
    "print(isinstance(x,float))\n",
    "print(isinstance(x,str))"
   ]
  },
  {
   "cell_type": "code",
   "execution_count": 35,
   "id": "41d2fdff-db6a-4175-8177-881877c674ed",
   "metadata": {},
   "outputs": [],
   "source": [
    "x= 100\n",
    "y= 100.0\n",
    "z= '100'"
   ]
  },
  {
   "cell_type": "code",
   "execution_count": 36,
   "id": "71a30307-8855-44a6-a236-20f97c97cfa9",
   "metadata": {},
   "outputs": [
    {
     "name": "stdout",
     "output_type": "stream",
     "text": [
      "===========x==========\n",
      "<class 'int'>\n",
      "True\n",
      "False\n",
      "False\n",
      "===========y==========\n",
      "<class 'float'>\n",
      "False\n",
      "True\n",
      "False\n",
      "===========z==========\n",
      "<class 'str'>\n",
      "False\n",
      "False\n",
      "True\n"
     ]
    }
   ],
   "source": [
    "print(\"===========x==========\")\n",
    "print(type(x))\n",
    "print(isinstance(x,int))\n",
    "print(isinstance(x,float))\n",
    "print(isinstance(x,str))\n",
    "print(\"===========y==========\")\n",
    "print(type(y))\n",
    "print(isinstance(y,int))\n",
    "print(isinstance(y,float))\n",
    "print(isinstance(y,str))\n",
    "print(\"===========z==========\")\n",
    "print(type(z))\n",
    "print(isinstance(z,int))\n",
    "print(isinstance(z,float))\n",
    "print(isinstance(z,str))"
   ]
  },
  {
   "cell_type": "code",
   "execution_count": 37,
   "id": "faeff50c-1e7a-4cbc-8c99-f01844c1380c",
   "metadata": {},
   "outputs": [
    {
     "name": "stdout",
     "output_type": "stream",
     "text": [
      "140715920012824\n",
      "140715920016024\n",
      "140715920016024\n"
     ]
    }
   ],
   "source": [
    "z1 = 100\n",
    "print(id(z1))\n",
    "z1 = 200\n",
    "print(id(z1))\n",
    "z2 = 200\n",
    "print(id(z1))"
   ]
  },
  {
   "cell_type": "markdown",
   "id": "ac38a031-6720-4526-b65d-2bf3ca465463",
   "metadata": {},
   "source": [
    "### 0.1.2. 문자열 사용법\n",
    " - 문자열 안에 작은 따옴표나 큰 따옴표를 포함시키고 싶을 때\n",
    "## She's gone"
   ]
  },
  {
   "cell_type": "code",
   "execution_count": 38,
   "id": "e5d795d5-d571-4f27-92a9-9f5432483d40",
   "metadata": {},
   "outputs": [
    {
     "ename": "SyntaxError",
     "evalue": "unterminated string literal (detected at line 2) (1377434495.py, line 2)",
     "output_type": "error",
     "traceback": [
      "\u001b[1;36m  Cell \u001b[1;32mIn[38], line 2\u001b[1;36m\u001b[0m\n\u001b[1;33m    s1 = 'she's gone'\u001b[0m\n\u001b[1;37m                    ^\u001b[0m\n\u001b[1;31mSyntaxError\u001b[0m\u001b[1;31m:\u001b[0m unterminated string literal (detected at line 2)\n"
     ]
    }
   ],
   "source": [
    "# 작은 따옴표 문자열 기호일 때\n",
    "s1 = 'she's gone'\n",
    "# 오류! 문자열 구분이 되지 않기 때문!"
   ]
  },
  {
   "cell_type": "code",
   "execution_count": 40,
   "id": "d01c7cb0-02cf-49a2-ba2d-0892accd6c74",
   "metadata": {},
   "outputs": [
    {
     "name": "stdout",
     "output_type": "stream",
     "text": [
      "she's gone\n"
     ]
    }
   ],
   "source": [
    "# 이스케이프 코드\n",
    "# \\' 이미 약속된 문자열조합으로 뒤에있는 작은따옴표를 그대로 출력!\n",
    "s1 = 'she\\'s gone'\n",
    "print(s1)"
   ]
  },
  {
   "cell_type": "code",
   "execution_count": 42,
   "id": "6364b038-0dd7-4cd9-be8e-c18e0abd1f4d",
   "metadata": {},
   "outputs": [
    {
     "name": "stdout",
     "output_type": "stream",
     "text": [
      "she's gone\n",
      "she's gone\n"
     ]
    }
   ],
   "source": [
    "# 큰 따옴표 문자열 기호일 때\n",
    "s1 = \"she's gone\"\n",
    "s2 = \"she\\'s gone\"\n",
    "\n",
    "print(s1)\n",
    "print(s2)"
   ]
  },
  {
   "cell_type": "markdown",
   "id": "90ccb96d-f37d-4eda-93e3-460888df1ae5",
   "metadata": {},
   "source": [
    "## he said that \"she is gone\""
   ]
  },
  {
   "cell_type": "code",
   "execution_count": 44,
   "id": "020e5276-b519-4a74-a63f-fe991b0c6743",
   "metadata": {},
   "outputs": [
    {
     "name": "stdout",
     "output_type": "stream",
     "text": [
      "he said that \"she is gone\"\n",
      "she's gone\n"
     ]
    }
   ],
   "source": [
    "# 큰 따옴표 문자열에 포함시켜 출력할 때\n",
    "s1 = 'he said that \"she is gone\"'\n",
    "s1 = \"he said that \\\"she is gone\\\"\"\n",
    "\n",
    "print(s1)\n",
    "print(s2)"
   ]
  },
  {
   "cell_type": "markdown",
   "id": "afaecc90-cebf-4b15-86e3-39bff58e0883",
   "metadata": {},
   "source": [
    "#### - 줄바꿈을 포함한 여러 줄인 문자열을 변수에 대입하고 싶을 때\n",
    "\n",
    "#### 파이썬\n",
    "#### - 동적언어\n",
    "#### - 직관적, 명시적, 간결함\n"
   ]
  },
  {
   "cell_type": "code",
   "execution_count": 45,
   "id": "fb73e923-2991-4f37-8f56-cb0ae028d4fb",
   "metadata": {},
   "outputs": [
    {
     "name": "stdout",
     "output_type": "stream",
     "text": [
      "파이썬\n",
      "- 동적언어\n",
      "- 직관적, 명시적, 간결함\n"
     ]
    }
   ],
   "source": [
    "s = \"파이썬\\n- 동적언어\\n- 직관적, 명시적, 간결함\"\n",
    "print(s)"
   ]
  },
  {
   "cell_type": "code",
   "execution_count": 46,
   "id": "813cabd3-625a-4f08-b2ec-47d430c900fa",
   "metadata": {},
   "outputs": [],
   "source": [
    "# ''' ''', \"\"\" \"\"\" 따옴표 3개 연속 사용(멀티라인 문자열)\n",
    "# 이스케이프 코드(문자열 정의) 사용 안해도 됨"
   ]
  },
  {
   "cell_type": "code",
   "execution_count": 47,
   "id": "9051a519-07c5-464e-9102-28a32379671b",
   "metadata": {},
   "outputs": [
    {
     "name": "stdout",
     "output_type": "stream",
     "text": [
      "파이썬\n",
      "- 동적언어\n",
      "- 직관적, 명시적, 간결함\n"
     ]
    }
   ],
   "source": [
    "s = '''파이썬\n",
    "- 동적언어\n",
    "- 직관적, 명시적, 간결함'''\n",
    "print(s)"
   ]
  },
  {
   "cell_type": "markdown",
   "id": "a68f3916-25f1-443e-9186-0942ee68eba0",
   "metadata": {},
   "source": [
    "#### 0.1.2.1. 문자열 인덱싱과 슬라이싱\n",
    "- 인덱싱 : 하나하나를 가리킴\n",
    "- 슬라이싱 : 범위를 지정하여 어디부터 어디까지를 잘라냄\n",
    "\n",
    "※ 인덱스 번호는 앞에서는 0부터, 뒤에서는 -1 부터 시작"
   ]
  },
  {
   "cell_type": "markdown",
   "id": "01d397ec-6245-4f00-bee9-f167ae3cbc79",
   "metadata": {},
   "source": [
    "#### 인덱싱"
   ]
  },
  {
   "cell_type": "code",
   "execution_count": 48,
   "id": "e68245b7-f901-4618-b14e-15f46ae5b323",
   "metadata": {},
   "outputs": [
    {
     "name": "stdout",
     "output_type": "stream",
     "text": [
      "M\n"
     ]
    }
   ],
   "source": [
    "s = 'My name is JY' # list(배열) s = [M,y, ,n,a,m,e, ,i,s, ,J,Y]\n",
    "# M을 출력 \n",
    "print(s[0])"
   ]
  },
  {
   "cell_type": "code",
   "execution_count": 49,
   "id": "c862da71-20e6-4822-ab08-8d5d138da802",
   "metadata": {},
   "outputs": [
    {
     "name": "stdout",
     "output_type": "stream",
     "text": [
      "i\n"
     ]
    }
   ],
   "source": [
    "# i를 출력\n",
    "print(s[8])"
   ]
  },
  {
   "cell_type": "markdown",
   "id": "d6224a12-a1e0-4f8d-8add-d4f4c33520dd",
   "metadata": {},
   "source": [
    "#### - 슬라이싱"
   ]
  },
  {
   "cell_type": "code",
   "execution_count": 51,
   "id": "d3ae10c8-57fc-48da-a97b-cb405ef3b44e",
   "metadata": {},
   "outputs": [
    {
     "name": "stdout",
     "output_type": "stream",
     "text": [
      "My\n"
     ]
    }
   ],
   "source": [
    "s = 'My name is JY' # list(배열) s = [M,y, ,n,a,m,e, ,i,s, ,J,Y]\n",
    "# 인덱싱은 하나를 가져온다, 슬라이싱 구간을 가져온다\n",
    "# 'My'\n",
    "print(s[0:2]) # 슬라이싱은 끝값을 포함하지 않는다! 첫값이상 끝값미만"
   ]
  },
  {
   "cell_type": "code",
   "execution_count": 52,
   "id": "e58faab8-70c9-43b8-a644-d7d4f4d72f30",
   "metadata": {},
   "outputs": [],
   "source": [
    "# 'name', 'is' 가져와보기!"
   ]
  },
  {
   "cell_type": "code",
   "execution_count": null,
   "id": "9dbffba6-b88c-4a62-8b7d-261427c62694",
   "metadata": {},
   "outputs": [],
   "source": [
    "# 역방향으로도 가져와보기!"
   ]
  },
  {
   "cell_type": "code",
   "execution_count": 60,
   "id": "fb5d2f3d-ab0f-423b-93b2-897fabca981d",
   "metadata": {},
   "outputs": [
    {
     "name": "stdout",
     "output_type": "stream",
     "text": [
      "My name is JY\n",
      "y name is JY\n",
      "My name is\n",
      "My name is\n"
     ]
    }
   ],
   "source": [
    "# 전체문자열 가져오기\n",
    "print(s[:]) # 범위를 지정하지 않으면 한쪽방향의 끝까지 가져온다\n",
    "print(s[1:])\n",
    "print(s[:10])\n",
    "print(s[:-3])"
   ]
  },
  {
   "cell_type": "code",
   "execution_count": null,
   "id": "c8d4fb43-8138-40cb-b261-256a30d1e608",
   "metadata": {},
   "outputs": [],
   "source": [
    "dayinfo = '2024년 12월 09일의 날씨는 눈입니다.\"\n",
    "# 날짜 : 2024년 12월 09일\n",
    "# 날씨 : 맑음\n",
    "# 날씨는 정,역방향 모두 출력!"
   ]
  },
  {
   "cell_type": "code",
   "execution_count": null,
   "id": "af36e8bf-530b-4402-9e67-78b805b1b7b3",
   "metadata": {},
   "outputs": [],
   "source": []
  },
  {
   "cell_type": "code",
   "execution_count": null,
   "id": "00b92c31-8f86-4d8e-a9e5-e0a951018208",
   "metadata": {},
   "outputs": [],
   "source": []
  },
  {
   "cell_type": "code",
   "execution_count": null,
   "id": "d8f53f88-f6ca-4c23-bb99-ec3e33623c41",
   "metadata": {},
   "outputs": [],
   "source": []
  },
  {
   "cell_type": "code",
   "execution_count": null,
   "id": "070c7527-b1ed-4a33-b9ed-4cf9acd1dc6f",
   "metadata": {},
   "outputs": [],
   "source": []
  },
  {
   "cell_type": "code",
   "execution_count": null,
   "id": "32263611-f957-4f94-9fd0-e1511b9d281e",
   "metadata": {},
   "outputs": [],
   "source": []
  },
  {
   "cell_type": "code",
   "execution_count": null,
   "id": "88194dd5-cffb-4060-9b3e-62baec1e65a2",
   "metadata": {},
   "outputs": [],
   "source": []
  },
  {
   "cell_type": "code",
   "execution_count": null,
   "id": "6cbb9aef-e086-4b8a-83ba-97d5b1175583",
   "metadata": {},
   "outputs": [],
   "source": []
  }
 ],
 "metadata": {
  "kernelspec": {
   "display_name": "Python 3 (ipykernel)",
   "language": "python",
   "name": "python3"
  },
  "language_info": {
   "codemirror_mode": {
    "name": "ipython",
    "version": 3
   },
   "file_extension": ".py",
   "mimetype": "text/x-python",
   "name": "python",
   "nbconvert_exporter": "python",
   "pygments_lexer": "ipython3",
   "version": "3.12.7"
  }
 },
 "nbformat": 4,
 "nbformat_minor": 5
}

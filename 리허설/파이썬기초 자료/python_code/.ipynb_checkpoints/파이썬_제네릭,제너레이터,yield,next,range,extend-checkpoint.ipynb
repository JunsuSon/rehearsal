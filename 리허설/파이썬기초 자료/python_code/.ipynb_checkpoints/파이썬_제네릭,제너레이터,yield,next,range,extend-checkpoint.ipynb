{
 "cells": [
  {
   "cell_type": "markdown",
   "id": "27f586ae",
   "metadata": {},
   "source": [
    "### 제네릭 프로그래밍\n",
    "제네릭이란 파라미터의 타입이 나중에 지어되게 해서 재활용성을 높일 수 있는 프로그래밍 스타일  \n",
    "  \n",
    "<font color = 'red'>파이썬은 동적 타이핑 언어이기 때문에 제네릭이 필요 없다.</font>   \n",
    "하지만 동적 타이핑의 장점이자 단점은 얼핏 사용하기엔 매우 편하지만 코드의 복잡도가 높아질수록 혼란을 가중시킨다는 점이다. 타입을 아예 명시하지 않으면 가독성을 낮추고 버그 발생 확률이 높아진다. 따라서 다음과 같이 타입을 명시할 수 있다."
   ]
  },
  {
   "cell_type": "code",
   "execution_count": 2,
   "id": "b572ee07",
   "metadata": {},
   "outputs": [
    {
     "data": {
      "text/plain": [
       "True"
      ]
     },
     "execution_count": 2,
     "metadata": {},
     "output_type": "execute_result"
    }
   ],
   "source": [
    "# 파이썬은 동적 타이핑 언어지만 \n",
    "#이처럼 타입을 명시하게 되면 가독성이 좋아지며 버그 발생 확률을 줄일 수 있다.\n",
    "\n",
    "from typing import TypeVar\n",
    "\n",
    "T = TypeVar('T') # <-- 'T' can be any type\n",
    "U = TypeVar('A',int,str) # <-- 'A' will be either str or int\n",
    "\n",
    "def are_equal(a:T, b:U) ->bool:\n",
    "    return a==b\n",
    "\n",
    "are_equal(10,10.0)"
   ]
  },
  {
   "cell_type": "code",
   "execution_count": null,
   "id": "feba199d",
   "metadata": {},
   "outputs": [],
   "source": []
  }
 ],
 "metadata": {
  "kernelspec": {
   "display_name": "Python 3",
   "language": "python",
   "name": "python3"
  },
  "language_info": {
   "codemirror_mode": {
    "name": "ipython",
    "version": 3
   },
   "file_extension": ".py",
   "mimetype": "text/x-python",
   "name": "python",
   "nbconvert_exporter": "python",
   "pygments_lexer": "ipython3",
   "version": "3.7.11"
  }
 },
 "nbformat": 4,
 "nbformat_minor": 5
}

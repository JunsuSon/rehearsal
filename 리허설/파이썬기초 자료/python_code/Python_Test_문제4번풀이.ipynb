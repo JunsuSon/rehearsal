{
 "cells": [
  {
   "cell_type": "markdown",
   "id": "fc2237c7",
   "metadata": {},
   "source": [
    "### 문제4) \n",
    "다음 score_list에 들어있는 데이터를 이용해 아래와 같이 성적표를 만드는 프로그\n",
    "램을 작성하시오. (단, 학생의 숫자가 늘어나도 동작할 수 있도록 고려하시오.)"
   ]
  },
  {
   "cell_type": "markdown",
   "id": "6646eee8",
   "metadata": {},
   "source": [
    "- 파이썬 기초로 풀어보기"
   ]
  },
  {
   "cell_type": "code",
   "execution_count": 24,
   "id": "cc366c90",
   "metadata": {
    "ExecuteTime": {
     "end_time": "2023-08-11T00:46:38.897224Z",
     "start_time": "2023-08-11T00:46:38.880264Z"
    }
   },
   "outputs": [
    {
     "name": "stdout",
     "output_type": "stream",
     "text": [
      "=================================================\n",
      "이름\tPython\tJava\tDB\t평균\t학점\n",
      "=================================================\n",
      "김미희\t89\t78\t99\t88\tB\n",
      "서대희\t67\t88\t77\t77\tC\n",
      "강예진\t100\t55\t96\t83\tB\n",
      "손지영\t75\t100\t60\t78\tC\n",
      "=================================================\n",
      "평균\t82\t80\t83\n"
     ]
    }
   ],
   "source": [
    "score_list = [[\"김미희\",89,78,99],[\"서대희\",67,88,77],[\"강예진\",100,55,96],[\"손지영\",75,100,60]]\n",
    "print(\"=\"*49)\n",
    "print(\"이름\\tPython\\tJava\\tDB\\t평균\\t학점\")\n",
    "print(\"=\"*49)\n",
    "# 학생별 평균 및 학점출력\n",
    "total =0 ; grade = ''\n",
    "for score in score_list:\n",
    "    total = (score[1]+score[2]+score[3])//3 \n",
    "    if total >= 90:\n",
    "        grade = \"A\"\n",
    "    elif total >= 80:\n",
    "        grade = \"B\"\n",
    "    elif total >= 70:\n",
    "        grade = \"C\"\n",
    "    elif total >= 60:\n",
    "        grade = \"D\"\n",
    "    else:\n",
    "        grade = \"F\"\n",
    "    print(f'{score[0]}\\t{score[1]}\\t{score[2]}\\t{score[3]}\\t{total}\\t{grade}')\n",
    "print(\"=\"*49)\n",
    "\n",
    "# 과목별 평균 출력을 위해 총합담을 변수 선언 \n",
    "# += 는 선언이 되어 있어야 누적이 가능함\n",
    "p_sum = j_sum = d_sum  = 0\n",
    "for score in score_list:\n",
    "    p_sum += score[1] # python 과목 인덱스 1 , 과목별 순서는 변하지도 않고 늘어나지도 않음\n",
    "    j_sum += score[2] # java 과목 인덱스 2\n",
    "    d_sum += score[3] # db 과목 인덱스 3\n",
    "    \n",
    "print(f\"평균\\t{p_sum//len(score_list)}\\t{j_sum//len(score_list)}\\t{d_sum//len(score_list)}\")"
   ]
  },
  {
   "cell_type": "markdown",
   "id": "4ec0222b",
   "metadata": {},
   "source": [
    "- pandas 로 풀어보기"
   ]
  },
  {
   "cell_type": "code",
   "execution_count": 44,
   "id": "a41b0c61",
   "metadata": {
    "ExecuteTime": {
     "end_time": "2023-08-11T01:56:08.134747Z",
     "start_time": "2023-08-11T01:56:08.110812Z"
    }
   },
   "outputs": [
    {
     "data": {
      "text/html": [
       "<div>\n",
       "<style scoped>\n",
       "    .dataframe tbody tr th:only-of-type {\n",
       "        vertical-align: middle;\n",
       "    }\n",
       "\n",
       "    .dataframe tbody tr th {\n",
       "        vertical-align: top;\n",
       "    }\n",
       "\n",
       "    .dataframe thead th {\n",
       "        text-align: right;\n",
       "    }\n",
       "</style>\n",
       "<table border=\"1\" class=\"dataframe\">\n",
       "  <thead>\n",
       "    <tr style=\"text-align: right;\">\n",
       "      <th></th>\n",
       "      <th>Python</th>\n",
       "      <th>Java</th>\n",
       "      <th>DB</th>\n",
       "      <th>평균</th>\n",
       "      <th>학점</th>\n",
       "    </tr>\n",
       "    <tr>\n",
       "      <th>이름</th>\n",
       "      <th></th>\n",
       "      <th></th>\n",
       "      <th></th>\n",
       "      <th></th>\n",
       "      <th></th>\n",
       "    </tr>\n",
       "  </thead>\n",
       "  <tbody>\n",
       "    <tr>\n",
       "      <th>김미희</th>\n",
       "      <td>89.00</td>\n",
       "      <td>78.00</td>\n",
       "      <td>99.0</td>\n",
       "      <td>88.0</td>\n",
       "      <td>B</td>\n",
       "    </tr>\n",
       "    <tr>\n",
       "      <th>서대희</th>\n",
       "      <td>67.00</td>\n",
       "      <td>88.00</td>\n",
       "      <td>77.0</td>\n",
       "      <td>77.0</td>\n",
       "      <td>C</td>\n",
       "    </tr>\n",
       "    <tr>\n",
       "      <th>강예진</th>\n",
       "      <td>100.00</td>\n",
       "      <td>55.00</td>\n",
       "      <td>96.0</td>\n",
       "      <td>83.0</td>\n",
       "      <td>B</td>\n",
       "    </tr>\n",
       "    <tr>\n",
       "      <th>손지영</th>\n",
       "      <td>75.00</td>\n",
       "      <td>100.00</td>\n",
       "      <td>60.0</td>\n",
       "      <td>78.0</td>\n",
       "      <td>C</td>\n",
       "    </tr>\n",
       "    <tr>\n",
       "      <th>평균</th>\n",
       "      <td>82.75</td>\n",
       "      <td>80.25</td>\n",
       "      <td>83.0</td>\n",
       "      <td>NaN</td>\n",
       "      <td>NaN</td>\n",
       "    </tr>\n",
       "  </tbody>\n",
       "</table>\n",
       "</div>"
      ],
      "text/plain": [
       "     Python    Java    DB    평균   학점\n",
       "이름                                  \n",
       "김미희   89.00   78.00  99.0  88.0    B\n",
       "서대희   67.00   88.00  77.0  77.0    C\n",
       "강예진  100.00   55.00  96.0  83.0    B\n",
       "손지영   75.00  100.00  60.0  78.0    C\n",
       "평균    82.75   80.25  83.0   NaN  NaN"
      ]
     },
     "execution_count": 44,
     "metadata": {},
     "output_type": "execute_result"
    }
   ],
   "source": [
    "import pandas as pd\n",
    "score_list = [[\"김미희\",89,78,99],[\"서대희\",67,88,77],[\"강예진\",100,55,96],[\"손지영\",75,100,60]]\n",
    "\n",
    "score_df = pd.DataFrame(score_list, columns = ['이름','Python','Java','DB'])\n",
    "score_df.set_index('이름', inplace=True)\n",
    "# 평균 컬럼 추가 \n",
    "score_df['평균'] = score_df.sum(axis = 1)//3\n",
    "\n",
    "# apply 함수 적용, 학점 계산 사용자 정의함수 생성\n",
    "def grade_check(mean):\n",
    "    if mean >=90:\n",
    "        return 'A'\n",
    "    elif mean >=80:\n",
    "        return 'B'\n",
    "    elif mean >= 70:\n",
    "        return 'C'\n",
    "    elif mean >= 60:\n",
    "        return 'D'\n",
    "    else:\n",
    "        return 'F'\n",
    "score_df['학점'] = score_df['평균'].apply(grade_check)\n",
    "score_df\n",
    "\n",
    "# 과목별 평균 구하기\n",
    "score_df.loc['평균'] = cat_mean\n",
    "score_df # 데이터 개수가 맞지 않아서 오류는 나지 않지만, nan 결측치로 들어감"
   ]
  }
 ],
 "metadata": {
  "kernelspec": {
   "display_name": "Python 3 (ipykernel)",
   "language": "python",
   "name": "python3"
  },
  "language_info": {
   "codemirror_mode": {
    "name": "ipython",
    "version": 3
   },
   "file_extension": ".py",
   "mimetype": "text/x-python",
   "name": "python",
   "nbconvert_exporter": "python",
   "pygments_lexer": "ipython3",
   "version": "3.8.17"
  },
  "toc": {
   "base_numbering": 1,
   "nav_menu": {},
   "number_sections": true,
   "sideBar": true,
   "skip_h1_title": false,
   "title_cell": "Table of Contents",
   "title_sidebar": "Contents",
   "toc_cell": false,
   "toc_position": {},
   "toc_section_display": true,
   "toc_window_display": false
  },
  "varInspector": {
   "cols": {
    "lenName": 16,
    "lenType": 16,
    "lenVar": 40
   },
   "kernels_config": {
    "python": {
     "delete_cmd_postfix": "",
     "delete_cmd_prefix": "del ",
     "library": "var_list.py",
     "varRefreshCmd": "print(var_dic_list())"
    },
    "r": {
     "delete_cmd_postfix": ") ",
     "delete_cmd_prefix": "rm(",
     "library": "var_list.r",
     "varRefreshCmd": "cat(var_dic_list()) "
    }
   },
   "types_to_exclude": [
    "module",
    "function",
    "builtin_function_or_method",
    "instance",
    "_Feature"
   ],
   "window_display": false
  }
 },
 "nbformat": 4,
 "nbformat_minor": 5
}

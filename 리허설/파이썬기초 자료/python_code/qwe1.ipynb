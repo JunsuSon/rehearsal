{
 "cells": [
  {
   "cell_type": "code",
   "execution_count": null,
   "id": "initial_id",
   "metadata": {
    "collapsed": true
   },
   "outputs": [],
   "source": [
    ""
   ]
  },
  {
   "metadata": {
    "jupyter": {
     "is_executing": true
    }
   },
   "cell_type": "code",
   "source": [
    "# 심화! 코딩테스트 연습하고 싶은 사람용\n",
    "# 일반적으로는 input()\n",
    "# 알고리즘 문제풀이, 속도가 중요한 경우\n",
    "import sys\n",
    "\n",
    "# sys.stdin.readline() => input과 다르게 뒤에 개행문자가 포함\n",
    "# sys.stdin.readline().strip() # 개행문자 제거필요\n",
    "num = int(sys.stdin.readline().strip())\n",
    "# jupyter notebook에는 구현되어 있지 않음!\n",
    "print(num)"
   ],
   "id": "4f1a4da1a4575071",
   "outputs": [],
   "execution_count": null
  },
  {
   "metadata": {},
   "cell_type": "code",
   "outputs": [],
   "execution_count": null,
   "source": "",
   "id": "6ae39f46343fe594"
  }
 ],
 "metadata": {
  "kernelspec": {
   "display_name": "Python 3",
   "language": "python",
   "name": "python3"
  },
  "language_info": {
   "codemirror_mode": {
    "name": "ipython",
    "version": 2
   },
   "file_extension": ".py",
   "mimetype": "text/x-python",
   "name": "python",
   "nbconvert_exporter": "python",
   "pygments_lexer": "ipython2",
   "version": "2.7.6"
  }
 },
 "nbformat": 4,
 "nbformat_minor": 5
}

{
 "cells": [
  {
   "cell_type": "markdown",
   "metadata": {},
   "source": [
    "1. 두 개의 정수와 연산자를 입력받은 후, 입력한 연산자에 따라 연산결과가 나오는 프로그램을 작성하시오."
   ]
  },
  {
   "cell_type": "code",
   "execution_count": 1,
   "metadata": {},
   "outputs": [
    {
     "name": "stdout",
     "output_type": "stream",
     "text": [
      "==== 사칙연산 (+,-,*,/) ====\n",
      "첫번째 정수입력: 7\n",
      "두번째 정수입력: 2\n",
      "연산자 입력: /\n",
      "연산결과: 3.5\n"
     ]
    }
   ],
   "source": [
    "\n",
    "print(\"==== 사칙연산 (+,-,*,/) ====\")\n",
    "num1 = int(input(\"첫번째 정수입력: \"))\n",
    "num2 = int(input(\"두번째 정수입력: \"))\n",
    "cal = input(\"연산자 입력: \")\n",
    "\n",
    "if cal == \"+\":\n",
    "    result = num1 + num2\n",
    "elif cal == \"-\":\n",
    "    result = num1 - num2\n",
    "elif cal == \"*\":\n",
    "    result = num1 * num2\n",
    "else:\n",
    "    result = num1 / num2\n",
    "\n",
    "print(\"연산결과: {}\".format(result))\n"
   ]
  },
  {
   "cell_type": "markdown",
   "metadata": {},
   "source": [
    "9.아래와 같이 구구단 7단을 출력하는 프로그램을 작성하시오."
   ]
  },
  {
   "cell_type": "code",
   "execution_count": 3,
   "metadata": {},
   "outputs": [
    {
     "name": "stdout",
     "output_type": "stream",
     "text": [
      "7 * 1 = 7 7 * 2 = 14 7 * 3 = 21 7 * 4 = 28 7 * 5 = 35 7 * 6 = 42 7 * 7 = 49 7 * 8 = 56 7 * 9 = 63 "
     ]
    }
   ],
   "source": [
    "for i in range(1,10):\n",
    "    print(\"7 * {} = {}\".format(i,7*i), end = \" \")"
   ]
  },
  {
   "cell_type": "markdown",
   "metadata": {},
   "source": [
    "9(응용). 아래와 같이 2단~9단을 출력하는 프로그램을 작성하시오\n",
    " (간격은 달라도 됩니다)"
   ]
  },
  {
   "cell_type": "code",
   "execution_count": 7,
   "metadata": {},
   "outputs": [
    {
     "name": "stdout",
     "output_type": "stream",
     "text": [
      "2*1=2\t3*1=3\t4*1=4\t5*1=5\t6*1=6\t7*1=7\t8*1=8\t9*1=9\t\n",
      "2*2=4\t3*2=6\t4*2=8\t5*2=10\t6*2=12\t7*2=14\t8*2=16\t9*2=18\t\n",
      "2*3=6\t3*3=9\t4*3=12\t5*3=15\t6*3=18\t7*3=21\t8*3=24\t9*3=27\t\n",
      "2*4=8\t3*4=12\t4*4=16\t5*4=20\t6*4=24\t7*4=28\t8*4=32\t9*4=36\t\n",
      "2*5=10\t3*5=15\t4*5=20\t5*5=25\t6*5=30\t7*5=35\t8*5=40\t9*5=45\t\n",
      "2*6=12\t3*6=18\t4*6=24\t5*6=30\t6*6=36\t7*6=42\t8*6=48\t9*6=54\t\n",
      "2*7=14\t3*7=21\t4*7=28\t5*7=35\t6*7=42\t7*7=49\t8*7=56\t9*7=63\t\n",
      "2*8=16\t3*8=24\t4*8=32\t5*8=40\t6*8=48\t7*8=56\t8*8=64\t9*8=72\t\n",
      "2*9=18\t3*9=27\t4*9=36\t5*9=45\t6*9=54\t7*9=63\t8*9=72\t9*9=81\t\n"
     ]
    }
   ],
   "source": [
    "for i in range(1,10):\n",
    "    for j in range(2,10):\n",
    "        print(\"{}*{}={}\".format(j,i,i*j), end =\"\\t\")\n",
    "    print()"
   ]
  },
  {
   "cell_type": "markdown",
   "metadata": {},
   "source": [
    "10.아래와 같이 리스트를 만들고 요소의 짝수/홀수를 구분하여 개수를 세는 프로그램을 작성하시오."
   ]
  },
  {
   "attachments": {
    "image.png": {
     "image/png": "[encoded data removed]"
    }
   },
   "cell_type": "markdown",
   "metadata": {},
   "source": [
    "![image.png](attachment:image.png)"
   ]
  },
  {
   "cell_type": "code",
   "execution_count": 8,
   "metadata": {},
   "outputs": [],
   "source": [
    "list1 = [1,30,7,9,17,3,5,23,44]"
   ]
  },
  {
   "cell_type": "code",
   "execution_count": 13,
   "metadata": {},
   "outputs": [
    {
     "name": "stdout",
     "output_type": "stream",
     "text": [
      "홀수: 7, 짝수: 2\n"
     ]
    }
   ],
   "source": [
    "# 홀수 \n",
    "a_cnt = 0\n",
    "# 짝수 \n",
    "b_cnt = 0\n",
    "for i in list1:\n",
    "    if i %2 == 1:\n",
    "        a_cnt +=1\n",
    "    else :\n",
    "        b_cnt +=1\n",
    "print(\"홀수: {}, 짝수: {}\".format(a_cnt,b_cnt))"
   ]
  },
  {
   "cell_type": "code",
   "execution_count": 101,
   "metadata": {},
   "outputs": [
    {
     "name": "stdout",
     "output_type": "stream",
     "text": [
      "=================================================\n",
      "이름\tPython\tJava\tDB\t평균\t학점\n",
      "=================================================\n",
      "김미희 \t 89 \t 78 \t 99 \t 88 \t B\n",
      "황해도 \t 67 \t 88 \t 77 \t 77 \t C\n",
      "박병관 \t 100 \t 55 \t 96 \t 83 \t B\n",
      "김동원 \t 20 \t 10 \t 20 \t 16 \t F\n",
      "=================================================\n",
      "평균\t 69 \t 57 \t 73\n"
     ]
    }
   ],
   "source": [
    "score_list = [[\"김미희\",89,78,99],[\"서대희\",67,88,77],[\"강예진\",100,55,96],[\"손지영\",20,10,20]]\n",
    "print(\"=\"*49)\n",
    "print(\"이름\\tPython\\tJava\\tDB\\t평균\\t학점\")\n",
    "print(\"=\"*49)\n",
    "\n",
    "for score in score_list:\n",
    "    total = 0\n",
    "    total += (score[1]+score[2]+score[3])//3\n",
    "    \n",
    "    if total >= 90:\n",
    "        grade = \"A\"\n",
    "    elif total >= 80:\n",
    "        grade = \"B\"\n",
    "    elif total >= 70:\n",
    "        grade = \"C\"\n",
    "    elif total >= 60:\n",
    "        grade = \"D\"\n",
    "    else:\n",
    "        grade = \"F\"\n",
    "    \n",
    "    print(score[0],\"\\t\",score[1],\"\\t\",score[2],\"\\t\",score[3],\"\\t\",total,\"\\t\",grade)\n",
    "print(\"=\"*49)\n",
    "\n",
    "p_sum = 0\n",
    "j_sum = 0\n",
    "d_sum = 0\n",
    "for score in score_list:\n",
    "    p_sum += score[1]\n",
    "    j_sum += score[2]\n",
    "    d_sum += score[3]\n",
    "    \n",
    "print(\"평균\\t\",p_avg//len(score_list),\"\\t\",j_avg//len(score_list),\"\\t\",d_avg//len(score_list))"
   ]
  },
  {
   "cell_type": "code",
   "execution_count": 94,
   "metadata": {},
   "outputs": [],
   "source": [
    "import pickle\n",
    "with open(\"movie_review.pkl\",\"rb\") as f:\n",
    "    my = pickle.load(f)"
   ]
  },
  {
   "cell_type": "markdown",
   "metadata": {},
   "source": [
    "####  파트너 문제"
   ]
  },
  {
   "cell_type": "markdown",
   "metadata": {},
   "source": [
    "파트너1) 전체 5000개의 리뷰들에 검색한 단어가 몇 번이나 들어가는지 출력하시오.\n",
    " ex) \"개꿀잼ㅋㅋ개쩔어ㅋㅋㅋ!\"라는 리뷰가 있을시 ‘개’단어의 개수는 2개"
   ]
  },
  {
   "cell_type": "code",
   "execution_count": 36,
   "metadata": {},
   "outputs": [
    {
     "name": "stdout",
     "output_type": "stream",
     "text": [
      "검색할 단어 입력: 영화\n",
      "'영화'단어의 개수 : 1969\n"
     ]
    }
   ],
   "source": [
    "list_re =[]\n",
    "cnt = 0\n",
    "s = input(\"검색할 단어 입력: \")\n",
    "for re in my:\n",
    "    list_re.append(re[0])\n",
    "#print(list_re)    \n",
    "\n",
    "for i in range(len(list_re)):\n",
    "    cnt += list_re[i].count(s)\n",
    "\n",
    "print(\"'{}'단어의 개수 : {}\".format(s,cnt))"
   ]
  },
  {
   "cell_type": "markdown",
   "metadata": {},
   "source": [
    "파트너2) ^^ (눈웃음) 이모티콘은 긍정/부정의 의미를 모두 내포하고 있습니다.\n",
    " 전체 5000개의 리뷰중 ^^ (눈웃음) 이모티콘이 등장하는 긍정/부정 리뷰가 \n",
    " 각각 몇 개인지 출력하고, 부정 리뷰의 내용을 함께 출력하시오."
   ]
  },
  {
   "cell_type": "code",
   "execution_count": 79,
   "metadata": {},
   "outputs": [
    {
     "name": "stdout",
     "output_type": "stream",
     "text": [
      "부정: 11개\n",
      "긍정: 86개\n",
      "- 난 우리영화를 사랑합니다....^^;\n",
      "- 윤종신 복귀는 좋았지만 이하늘은 도대체 왜 뽑혔는지 알수가없다. 참가자 실력을 따지기 전에 심사위원 인격과 실력부터 쌓고 오시길^^ 어하어허 그만좀 하고요\n",
      "- 남주인공 연기력 안습이네요... 혀짧은 소리 듣기도 너무 힘들었네요 매니저역활분이 남주인공하는게 훨 좋았겠다는 생각이 들정도... 영화 자체는 적당히 볼 만 합니다 ^^\n",
      "- 진짜재미없다..영화관에삼십분정도늦게들어갔는데사람이한명도없고..그이유를왠지알것같네..^^완전비추요\n",
      "- 생애최고의 쓰레기영화....왠만하면 평점도안쓰는대 킬링타임이라도 보지마요 보다가화남^^\n",
      "- 요즘은함께하는거본다 옴니버스식이던데 그러기엔. 가족이넘 많아요 머좀 빠져들려면 바뀌고바뀌고 전 시즌1부터 오로지 윤후 보려고보는데 점점 산만해지는 느낌이예요~~^^우리 윤후 분량좀 많이많이 늘려주세요~ ^^너무착하고예쁜 후~~^^\n",
      "- 영계환장병걸린 노땅녀의 일탈.베베꼬면서 포장하기보단 좀더 하드하게갔다면..^^\n",
      "- 예상치 못한 반전이 있어 독특한 것은 사실이나 다소 극단적으로 표현한 느낌이 있다. 이영화를 보고 어떤 통쾌함과 대리 만족을 느끼고자 하는 콰이어트맨들이 있다면 권장하고 싶지 않은 영화이다. ^^ 크리스찬 슬레이터의 연기력 때문에 2점준다..ㅋㅋ\n",
      "- 사토시의 인기 하나믿고 개봉한것 같네요^^;\n",
      "- 평점이 너무 높으므로 1만 준다...원래는 7정도^^\n",
      "- 귀여운 헨젤 앤 그레텔 ^^\n"
     ]
    }
   ],
   "source": [
    "p_cnt = 0\n",
    "n_cnt = 0    \n",
    "n_re =[]\n",
    "for re in my:\n",
    "    if \"^^\" in re[0]:\n",
    "        if re[1] == 1:\n",
    "            p_cnt +=1\n",
    "        else:\n",
    "            n_cnt +=1\n",
    "            n_re.append(re[0])\n",
    "print(f\"부정: {n_cnt}개\")\n",
    "print(f\"긍정: {p_cnt}개\")\n",
    "for i in n_re:\n",
    "    print(\"-\",i)"
   ]
  },
  {
   "cell_type": "code",
   "execution_count": 84,
   "metadata": {},
   "outputs": [
    {
     "name": "stdout",
     "output_type": "stream",
     "text": [
      "- 난 우리영화를 사랑합니다....^^;\n",
      "- 윤종신 복귀는 좋았지만 이하늘은 도대체 왜 뽑혔는지 알수가없다. 참가자 실력을 따지기 전에 심사위원 인격과 실력부터 쌓고 오시길^^ 어하어허 그만좀 하고요\n",
      "- 남주인공 연기력 안습이네요... 혀짧은 소리 듣기도 너무 힘들었네요 매니저역활분이 남주인공하는게 훨 좋았겠다는 생각이 들정도... 영화 자체는 적당히 볼 만 합니다 ^^\n",
      "- 진짜재미없다..영화관에삼십분정도늦게들어갔는데사람이한명도없고..그이유를왠지알것같네..^^완전비추요\n",
      "- 생애최고의 쓰레기영화....왠만하면 평점도안쓰는대 킬링타임이라도 보지마요 보다가화남^^\n",
      "- 요즘은함께하는거본다 옴니버스식이던데 그러기엔. 가족이넘 많아요 머좀 빠져들려면 바뀌고바뀌고 전 시즌1부터 오로지 윤후 보려고보는데 점점 산만해지는 느낌이예요~~^^우리 윤후 분량좀 많이많이 늘려주세요~ ^^너무착하고예쁜 후~~^^\n",
      "- 영계환장병걸린 노땅녀의 일탈.베베꼬면서 포장하기보단 좀더 하드하게갔다면..^^\n",
      "- 예상치 못한 반전이 있어 독특한 것은 사실이나 다소 극단적으로 표현한 느낌이 있다. 이영화를 보고 어떤 통쾌함과 대리 만족을 느끼고자 하는 콰이어트맨들이 있다면 권장하고 싶지 않은 영화이다. ^^ 크리스찬 슬레이터의 연기력 때문에 2점준다..ㅋㅋ\n",
      "- 사토시의 인기 하나믿고 개봉한것 같네요^^;\n",
      "- 평점이 너무 높으므로 1만 준다...원래는 7정도^^\n",
      "- 귀여운 헨젤 앤 그레텔 ^^\n",
      "부정: 11개\n",
      "긍정: 86개\n"
     ]
    }
   ],
   "source": [
    "p_cnt = 0\n",
    "n_cnt = 0    \n",
    "for re in my:\n",
    "    if \"^^\" in re[0]:\n",
    "        if re[1] == 1:\n",
    "            p_cnt +=1\n",
    "        else:\n",
    "            n_cnt +=1\n",
    "            print(\"-\",re[0])\n",
    "print(f\"부정: {n_cnt}개\")\n",
    "print(f\"긍정: {p_cnt}개\")"
   ]
  },
  {
   "cell_type": "code",
   "execution_count": null,
   "metadata": {},
   "outputs": [],
   "source": []
  }
 ],
 "metadata": {
  "kernelspec": {
   "display_name": "Python 3 (ipykernel)",
   "language": "python",
   "name": "python3"
  },
  "language_info": {
   "codemirror_mode": {
    "name": "ipython",
    "version": 3
   },
   "file_extension": ".py",
   "mimetype": "text/x-python",
   "name": "python",
   "nbconvert_exporter": "python",
   "pygments_lexer": "ipython3",
   "version": "3.8.17"
  },
  "toc": {
   "base_numbering": 1,
   "nav_menu": {},
   "number_sections": true,
   "sideBar": true,
   "skip_h1_title": false,
   "title_cell": "Table of Contents",
   "title_sidebar": "Contents",
   "toc_cell": false,
   "toc_position": {},
   "toc_section_display": true,
   "toc_window_display": false
  },
  "varInspector": {
   "cols": {
    "lenName": 16,
    "lenType": 16,
    "lenVar": 40
   },
   "kernels_config": {
    "python": {
     "delete_cmd_postfix": "",
     "delete_cmd_prefix": "del ",
     "library": "var_list.py",
     "varRefreshCmd": "print(var_dic_list())"
    },
    "r": {
     "delete_cmd_postfix": ") ",
     "delete_cmd_prefix": "rm(",
     "library": "var_list.r",
     "varRefreshCmd": "cat(var_dic_list()) "
    }
   },
   "types_to_exclude": [
    "module",
    "function",
    "builtin_function_or_method",
    "instance",
    "_Feature"
   ],
   "window_display": false
  }
 },
 "nbformat": 4,
 "nbformat_minor": 4
}

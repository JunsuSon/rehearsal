{
 "cells": [
  {
   "cell_type": "markdown",
   "metadata": {},
   "source": [
    "## 목표\n",
    "- 조건문 이해할수있다\n",
    "- 조건문의 종류를 알 수 있다\n",
    "- 조건문을 이용한 코드를 작성할 수 있다\n"
   ]
  },
  {
   "cell_type": "markdown",
   "metadata": {},
   "source": [
    "### 조건문 키워드\n",
    "- if 조건 1일때\n",
    "- elif 2번째 조건이 있고, 그다음에 또 조건이 있다면 elif를 통해 또 조건을 작성\n",
    "- else 위의 조건에 모두 만족하지 않으면 else로 수렴(따로 조건을 적을 필요 x)"
   ]
  },
  {
   "cell_type": "markdown",
   "metadata": {},
   "source": [
    "#### 기본 구조 \n",
    "if 조건식:   --->(colon,콜론)  \n",
    "----실행문장1  \n",
    "----실행문장2  \n",
    "↑들여쓰기(Tab, Space*4)"
   ]
  },
  {
   "cell_type": "markdown",
   "metadata": {},
   "source": [
    "#### 들여쓰기 중요성"
   ]
  },
  {
   "cell_type": "code",
   "execution_count": 3,
   "metadata": {},
   "outputs": [
    {
     "name": "stdout",
     "output_type": "stream",
     "text": [
      "if 안쪽 실행문장\n",
      "if 바깥쪽 실행문장\n"
     ]
    }
   ],
   "source": [
    "if True:\n",
    "    print('if 안쪽 실행문장')\n",
    "    \n",
    "print('if 바깥쪽 실행문장')"
   ]
  },
  {
   "cell_type": "code",
   "execution_count": 4,
   "metadata": {},
   "outputs": [
    {
     "name": "stdout",
     "output_type": "stream",
     "text": [
      "if 바깥쪽 실행문장\n"
     ]
    }
   ],
   "source": [
    "if False:\n",
    "    print('if 안쪽 실행문장')\n",
    "    \n",
    "print('if 바깥쪽 실행문장')"
   ]
  },
  {
   "cell_type": "markdown",
   "metadata": {},
   "source": [
    "#### if 실습 예제\n",
    "조건문을 사용하여 변수 money가 10000이상이면 “택시를 탄다”를 출력하시오"
   ]
  },
  {
   "cell_type": "code",
   "execution_count": 5,
   "metadata": {},
   "outputs": [
    {
     "name": "stdout",
     "output_type": "stream",
     "text": [
      "택시를탄다\n"
     ]
    }
   ],
   "source": [
    "money = 11000\n",
    "if money >= 11000:\n",
    "    print('택시를탄다')"
   ]
  },
  {
   "cell_type": "code",
   "execution_count": 6,
   "metadata": {},
   "outputs": [],
   "source": [
    "money = 9000\n",
    "if money >= 11000:\n",
    "    print('택시를탄다')\n",
    "    \n",
    "# 1번째 조건을 만족하지 않을때는 아무것도 출력 x \n",
    "# '택시말고 버스타고 가세요,, '등을 출력해보기 위해서 ->"
   ]
  },
  {
   "cell_type": "markdown",
   "metadata": {},
   "source": [
    "#### if else 실습"
   ]
  },
  {
   "cell_type": "code",
   "execution_count": 8,
   "metadata": {},
   "outputs": [
    {
     "name": "stdout",
     "output_type": "stream",
     "text": [
      "택시를 탄다 씽씽\n"
     ]
    }
   ],
   "source": [
    "money = 11000\n",
    "if money >= 10000:\n",
    "    print('택시를 탄다 씽씽')\n",
    "else:\n",
    "    print('버스를 타고 간다 붕붕')"
   ]
  },
  {
   "cell_type": "markdown",
   "metadata": {},
   "source": [
    "#### if else 실습 예제"
   ]
  },
  {
   "cell_type": "markdown",
   "metadata": {},
   "source": [
    "1. 키보드로 변수 num을 입력 받고 num이 3의 배수이면서 5의 배수이면 “3과 5의 배수입니다”를 출력하고  \n",
    "아니라면 “3과 5의 배수가 아닙니다“를 출력하시오"
   ]
  },
  {
   "cell_type": "code",
   "execution_count": 11,
   "metadata": {},
   "outputs": [
    {
     "name": "stdout",
     "output_type": "stream",
     "text": [
      "정수 입력>> 24\n",
      "24은 3과 5의 배수가 아닙니다.\n"
     ]
    }
   ],
   "source": [
    "num = int(input('정수 입력>> '))\n",
    "if num %3 ==0 and num%5 ==0:\n",
    "    print(f'{num}는 3과 5의 배수입니다.')\n",
    "else:\n",
    "    print(f'{num}은 3과 5의 배수가 아닙니다.')"
   ]
  },
  {
   "cell_type": "markdown",
   "metadata": {},
   "source": [
    "2. 숙제) 대박이는 마스크를 대량 구매했습니다. 주변 친구들에게 소분해서 나눠주기 위해 포장지를 사려고 합니다. 포장지는 8개들이와 5개들이 2종류가 있습니다. 8개들이 포장지는 비싸기 때문에 반드시 전부 채워서 포장할 때만 사용하고 나머지는 5개들이로 포장하려고 합니다. 과연 포장지는 각각 몇 개가 필요할까요? 실행결과 처럼 동작하는 코드를 작성하세요 (단 남는 마스크 없이 전부 포장해야 합니다.)"
   ]
  },
  {
   "cell_type": "code",
   "execution_count": 21,
   "metadata": {},
   "outputs": [
    {
     "name": "stdout",
     "output_type": "stream",
     "text": [
      "마스크 개수 입력>> 37\n",
      "필요한 8개들이 개수:4, 5개들이 개수:1 입니다.\n"
     ]
    }
   ],
   "source": [
    "countOfMask = int(input('마스크 개수 입력>> '))\n",
    "\n",
    "ei=fi=re = 0\n",
    "if countOfMask >= 8:\n",
    "    ei = countOfMask//8\n",
    "    fi = countOfMask % 8//5\n",
    "    re = countOfMask % 8 % 5\n",
    "    if re !=0:\n",
    "        fi += 1\n",
    "else:\n",
    "    fi = countOfMask//5\n",
    "    re = countOfMask% 5\n",
    "    if re !=0:\n",
    "        fi += 1\n",
    "\n",
    "print(f'필요한 8개들이 개수:{ei}, 5개들이 개수:{fi} 입니다.')"
   ]
  },
  {
   "cell_type": "markdown",
   "metadata": {},
   "source": [
    "#### if elif else 실습"
   ]
  },
  {
   "cell_type": "code",
   "execution_count": 23,
   "metadata": {},
   "outputs": [
    {
     "name": "stdout",
     "output_type": "stream",
     "text": [
      "실행문장\n"
     ]
    }
   ],
   "source": [
    "if True:\n",
    "    print('실행문장')\n",
    "elif True:\n",
    "    print('실행문장2')\n",
    "else:\n",
    "    print('실행문장3')"
   ]
  },
  {
   "cell_type": "code",
   "execution_count": 24,
   "metadata": {},
   "outputs": [
    {
     "name": "stdout",
     "output_type": "stream",
     "text": [
      "실행문장2\n"
     ]
    }
   ],
   "source": [
    "if False:\n",
    "    print('실행문장')\n",
    "elif True:\n",
    "    print('실행문장2')\n",
    "else:\n",
    "    print('실행문장3')"
   ]
  },
  {
   "cell_type": "code",
   "execution_count": 26,
   "metadata": {},
   "outputs": [
    {
     "name": "stdout",
     "output_type": "stream",
     "text": [
      "실행문장3\n"
     ]
    }
   ],
   "source": [
    "if False:\n",
    "    print('실행문장')\n",
    "elif False:\n",
    "    print('실행문장2')\n",
    "else:\n",
    "    print('실행문장3')"
   ]
  },
  {
   "cell_type": "markdown",
   "metadata": {},
   "source": [
    "#### if elif else 실습예제\n",
    "1. 변수 num1과 num2에 숫자를 입력 받아 크기를 비교하시오."
   ]
  },
  {
   "cell_type": "code",
   "execution_count": 28,
   "metadata": {},
   "outputs": [
    {
     "name": "stdout",
     "output_type": "stream",
     "text": [
      "정수1입력 >> 3\n",
      "정수2입력 >> 5\n",
      "두번째 정수가 더 큽니다.\n"
     ]
    }
   ],
   "source": [
    "num1 = int(input('정수1입력 >> '))\n",
    "num2 = int(input('정수2입력 >> '))\n",
    "if num1> num2:\n",
    "    print('첫번째 정수가 더 큽니다.')\n",
    "elif num1 < num2:\n",
    "    print('두번째 정수가 더 큽니다.')"
   ]
  },
  {
   "cell_type": "markdown",
   "metadata": {},
   "source": [
    "2. 변수 score에 점수를 입력 받아서 다음과 같이 학점을 부여하시오.  \n",
    "(90점 이상인 점수에는 'A'학점, 80점 이상인 점수는 'B'학점 부여,70점 이상인 점수는 'C'학점, 60점 이상인 점수는 'D'학점, 60점 미만인 점수는 'F'학점)"
   ]
  },
  {
   "cell_type": "code",
   "execution_count": 1,
   "metadata": {},
   "outputs": [
    {
     "name": "stdout",
     "output_type": "stream",
     "text": [
      "점수 입력>> 45\n",
      "45점은 F학점 입니다.\n"
     ]
    }
   ],
   "source": [
    "score = int(input('점수 입력>> '))\n",
    "if score >= 90:\n",
    "    print(f'{score}점은 A학점 입니다.')\n",
    "elif score >=80:\n",
    "    print(f'{score}점은 B학점 입니다.')\n",
    "elif score >=70:\n",
    "    print(f'{score}점은 C학점 입니다.')\n",
    "elif score >=60:\n",
    "    print(f'{score}점은 D학점 입니다.')\n",
    "else:\n",
    "    print(f'{score}점은 F학점 입니다.')"
   ]
  },
  {
   "cell_type": "markdown",
   "metadata": {},
   "source": [
    "3.자판기 프로그램을 만들어보자.\n",
    "\n",
    "- 메뉴 출력\n",
    "- 돈 입력\n",
    "- 메뉴 선택\n",
    "- 결과 확인\n",
    "\t-  잔액부족 출력\n",
    "    -  잔액 환전 (1000원, 500원, 100원)"
   ]
  },
  {
   "cell_type": "code",
   "execution_count": 40,
   "metadata": {},
   "outputs": [
    {
     "name": "stdout",
     "output_type": "stream",
     "text": [
      "\n",
      "================================================\n",
      "================---- 자판기 ----================\n",
      "================================================\n",
      "== 1.콜라 == 2.사이다 ==  3.물  =======insert===\n",
      "==--------==----------==--------=======------===\n",
      "==   600  ==    800   ==  1000  ======= O00원===\n",
      "=======================================------===\n",
      "================================================\n",
      "==++++++++++++++++++++++++++++++++++++++++++++==\n",
      "==++++++++++++++++++++++++++++++++++++++++++++==\n",
      "==++++++++++++++++++++++++++++++++++++++++++++==\n",
      "==+++++++++++++++              +++++++++++++++==\n",
      "==+++++++++++++++     SMHRD    +++++++++++++++==\n",
      "==+++++++++++++++              +++++++++++++++==\n",
      "==++++++++++++++++++++++++++++++++++++++++++++==\n",
      "==++++++++++++++++++++++++++++++++++++++++++++==\n",
      "================================================\n",
      "================================================\n",
      "  ===                                      ===\n",
      "  ===                                      ===\n",
      "\n",
      "메뉴를 선택하세요: 2\n",
      "돈을 넣으세요 : 700\n",
      "잔액이 부족합니다\n"
     ]
    }
   ],
   "source": [
    "print('''\n",
    "================================================\n",
    "================---- 자판기 ----================\n",
    "================================================\n",
    "== 1.콜라 == 2.사이다 ==  3.물  =======insert===\n",
    "==--------==----------==--------=======------===\n",
    "==   600  ==    800   ==  1000  ======= O00원===\n",
    "=======================================------===\n",
    "================================================\n",
    "==++++++++++++++++++++++++++++++++++++++++++++==\n",
    "==++++++++++++++++++++++++++++++++++++++++++++==\n",
    "==++++++++++++++++++++++++++++++++++++++++++++==\n",
    "==+++++++++++++++              +++++++++++++++==\n",
    "==+++++++++++++++     SMHRD    +++++++++++++++==\n",
    "==+++++++++++++++              +++++++++++++++==\n",
    "==++++++++++++++++++++++++++++++++++++++++++++==\n",
    "==++++++++++++++++++++++++++++++++++++++++++++==\n",
    "================================================\n",
    "================================================\n",
    "  ===                                      ===\n",
    "  ===                                      ===\n",
    "''')\n",
    "\n",
    "# co = 600\n",
    "# si = 800\n",
    "# wa =1000\n",
    "inputMe = int(input(\"메뉴를 선택하세요: \"))\n",
    "inputMo = int(input(\"돈을 넣으세요 : \"))\n",
    "change = 0\n",
    "\n",
    "if inputMe ==1:\n",
    "    change = inputMo - 600\n",
    "elif inputMe ==2:\n",
    "    change = inputMo - 800\n",
    "elif inputMe == 3:\n",
    "    change = inputMo - 1000\n",
    "\n",
    "ch,o,b =0,0,0\n",
    "if change < 0 :\n",
    "    print(\"잔액이 부족합니다\")\n",
    "else:\n",
    "    ch= change//1000\n",
    "    o = change % 1000 // 500\n",
    "    b = change % 1000 % 500 //100\n",
    "    print(f\"천원:{ch}개, 오백원:{o}개, 백원:{b}개\")\n"
   ]
  },
  {
   "cell_type": "code",
   "execution_count": null,
   "metadata": {},
   "outputs": [],
   "source": []
  }
 ],
 "metadata": {
  "kernelspec": {
   "display_name": "Python 3",
   "language": "python",
   "name": "python3"
  },
  "language_info": {
   "codemirror_mode": {
    "name": "ipython",
    "version": 3
   },
   "file_extension": ".py",
   "mimetype": "text/x-python",
   "name": "python",
   "nbconvert_exporter": "python",
   "pygments_lexer": "ipython3",
   "version": "3.7.11"
  }
 },
 "nbformat": 4,
 "nbformat_minor": 4
}

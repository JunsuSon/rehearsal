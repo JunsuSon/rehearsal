{
 "cells": [
  {
   "cell_type": "markdown",
   "id": "786632fa",
   "metadata": {},
   "source": [
    "### 제네릭 프로그래밍\n",
    "제네릭이란 파라미터의 타입이 나중에 지어되게 해서 재활용성을 높일 수 있는 프로그래밍 스타일  \n",
    "  \n",
    "<font color = 'red'>파이썬은 동적 타이핑 언어이기 때문에 제네릭이 필요 없다.</font>   \n",
    "하지만 동적 타이핑의 장점이자 단점은 얼핏 사용하기엔 매우 편하지만 코드의 복잡도가 높아질수록 혼란을 가중시킨다는 점이다. 타입을 아예 명시하지 않으면 가독성을 낮추고 버그 발생 확률이 높아진다. 따라서 다음과 같이 타입을 명시할 수 있다."
   ]
  },
  {
   "cell_type": "code",
   "execution_count": 10,
   "id": "9e084821",
   "metadata": {},
   "outputs": [
    {
     "data": {
      "text/plain": [
       "True"
      ]
     },
     "execution_count": 10,
     "metadata": {},
     "output_type": "execute_result"
    }
   ],
   "source": [
    "# 파이썬은 동적 타이핑 언어지만 \n",
    "#이처럼 타입을 명시하게 되면 가독성이 좋아지며 버그 발생 확률을 줄일 수 있다.\n",
    "\n",
    "from typing import TypeVar\n",
    "# T변수와 함수안의 'T' 변수는 자기 자신을 가리키는 것이기 때문에 같아야함\n",
    "# .__name__TypeVar 인스턴스로 설정 되는 이름\n",
    "\n",
    "T = TypeVar('T') # <-- 'T' can be any type\n",
    "A = TypeVar('A',int,str) # <-- 'A' will be either str or int\n",
    "B = TypeVar('B', float, int) \n",
    "\n",
    "def are_equal(a:T, b:A) ->bool:\n",
    "    return a!=b\n",
    "\n",
    "are_equal(10,[10.0])"
   ]
  },
  {
   "cell_type": "code",
   "execution_count": 17,
   "id": "a6f025c0",
   "metadata": {},
   "outputs": [
    {
     "name": "stdout",
     "output_type": "stream",
     "text": [
      "<class 'int'> <class 'str'>\n",
      "True\n"
     ]
    }
   ],
   "source": [
    "def are_equal2(a:int, b:str)-> bool:\n",
    "    print(type(a),type(b))\n",
    "    return a != b\n",
    "\n",
    "print(are_equal2(10,'10'))"
   ]
  },
  {
   "cell_type": "markdown",
   "id": "e173284f",
   "metadata": {},
   "source": [
    "### <font color = 'red'>제너레이터</font>  \n",
    "\\- 제너레이터는 루프의 반복 동작을 제어할 수 있는 루틴 형태  \n",
    "예를 들어 임의의 조건으로 숫자 1억 개를 만들어내 계산하는 프로그램을 작성한다고 가정해보자.   \n",
    "\n",
    "이 경우 제너레이터가 없다면 메모리 어딘가에 만들어낸 숫자 1억 개를 보관하고 있어야 함, 그러나 제너레이터를 이용하면, 단순히 제너레이터만 생성해두고 필요할 때 언제든 숫자를 만들어낼 수 있음.\n",
    "\n",
    "\\- 이때 <font color='red' >yield 구문</font>을 사용하면 제너레이터를 리턴할 수 있음  \n",
    "기존의 함수는 return 구문을 맞닥뜨리면 값을 리턴하고 모든 함수의 동작을 종료함.   \n",
    "그러나 yield는 제너레이터가 여기까지 실행 중이던 값을 내보낸다는 의미로, 중간 값을 리턴한 다음 함수는 종료되지 않고 계속해서 맨 끝에 도달할 때까지 실행.\n",
    "\n",
    "\\- yield의 값을 확인하려면 <font color='red' >next()</font>로 추출  \n",
    "예를 들어 100개의 값을 생성하고 싶다면 다음과 같이 100번 동안 next()를 수행  "
   ]
  },
  {
   "cell_type": "code",
   "execution_count": 22,
   "id": "62341cac",
   "metadata": {},
   "outputs": [
    {
     "name": "stdout",
     "output_type": "stream",
     "text": [
      "1 2 3 4 5 6 7 8 9 10 11 12 13 14 15 16 17 18 19 20 "
     ]
    }
   ],
   "source": [
    "def get_natural_number():\n",
    "    n = 0\n",
    "    while True: \n",
    "        n += 1\n",
    "        yield n\n",
    "\n",
    "g = get_natural_number()\n",
    "for _ in range(0, 20):\n",
    "    print(next(g), end = ' ')"
   ]
  },
  {
   "cell_type": "markdown",
   "id": "9d642fab",
   "metadata": {},
   "source": [
    "list - append()"
   ]
  },
  {
   "cell_type": "code",
   "execution_count": 23,
   "id": "31183b4e",
   "metadata": {},
   "outputs": [
    {
     "data": {
      "text/plain": [
       "[1, 2, 3, [4, 5]]"
      ]
     },
     "execution_count": 23,
     "metadata": {},
     "output_type": "execute_result"
    }
   ],
   "source": [
    "a = [1,2,3]\n",
    "b = [4,5]\n",
    "a.append(b)\n",
    "a"
   ]
  },
  {
   "cell_type": "markdown",
   "id": "bf535052",
   "metadata": {},
   "source": [
    "list - extend()"
   ]
  },
  {
   "cell_type": "code",
   "execution_count": 24,
   "id": "046ea39d",
   "metadata": {
    "scrolled": true
   },
   "outputs": [
    {
     "data": {
      "text/plain": [
       "[1, 2, 3, 4, 5]"
      ]
     },
     "execution_count": 24,
     "metadata": {},
     "output_type": "execute_result"
    }
   ],
   "source": [
    "a = [1,2,3]\n",
    "b = [4, 5]\n",
    "a.extend(b)\n",
    "a"
   ]
  },
  {
   "cell_type": "markdown",
   "id": "a6bee64e",
   "metadata": {},
   "source": [
    "예외 처리 기본 문법 1: try-except"
   ]
  },
  {
   "cell_type": "code",
   "execution_count": null,
   "id": "a749a22b",
   "metadata": {},
   "outputs": [],
   "source": [
    "# try:\n",
    "#     예외 발생 가능 코드\n",
    "# except 예외 타입:\n",
    "#     예외 발생 시 실행되는 코드"
   ]
  },
  {
   "cell_type": "code",
   "execution_count": 1,
   "id": "4c04dc6e",
   "metadata": {},
   "outputs": [
    {
     "data": {
      "text/plain": [
       "0.0"
      ]
     },
     "execution_count": 1,
     "metadata": {},
     "output_type": "execute_result"
    }
   ],
   "source": [
    "0/10"
   ]
  },
  {
   "cell_type": "code",
   "execution_count": 4,
   "id": "ec1326a9",
   "metadata": {
    "collapsed": true
   },
   "outputs": [
    {
     "name": "stdout",
     "output_type": "stream",
     "text": [
      "ZeroDivisionError: division by zero\n",
      "10.0\n",
      "5.0\n",
      "3.3333333333333335\n",
      "2.5\n",
      "2.0\n",
      "1.6666666666666667\n",
      "1.4285714285714286\n",
      "1.25\n",
      "1.1111111111111112\n"
     ]
    }
   ],
   "source": [
    "# 10/0 # ZeroDivisionError: division by zero\n",
    "for i in range(10):\n",
    "    try:\n",
    "        print(10/i)\n",
    "    except ZeroDivisionError:\n",
    "#   except:\n",
    "        print('ZeroDivisionError: division by zero')"
   ]
  },
  {
   "cell_type": "code",
   "execution_count": null,
   "id": "d20950b5",
   "metadata": {},
   "outputs": [],
   "source": [
    "# 파이썬에서 기본적으로 정의하여 사용할 수 있는 예외의 종류는 다양\n",
    "# 내장 예외 종류\n",
    "# 1. IndexError : 리스트의 인덱스 범위를 넘어갈 때\n",
    "# 2. NameError : 존재하지 않는 변수를 호출할 때\n",
    "# 3. ZeroDivisionError: 0으로 숫자를 나눌 때\n",
    "# 4. ValueError: 변환할 수 없는 문자나 숫자를 변환할 때 \n",
    "# 5. FileNotFoundError: 존재 하지 않는 파일을 호출할 때 "
   ]
  },
  {
   "cell_type": "markdown",
   "id": "f2bb31ff",
   "metadata": {},
   "source": [
    "예외 처리 기본 문법 2: try-except-else"
   ]
  },
  {
   "cell_type": "code",
   "execution_count": null,
   "id": "19442145",
   "metadata": {},
   "outputs": [],
   "source": [
    "# try:\n",
    "#     예외 발생 가능 코드\n",
    "# except 예외 타입:\n",
    "#     예외 발생 시 실행되는 코드\n",
    "# else:\n",
    "#     예외가 발생하지 않을 때 실행되는 코드  -> 자주 사용  x"
   ]
  },
  {
   "cell_type": "markdown",
   "id": "8b3607a3",
   "metadata": {},
   "source": [
    "예외 처리 기본 문법 3: try-except-finally"
   ]
  },
  {
   "cell_type": "code",
   "execution_count": 9,
   "id": "a6983a29",
   "metadata": {},
   "outputs": [
    {
     "name": "stdout",
     "output_type": "stream",
     "text": [
      "10\n",
      "5\n",
      "3\n",
      "2\n",
      "2\n",
      "1\n",
      "1\n",
      "1\n",
      "1\n",
      "종료되었습니다.\n"
     ]
    }
   ],
   "source": [
    "# try:\n",
    "#     예외 발생 가능 코드\n",
    "# except 예외 타입:\n",
    "#     예외 발생 시 실행되는 코드\n",
    "# finally:\n",
    "#     수행 코드가 아무런 문제 없이 종료되었을 경우 최종으로 호출되는 코드\n",
    "#     예외 발생 여부 상관없이 실행되는 코드\n",
    "try:\n",
    "    for i in range(1,10):\n",
    "        result = 10//i\n",
    "        print(result)\n",
    "except ZeroDivisionError:\n",
    "    print('Not divided by 0')\n",
    "finally:\n",
    "    print('종료되었습니다.')"
   ]
  },
  {
   "cell_type": "markdown",
   "id": "3792c08c",
   "metadata": {},
   "source": [
    "os 모듈 활용하기"
   ]
  },
  {
   "cell_type": "code",
   "execution_count": 12,
   "id": "6c3f3fed",
   "metadata": {},
   "outputs": [],
   "source": [
    "import os\n",
    "# 해당 경로에 ‘str’폴더 확인 코드\n",
    "os.path.isdir('str')\n",
    "\n",
    "# 디렉토리 만드는 코드\n",
    "os.mkdir('str')"
   ]
  },
  {
   "cell_type": "code",
   "execution_count": 18,
   "id": "2d5f1819",
   "metadata": {},
   "outputs": [
    {
     "name": "stdout",
     "output_type": "stream",
     "text": [
      "폴더가 생성되었습니다.\n"
     ]
    }
   ],
   "source": [
    "if not os.path.isdir('str'):\n",
    "    os.mkdir('str')\n",
    "    print('폴더가 생성되었습니다.')"
   ]
  },
  {
   "cell_type": "code",
   "execution_count": 17,
   "id": "7a218e13",
   "metadata": {},
   "outputs": [],
   "source": [
    "os.rmdir('str')"
   ]
  },
  {
   "cell_type": "markdown",
   "id": "766042ab",
   "metadata": {},
   "source": []
  },
  {
   "cell_type": "code",
   "execution_count": null,
   "id": "afc25132",
   "metadata": {},
   "outputs": [],
   "source": []
  }
 ],
 "metadata": {
  "kernelspec": {
   "display_name": "Python 3 (ipykernel)",
   "language": "python",
   "name": "python3"
  },
  "language_info": {
   "codemirror_mode": {
    "name": "ipython",
    "version": 3
   },
   "file_extension": ".py",
   "mimetype": "text/x-python",
   "name": "python",
   "nbconvert_exporter": "python",
   "pygments_lexer": "ipython3",
   "version": "3.9.12"
  },
  "toc": {
   "base_numbering": 1,
   "nav_menu": {},
   "number_sections": true,
   "sideBar": true,
   "skip_h1_title": false,
   "title_cell": "Table of Contents",
   "title_sidebar": "Contents",
   "toc_cell": false,
   "toc_position": {},
   "toc_section_display": true,
   "toc_window_display": false
  },
  "varInspector": {
   "cols": {
    "lenName": 16,
    "lenType": 16,
    "lenVar": 40
   },
   "kernels_config": {
    "python": {
     "delete_cmd_postfix": "",
     "delete_cmd_prefix": "del ",
     "library": "var_list.py",
     "varRefreshCmd": "print(var_dic_list())"
    },
    "r": {
     "delete_cmd_postfix": ") ",
     "delete_cmd_prefix": "rm(",
     "library": "var_list.r",
     "varRefreshCmd": "cat(var_dic_list()) "
    }
   },
   "types_to_exclude": [
    "module",
    "function",
    "builtin_function_or_method",
    "instance",
    "_Feature"
   ],
   "window_display": false
  }
 },
 "nbformat": 4,
 "nbformat_minor": 5
}

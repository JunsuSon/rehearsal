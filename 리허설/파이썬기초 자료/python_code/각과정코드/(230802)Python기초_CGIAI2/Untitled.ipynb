{
 "cells": [
  {
   "cell_type": "code",
   "execution_count": null,
   "id": "25b69018",
   "metadata": {},
   "outputs": [],
   "source": []
  },
  {
   "cell_type": "code",
   "execution_count": 4,
   "id": "adcad2d3",
   "metadata": {},
   "outputs": [
    {
     "data": {
      "text/plain": [
       "{'키': '값'}"
      ]
     },
     "execution_count": 4,
     "metadata": {},
     "output_type": "execute_result"
    }
   ],
   "source": [
    "# 딕셔너리 = dict(키1=값1 , 키2=값2)\n",
    "# 딕셔너리 = dict(zip([키1,키2],[값1,값2]))\n",
    "# 딕셔너리 = dict([(키1,값1),(키2,값2)])\n",
    "# 딕셔너리 = dict({키1:값1, 키2:값2})\n",
    "dict([('키','값')])"
   ]
  }
 ],
 "metadata": {
  "kernelspec": {
   "display_name": "Python 3 (ipykernel)",
   "language": "python",
   "name": "python3"
  },
  "language_info": {
   "codemirror_mode": {
    "name": "ipython",
    "version": 3
   },
   "file_extension": ".py",
   "mimetype": "text/x-python",
   "name": "python",
   "nbconvert_exporter": "python",
   "pygments_lexer": "ipython3",
   "version": "3.11.3"
  }
 },
 "nbformat": 4,
 "nbformat_minor": 5
}

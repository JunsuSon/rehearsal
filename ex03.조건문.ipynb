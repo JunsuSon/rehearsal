{
 "cells": [
  {
   "metadata": {},
   "cell_type": "markdown",
   "source": [
    "### 학습목표\n",
    "- 조건문을 이해할 수 있다.\n",
    "- 조건문의 종류를 알 수 있다\n",
    "- 조건문을 이용한 코드를 작성할 수 있다"
   ],
   "id": "516c7b3120b6af26"
  },
  {
   "metadata": {},
   "cell_type": "markdown",
   "source": [
    "### 조건문 키워드\n",
    "- if\n",
    "- elif\n",
    "- else"
   ],
   "id": "d9e78ac1fe52521c"
  },
  {
   "metadata": {
    "ExecuteTime": {
     "end_time": "2024-12-16T13:09:36.383720Z",
     "start_time": "2024-12-16T13:09:36.380667Z"
    }
   },
   "cell_type": "code",
   "source": [
    "money = 20000\n",
    "if money >= 30000 :\n",
    "    print('택시를 타자!')"
   ],
   "id": "8c95e59fd074c8e",
   "outputs": [],
   "execution_count": 2
  },
  {
   "metadata": {},
   "cell_type": "markdown",
   "source": [
    "### 들여쓰기의 중요성\n",
    "- 들여쓰기 사진 넣기"
   ],
   "id": "26d7371515628a74"
  },
  {
   "metadata": {
    "ExecuteTime": {
     "end_time": "2024-12-16T13:11:44.523739Z",
     "start_time": "2024-12-16T13:11:44.519949Z"
    }
   },
   "cell_type": "code",
   "source": [
    "if True :\n",
    "    print('if문 안쪽 실행 문장')\n",
    "\n",
    "print('if문 바깥쪽 실행 문장')"
   ],
   "id": "7e2f14d2ad4b5799",
   "outputs": [
    {
     "name": "stdout",
     "output_type": "stream",
     "text": [
      "if문 안쪽 실행 문장\n",
      "if문 바깥쪽 실행 문장\n"
     ]
    }
   ],
   "execution_count": 5
  },
  {
   "metadata": {},
   "cell_type": "code",
   "outputs": [],
   "execution_count": null,
   "source": [
    "if False :\n",
    "    print('if문 안쪽 실행 문장')\n",
    "\n",
    "print('if문 바깥쪽 실행 문장')\n",
    "\n",
    "# if 4 in [1,2,3,4] : print('4가 있습니다') 한줄 조건문 설명하기"
   ],
   "id": "62eb59119d872184"
  },
  {
   "metadata": {},
   "cell_type": "markdown",
   "source": [
    "#### if문 실습 예제\n",
    "- 조건문을 사용하여 변수 money가 10000원 이상이면 '택시를 탄다'를 출력하시오."
   ],
   "id": "a6bfb71683b23e0a"
  },
  {
   "metadata": {
    "ExecuteTime": {
     "end_time": "2024-12-16T13:16:42.547102Z",
     "start_time": "2024-12-16T13:16:39.223255Z"
    }
   },
   "cell_type": "code",
   "source": [
    "money = 11000\n",
    "if money>=10000:\n",
    "    print('택시를 탄다')\n",
    "\n",
    "# 조건을 만족하지 않을 때(False) 아무것도 출력되지 않는다.\n",
    "# 택시를 타지 않았을 때는 버스라도 타고 갈 수 있도록 조건을 추가해보자. --> ppt로 if else"
   ],
   "id": "9f799852163b813b",
   "outputs": [
    {
     "name": "stdout",
     "output_type": "stream",
     "text": [
      "택시를 탄다\n"
     ]
    }
   ],
   "execution_count": 6
  },
  {
   "metadata": {},
   "cell_type": "markdown",
   "source": [
    "#### if else 실습\n",
    "- if문에 있는 조건식에 해당하지 않으면 else문을 실행\n",
    "- else문에는 조건식 X"
   ],
   "id": "6a1bdcfcf75056e3"
  },
  {
   "metadata": {
    "ExecuteTime": {
     "end_time": "2024-12-16T13:21:00.543849Z",
     "start_time": "2024-12-16T13:21:00.540102Z"
    }
   },
   "cell_type": "code",
   "source": [
    "money = 11000\n",
    "if money >= 10000 :\n",
    "    print('택시를 탄다~')\n",
    "else :\n",
    "    print('버스를 탄다~')"
   ],
   "id": "41e50ed778b012c8",
   "outputs": [
    {
     "name": "stdout",
     "output_type": "stream",
     "text": [
      "택시를 탄다~\n"
     ]
    }
   ],
   "execution_count": 9
  },
  {
   "metadata": {
    "ExecuteTime": {
     "end_time": "2024-12-16T13:21:06.093257Z",
     "start_time": "2024-12-16T13:21:06.090321Z"
    }
   },
   "cell_type": "code",
   "source": [
    "money = 11000\n",
    "if money >= 20000 :\n",
    "    print('택시를 탄다~')\n",
    "else :\n",
    "    print('버스를 탄다~')"
   ],
   "id": "373bf9d13ee267bf",
   "outputs": [
    {
     "name": "stdout",
     "output_type": "stream",
     "text": [
      "버스를 탄다~\n"
     ]
    }
   ],
   "execution_count": 10
  },
  {
   "metadata": {},
   "cell_type": "markdown",
   "source": [
    "#### if else 실습 예제\n",
    "1. 키보드로 변수 num을 입력받고 num이 3의 배수이면서 5의 배수이면! \"3과 5의 배수입니다.\"를 출력하고, 그게 아니라면 \"3과 5의 배수가 아닙니다.\"를 출력하시오."
   ],
   "id": "454e26f66eca2895"
  },
  {
   "metadata": {
    "ExecuteTime": {
     "end_time": "2024-12-16T13:24:41.969368Z",
     "start_time": "2024-12-16T13:24:40.227305Z"
    }
   },
   "cell_type": "code",
   "source": [
    "num = int(input('정수입력 >> '))\n",
    "\n",
    "if num % 3 == 0 and num % 5 == 0 :\n",
    "    print(f\"{num}는 3과 5의 배수입니다.\")\n",
    "else :\n",
    "    print(f\"{num}는 3과 5의 배수가 아닙니다\")\n",
    "    # if num % 3 == 0 :\n",
    "       # num % 3 == 0 or num % 5 ==0 :\n",
    "       # print(f'{num}는 3 또는 5의 배수입니다.')"
   ],
   "id": "b8cbe0f0156c30de",
   "outputs": [
    {
     "name": "stdout",
     "output_type": "stream",
     "text": [
      "15는 3과 5의 배수입니다.\n"
     ]
    }
   ],
   "execution_count": 13
  },
  {
   "metadata": {},
   "cell_type": "markdown",
   "source": [
    "2. 대박이는 마스크를 대량 구매했습니다. 주변 친구들에게 소분해서 나눠주기 위해 포장지를 사려 합니다. 포장지는 마스크를 각각 8개, 5개씩 넣을 수 있는 8개들이, 5개들이 2종류가 있습니다. 8개들이는 포장지가 비싸서 반드시 꽉꽉 채워 포장할 때만 사용하고, 만약 마스크가 남는다면 5개들이에 포장하려고 합니다. 과연 포장지는 각각 몇 개가 필요할까요?\n",
    "(단, 마스크는 남는 마스크 없이 전부 포장해야 합니다.)"
   ],
   "id": "f5d41ea7bbe466ce"
  },
  {
   "metadata": {
    "ExecuteTime": {
     "end_time": "2024-12-16T13:43:13.259482Z",
     "start_time": "2024-12-16T13:43:11.146601Z"
    }
   },
   "cell_type": "code",
   "source": [
    "# 힌트!\n",
    "# 1. 마스크의 개수를 사용자에게 입력받는다.\n",
    "# 2. 마스크의 개수가 8개 이상일 때는 8개들이 포장지가 몇개 필요한지 구하고\n",
    "# 3. 남은 마스크의 개수가 2개, 3개처럼 애매하게 남았다면 5개들이 포장지 + 1\n",
    "# 4. 마스크의 개수가 8개 이하일 때는 8개들이는 필요 X\n",
    "# 5. 마지막에 출력문으로 8개들이와 5개들이 포장지 개수를 입력하면 끝!\n",
    "maskCnt = int(input('마스크 개수 입력 >> '))\n",
    "\n",
    "\n",
    "if maskCnt >= 8: # 마스크가 8개 이상일 때\n",
    "    m8 = maskCnt // 8 # 8개들이 포장지 개수\n",
    "    m5 = maskCnt % 8 // 5 # 5개들이 포장지 개수\n",
    "    na = maskCnt % 8 % 5 # 전부 포장하고 남은 마스크 개수\n",
    "    if na != 0: # 남은 마스크의 개수가 몇 개든 상관없이 5개들이 포장지 하나 추가!\n",
    "        m5 +=1\n",
    "else : # 마스크가 8개 미만일 때\n",
    "    m5 = maskCnt % 8 // 5\n",
    "    na = maskCnt % 5\n",
    "    if na != 0:\n",
    "        m5 +=1\n",
    "\n",
    "print(f'필요한 8개들이 개수 : {m8}, 5개들이 개수 : {m5}')"
   ],
   "id": "520fb5af3dd19ad4",
   "outputs": [
    {
     "name": "stdout",
     "output_type": "stream",
     "text": [
      "필요한 8개들이 개수 : 1, 5개들이 개수 : 2\n"
     ]
    }
   ],
   "execution_count": 17
  },
  {
   "metadata": {},
   "cell_type": "code",
   "outputs": [],
   "execution_count": null,
   "source": "",
   "id": "9774871b8665ae44"
  }
 ],
 "metadata": {
  "kernelspec": {
   "display_name": "Python 3",
   "language": "python",
   "name": "python3"
  },
  "language_info": {
   "codemirror_mode": {
    "name": "ipython",
    "version": 2
   },
   "file_extension": ".py",
   "mimetype": "text/x-python",
   "name": "python",
   "nbconvert_exporter": "python",
   "pygments_lexer": "ipython2",
   "version": "2.7.6"
  }
 },
 "nbformat": 4,
 "nbformat_minor": 5
}

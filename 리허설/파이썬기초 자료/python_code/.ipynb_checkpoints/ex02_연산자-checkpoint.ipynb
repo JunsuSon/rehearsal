{
 "cells": [
  {
   "cell_type": "markdown",
   "metadata": {},
   "source": [
    "## 목표 \n",
    "- 연산자를 이해하자\n",
    "- 연산자의 종류를 알고 활용하자\n",
    "- 연산자를 이용하여 코드를 작성해보자"
   ]
  },
  {
   "cell_type": "markdown",
   "metadata": {},
   "source": [
    "### 연산자의 종류\n",
    "\n",
    "1. 산술 연산자 +   -   *   /   //   %\n",
    "2. 지수 연산자 **\n",
    "3. 대입(복합)연산자  =   +=   -=   *=   /=   //=   %=\n",
    "4. 관계(비교) 연산자 : 두 수를 비교하여 참 또는 거짓을 반환.  >    >=   <   <=   ==   !=\n",
    "5. 논리 연산자 : 조건문을 연결하기 위해 사용.  and or not\n",
    "6. 멤버 연산자 : 해당 값이 대상 객체에 존재하는지 확인하기 위해 사용.  in   not in\n",
    "6. 삼항 연산자 a if 조건식 else b"
   ]
  },
  {
   "cell_type": "markdown",
   "metadata": {},
   "source": [
    "### 산술연산자"
   ]
  },
  {
   "cell_type": "markdown",
   "metadata": {},
   "source": [
    "- 나누기, 나머지, 나누기(몫) 구하기"
   ]
  },
  {
   "cell_type": "code",
   "execution_count": 7,
   "metadata": {},
   "outputs": [
    {
     "name": "stdout",
     "output_type": "stream",
     "text": [
      "나누기: 1.43\n",
      "나머지: 3\n",
      "몫:1\n"
     ]
    }
   ],
   "source": [
    "num1 = 10\n",
    "num2 = 7\n",
    "\n",
    "# :.2f소수점 2째자리까지만 출력, 알아서 반올림\n",
    "print(f'나누기: {num1/num2:.2f}')\n",
    "print(f'나머지: {num1%num2}')\n",
    "print(f'몫:{num1//num2}')"
   ]
  },
  {
   "cell_type": "markdown",
   "metadata": {},
   "source": [
    "- 문자열 더하기"
   ]
  },
  {
   "cell_type": "code",
   "execution_count": 8,
   "metadata": {},
   "outputs": [
    {
     "name": "stdout",
     "output_type": "stream",
     "text": [
      "안녕하세요 ~ \n"
     ]
    }
   ],
   "source": [
    "str1 = '안녕'\n",
    "str2 = '하세요 ~ '\n",
    "print(str1 + str2)"
   ]
  },
  {
   "cell_type": "code",
   "execution_count": 10,
   "metadata": {},
   "outputs": [
    {
     "name": "stdout",
     "output_type": "stream",
     "text": [
      "107\n"
     ]
    }
   ],
   "source": [
    "num_str1 = '10'\n",
    "num_str2 = '7'\n",
    "print(num_str1+num_str2)"
   ]
  },
  {
   "cell_type": "markdown",
   "metadata": {},
   "source": [
    "- 숫자와 문자열을 더하면?"
   ]
  },
  {
   "cell_type": "code",
   "execution_count": null,
   "metadata": {},
   "outputs": [],
   "source": [
    "num1 = 10\n",
    "str1 = \"7\"\n",
    "print(num1 + str1) #-> 에러 발생\n",
    "\n",
    "print('num1: ', type(num1))\n",
    "print('str1: ', type(str1))\n",
    "# TypeError: unsupported operand type(s) for +: 'int' and 'str'\n",
    "# 쉽게 말하면, 자료형이 달라서 더해지지 않음"
   ]
  },
  {
   "cell_type": "code",
   "execution_count": 8,
   "metadata": {
    "scrolled": true
   },
   "outputs": [
    {
     "name": "stdout",
     "output_type": "stream",
     "text": [
      "num1: <class 'int'>\n",
      "str1: <class 'int'>\n",
      "num1+str1: 17\n"
     ]
    }
   ],
   "source": [
    "# 연산이 되게 하려면?????\n",
    "# 자료형 변환을 해줘야함 (형변환)\n",
    "\n",
    "# 둘다 숫자형으로\n",
    "print('num1:', type(num1))\n",
    "i_str1 = int(str1) \n",
    "print('str1:', type(i_str1))\n",
    "print('num1+str1:', num1 + i_str1)"
   ]
  },
  {
   "cell_type": "code",
   "execution_count": 7,
   "metadata": {},
   "outputs": [
    {
     "name": "stdout",
     "output_type": "stream",
     "text": [
      "num1: <class 'str'>\n",
      "str1: <class 'str'>\n",
      "num1+str1: 107\n"
     ]
    }
   ],
   "source": [
    "# 둘다 문자형으로 \n",
    "s_num1 = str(num1)\n",
    "print('num1:', type(s_num1))\n",
    "print('str1:', type(str1))\n",
    "print('num1+str1:', s_num1 + str1)"
   ]
  },
  {
   "cell_type": "markdown",
   "metadata": {},
   "source": [
    "- 산술 연산 예제 (시간 주고 풀게 하기)"
   ]
  },
  {
   "cell_type": "markdown",
   "metadata": {},
   "source": [
    "1. num1 = 23 num2= 3 대입하고, 더하기결과, 빼기결과, 곱하기 결과,나누기 결과를 출력하시오."
   ]
  },
  {
   "cell_type": "code",
   "execution_count": 9,
   "metadata": {},
   "outputs": [
    {
     "name": "stdout",
     "output_type": "stream",
     "text": [
      "더하기결과:26\n",
      "빼기결과:20\n",
      "곱하기결과:69\n",
      "나누기결과:7.666666666666667\n"
     ]
    }
   ],
   "source": [
    "num1 = 23\n",
    "num2 = 3\n",
    "print(f'더하기결과:{num1+num2}')\n",
    "print(f'빼기결과:{num1-num2}')\n",
    "print(f'곱하기결과:{num1*num2}')\n",
    "print(f'나누기결과:{num1/num2}')"
   ]
  },
  {
   "cell_type": "code",
   "execution_count": 10,
   "metadata": {},
   "outputs": [],
   "source": [
    "# input 함수 이용하여 num1, num2의 값을 키보드로 입력받고 \n",
    "# 위의 결과대로 출력하도록 계산하시는 코드를 짜시오."
   ]
  },
  {
   "cell_type": "code",
   "execution_count": 13,
   "metadata": {},
   "outputs": [
    {
     "name": "stdout",
     "output_type": "stream",
     "text": [
      "num1을 입력하세요> 23\n",
      "num2를 입력하세요> 3\n",
      "더하기결과:26\n",
      "빼기결과:20\n",
      "곱하기결과:69\n",
      "나누기결과:7.666666666666667\n",
      "나누기결과:7.67\n"
     ]
    }
   ],
   "source": [
    "num1 = int(input('num1을 입력하세요> '))\n",
    "num2 = int(input('num2를 입력하세요> '))\n",
    "print(f'더하기결과:{num1+num2}')\n",
    "print(f'빼기결과:{num1-num2}')\n",
    "print(f'곱하기결과:{num1*num2}')\n",
    "print(f'나누기결과:{num1/num2}')\n",
    "print(f'나누기결과:{num1/num2:.2f}')\n",
    "#소숫점 2째자리까지 출력 :.2f"
   ]
  },
  {
   "cell_type": "markdown",
   "metadata": {},
   "source": [
    "2. Python,  머신러닝, 딥러닝 점수를 키보드로 입력 받아 합계와 평균을 출력하시오.\n"
   ]
  },
  {
   "cell_type": "code",
   "execution_count": 14,
   "metadata": {},
   "outputs": [
    {
     "name": "stdout",
     "output_type": "stream",
     "text": [
      "python점수입력 >100\n",
      "머신러닝 점수입력> 80\n",
      "딥러닝점수입력>60\n",
      "합계 : 240\n",
      "평균: 80.0\n"
     ]
    }
   ],
   "source": [
    "p = int(input('python점수입력 >'))\n",
    "ml = int(input('머신러닝 점수입력> '))\n",
    "dl = int(input('딥러닝점수입력>'))\n",
    "print(f'합계 : {p+ml+dl}')\n",
    "print(f'평균: {(p+ml+dl)/3}')"
   ]
  },
  {
   "cell_type": "markdown",
   "metadata": {},
   "source": [
    "3. 변수 num1 과 num2에 정수 2개를 입력 받고, 변수 cal에 +연산자를 입력 받아 아래와 같이 출력하시오."
   ]
  },
  {
   "cell_type": "code",
   "execution_count": 25,
   "metadata": {},
   "outputs": [
    {
     "name": "stdout",
     "output_type": "stream",
     "text": [
      "----------연산하기----------\n",
      "정수입력1> 10\n",
      "정수입력2> 20\n",
      "더하기 연산자 입력> +\n",
      "10+20= 30\n"
     ]
    }
   ],
   "source": [
    "print('-'*10+'연산하기'+'-'*10)\n",
    "num1 = int(input('정수입력1> '))\n",
    "num2 = int(input('정수입력2> '))\n",
    "cal = input('더하기 연산자 입력> ')\n",
    "print(f'{num1}+{num2}= {num1+num2}')"
   ]
  },
  {
   "cell_type": "markdown",
   "metadata": {},
   "source": [
    "4. 숙제  \n",
    "초를 입력 받아 “00시간 00분 00초” 형태로 출력하시오."
   ]
  },
  {
   "cell_type": "code",
   "execution_count": 15,
   "metadata": {},
   "outputs": [
    {
     "name": "stdout",
     "output_type": "stream",
     "text": [
      "시간입력>> 7533\n",
      "2시간 5분 33초\n"
     ]
    }
   ],
   "source": [
    "time = int(input('시간입력>> '))\n",
    "# 1시간은 3600 초이기 때문에 \n",
    "hour = time//3600\n",
    "minute = time%3600//60\n",
    "second = time%3600%60\n",
    "print(f'{hour}시간 {minute}분 {second}초')"
   ]
  },
  {
   "cell_type": "code",
   "execution_count": 16,
   "metadata": {},
   "outputs": [
    {
     "name": "stdout",
     "output_type": "stream",
     "text": [
      "시간입력>> 1123\n",
      "0시간 18분 43초\n"
     ]
    }
   ],
   "source": [
    "time = int(input('시간입력>> '))\n",
    "# 1시간은 3600 초이기 때문에 \n",
    "hour = time//3600\n",
    "minute = time%3600//60\n",
    "second = time%3600%60\n",
    "print(f'{hour}시간 {minute}분 {second}초')"
   ]
  },
  {
   "cell_type": "markdown",
   "metadata": {},
   "source": [
    "- 문자열 곱하기"
   ]
  },
  {
   "cell_type": "code",
   "execution_count": 18,
   "metadata": {},
   "outputs": [
    {
     "name": "stdout",
     "output_type": "stream",
     "text": [
      "xxxxxxxxxx\n"
     ]
    }
   ],
   "source": [
    "s = 'x'\n",
    "print(s*10)"
   ]
  },
  {
   "cell_type": "code",
   "execution_count": 19,
   "metadata": {},
   "outputs": [
    {
     "name": "stdout",
     "output_type": "stream",
     "text": [
      "안녕하세요안녕하세요안녕하세요안녕하세요안녕하세요안녕하세요안녕하세요안녕하세요안녕하세요안녕하세요\n"
     ]
    }
   ],
   "source": [
    "# 안녕하세요를 10번 연속해서 출력하려면???\n",
    "\n",
    "s = '안녕하세요'\n",
    "print(s*10)"
   ]
  },
  {
   "cell_type": "markdown",
   "metadata": {},
   "source": [
    "- 지수 연산자(기호: **)"
   ]
  },
  {
   "cell_type": "code",
   "execution_count": 20,
   "metadata": {},
   "outputs": [
    {
     "data": {
      "text/plain": [
       "8"
      ]
     },
     "execution_count": 20,
     "metadata": {},
     "output_type": "execute_result"
    }
   ],
   "source": [
    "# 숫자 2의 3제곱을 해보자\n",
    "2**3"
   ]
  },
  {
   "cell_type": "code",
   "execution_count": 24,
   "metadata": {
    "scrolled": true
   },
   "outputs": [
    {
     "name": "stdout",
     "output_type": "stream",
     "text": [
      "정수입력 >2\n",
      "지수 입력> 3\n",
      "2의 3승은 8입니다.\n"
     ]
    }
   ],
   "source": [
    "# 키보드로 입력을 받아 지수연산을 실행해보자 ! \n",
    "#1. 정수값 입력받기\n",
    "#2. 지수 값 입력받기\n",
    "# 중요 ! 입력을 받을때는 문자열로 인식되기 때문에 \n",
    "#  숫자로 형변환해줘야함 \n",
    "\n",
    "# 2의 3승은 8입니다.라고 출력해보자 ! !\n",
    "number = int(input('정수입력 >'))\n",
    "power = int(input('지수 입력> '))\n",
    "print(f'{number}의 {power}승은 {number**power}입니다.')"
   ]
  },
  {
   "cell_type": "markdown",
   "metadata": {},
   "source": [
    "### 대입(복합)연산자"
   ]
  },
  {
   "cell_type": "markdown",
   "metadata": {},
   "source": [
    "- 복합대입 연산자 실습"
   ]
  },
  {
   "cell_type": "code",
   "execution_count": 29,
   "metadata": {},
   "outputs": [
    {
     "name": "stdout",
     "output_type": "stream",
     "text": [
      "27\n",
      "30\n"
     ]
    }
   ],
   "source": [
    "# 더하면서 대입 \n",
    "num = 27\n",
    "print(num)\n",
    "num += 3 # num = num + 3\n",
    "print(num)"
   ]
  },
  {
   "cell_type": "code",
   "execution_count": 31,
   "metadata": {},
   "outputs": [
    {
     "name": "stdout",
     "output_type": "stream",
     "text": [
      "100\n",
      "45\n"
     ]
    }
   ],
   "source": [
    "# 빼면서 대입 \n",
    "num = 100\n",
    "print(num)\n",
    "num -= 55 # num = num - 55\n",
    "print(num)"
   ]
  },
  {
   "cell_type": "code",
   "execution_count": 32,
   "metadata": {
    "scrolled": true
   },
   "outputs": [
    {
     "name": "stdout",
     "output_type": "stream",
     "text": [
      "100\n",
      "45\n",
      "-10\n"
     ]
    }
   ],
   "source": [
    "# 빼면서 대입 \n",
    "num = 100\n",
    "print(num)\n",
    "num -= 55 # num = num - 55\n",
    "print(num)\n",
    "num -= 55 # num = num - 55\n",
    "print(num)"
   ]
  },
  {
   "cell_type": "code",
   "execution_count": 33,
   "metadata": {},
   "outputs": [
    {
     "name": "stdout",
     "output_type": "stream",
     "text": [
      "100\n",
      "25.0\n"
     ]
    }
   ],
   "source": [
    "# 곱하면서 대입\n",
    "num = 100\n",
    "print(num)\n",
    "num /=2\n",
    "num /=2\n",
    "print(num)\n"
   ]
  },
  {
   "cell_type": "markdown",
   "metadata": {},
   "source": [
    "#### 치환 ! : 자리를 바꾸다.\n",
    "A와 B는 각각 볼펜을 들고 있다.\n",
    "\n",
    "A는 빨간색 펜, B는 파란색 펜을 들고 있을 때 들고있는 손만 활용하여 A는 파란색 펜, B는 빨간색 펜을 가질 수 있도록 하려면 어떻게 해야 할 까??"
   ]
  },
  {
   "cell_type": "code",
   "execution_count": 34,
   "metadata": {},
   "outputs": [
    {
     "name": "stdout",
     "output_type": "stream",
     "text": [
      "a:3\n",
      "b:7\n"
     ]
    }
   ],
   "source": [
    "a = 3\n",
    "b = 7\n",
    "print(f'a:{a}')\n",
    "print(f'b:{b}')"
   ]
  },
  {
   "cell_type": "code",
   "execution_count": 38,
   "metadata": {},
   "outputs": [
    {
     "name": "stdout",
     "output_type": "stream",
     "text": [
      "a:7\n",
      "b:3\n"
     ]
    }
   ],
   "source": [
    "# 치환 방법 1 \n",
    "# a에는 b데이터(7)이, b에는 a데이터(3)을 담아주기\n",
    "\n",
    "a = 3\n",
    "b = 7\n",
    "\n",
    "temp = a\n",
    "a = b\n",
    "b = temp\n",
    "print(f'a:{a}')\n",
    "print(f'b:{b}')"
   ]
  },
  {
   "cell_type": "code",
   "execution_count": 37,
   "metadata": {},
   "outputs": [
    {
     "name": "stdout",
     "output_type": "stream",
     "text": [
      "a:7\n",
      "b:3\n"
     ]
    }
   ],
   "source": [
    "# 치환방법 2\n",
    "# 파이썬은 쉽고 사용하기 편해요 !! \n",
    "\n",
    "a = 3\n",
    "b = 7\n",
    "\n",
    "a,b = b,a\n",
    "print(f'a:{a}')\n",
    "print(f'b:{b}')"
   ]
  },
  {
   "cell_type": "markdown",
   "metadata": {},
   "source": [
    "### 비교 연산자"
   ]
  },
  {
   "cell_type": "code",
   "execution_count": 40,
   "metadata": {},
   "outputs": [
    {
     "name": "stdout",
     "output_type": "stream",
     "text": [
      "False\n",
      "True\n",
      "False\n",
      "True\n"
     ]
    }
   ],
   "source": [
    "a= 3\n",
    "b = 7\n",
    "\n",
    "\n",
    "# 아래 출력 결과를 먼저 생각해보고 실행해보라고 하기\n",
    "print(a>b)\n",
    "print(a<=b)\n",
    "print(a ==b)\n",
    "print(a!=b)"
   ]
  },
  {
   "cell_type": "markdown",
   "metadata": {},
   "source": [
    "- 비교연산자 예제  \n",
    "Random 모듈을 import하고 2개의 난수를 각각 변수에 초기화하고, 비교연산자를 이용해서 출력 값을 확인해보자."
   ]
  },
  {
   "cell_type": "code",
   "execution_count": 41,
   "metadata": {},
   "outputs": [],
   "source": [
    "import random\n",
    "# random.randint(범위시작값,범위끝값)\n",
    "# 시작값 포함 0, 끝값 포함 X"
   ]
  },
  {
   "cell_type": "code",
   "execution_count": 42,
   "metadata": {},
   "outputs": [
    {
     "name": "stdout",
     "output_type": "stream",
     "text": [
      "난수 생성 >> a:10, b:9\n",
      "False\n",
      "True\n",
      "False\n",
      "True\n"
     ]
    }
   ],
   "source": [
    "a = random.randint(1,10)\n",
    "b = random.randint(1,10)\n",
    "print(f'난수 생성 >> a:{a}, b:{b}')\n",
    "print(a<b)\n",
    "print(a>b)\n",
    "print(a ==b)\n",
    "print(a !=b)"
   ]
  },
  {
   "cell_type": "markdown",
   "metadata": {},
   "source": [
    "### 논리 연산자\n",
    "true, false의 논리값(boolean값)을 반환하는 연산자"
   ]
  },
  {
   "cell_type": "markdown",
   "metadata": {},
   "source": [
    "- not 연산자"
   ]
  },
  {
   "cell_type": "code",
   "execution_count": 45,
   "metadata": {},
   "outputs": [
    {
     "name": "stdout",
     "output_type": "stream",
     "text": [
      "a < b: True\n",
      "not a < b: False\n"
     ]
    }
   ],
   "source": [
    "a = 3\n",
    "b = 7\n",
    "print(f'a < b: {a<b}')\n",
    "print(f'not a < b: {not a<b}')"
   ]
  },
  {
   "cell_type": "markdown",
   "metadata": {},
   "source": [
    "- and 연산자  \n",
    "두 조건이 모두 참(True)일 경우 참으로 반환"
   ]
  },
  {
   "cell_type": "code",
   "execution_count": 48,
   "metadata": {},
   "outputs": [
    {
     "name": "stdout",
     "output_type": "stream",
     "text": [
      "False\n",
      "False\n",
      "False\n"
     ]
    }
   ],
   "source": [
    "# 둘다 false , false \n",
    "\n",
    "print(3 > 5)\n",
    "print(10 == 20)\n",
    "\n",
    "3 > 5 and 10 == 20\n",
    "print(3 > 5 and 10 == 20)"
   ]
  },
  {
   "cell_type": "code",
   "execution_count": 49,
   "metadata": {},
   "outputs": [
    {
     "name": "stdout",
     "output_type": "stream",
     "text": [
      "False\n",
      "True\n",
      "False\n"
     ]
    }
   ],
   "source": [
    "# 각기 다를때 False , True -> False\n",
    "print(3 > 5)\n",
    "print(10 < 20)\n",
    "\n",
    "3 > 5 and 10 < 20\n",
    "print(3 > 5 and 10 < 20)"
   ]
  },
  {
   "cell_type": "code",
   "execution_count": 50,
   "metadata": {},
   "outputs": [
    {
     "name": "stdout",
     "output_type": "stream",
     "text": [
      "True\n",
      "True\n",
      "True\n"
     ]
    }
   ],
   "source": [
    "# 각기 다를때 False , True -> False\n",
    "print(3 < 5)\n",
    "print(10 < 20)\n",
    "\n",
    "3 < 5 and 10 < 20\n",
    "print(3 < 5 and 10 < 20)"
   ]
  },
  {
   "cell_type": "markdown",
   "metadata": {},
   "source": [
    "- or 연산자  \n",
    "두 조건이 하나라도 참(True)이면 참 반환"
   ]
  },
  {
   "cell_type": "code",
   "execution_count": 51,
   "metadata": {},
   "outputs": [
    {
     "name": "stdout",
     "output_type": "stream",
     "text": [
      "False\n",
      "False\n",
      "False\n"
     ]
    }
   ],
   "source": [
    "# 둘다 false , false \n",
    "\n",
    "print(3 > 5)\n",
    "print(10 == 20)\n",
    "\n",
    "3 > 5 or 10 == 20\n",
    "print(3 > 5 or 10 == 20)"
   ]
  },
  {
   "cell_type": "code",
   "execution_count": 52,
   "metadata": {},
   "outputs": [
    {
     "name": "stdout",
     "output_type": "stream",
     "text": [
      "False\n",
      "True\n",
      "True\n"
     ]
    }
   ],
   "source": [
    "# 하나라도 false ,true\n",
    "\n",
    "print(3 > 5)\n",
    "print(10 < 20)\n",
    "\n",
    "3 > 5 or 10 < 20\n",
    "print(3 > 5 or 10 < 20)"
   ]
  },
  {
   "cell_type": "code",
   "execution_count": 53,
   "metadata": {},
   "outputs": [
    {
     "name": "stdout",
     "output_type": "stream",
     "text": [
      "True\n",
      "True\n",
      "True\n"
     ]
    }
   ],
   "source": [
    "# 둘다 true ,true\n",
    "\n",
    "print(3 < 5)\n",
    "print(10 < 20)\n",
    "\n",
    "3 < 5 or 10 < 20\n",
    "print(3 < 5 or 10 < 20)"
   ]
  },
  {
   "cell_type": "markdown",
   "metadata": {},
   "source": [
    "### 삼항연산자\n",
    "a(참일때 실행) if 조건식 else b(거짓일때 실행)"
   ]
  },
  {
   "cell_type": "code",
   "execution_count": 56,
   "metadata": {},
   "outputs": [
    {
     "data": {
      "text/plain": [
       "'합격입니다.'"
      ]
     },
     "execution_count": 56,
     "metadata": {},
     "output_type": "execute_result"
    }
   ],
   "source": [
    "score = 80\n",
    "'합격입니다.' if score>=60 else '불합격입니다.'"
   ]
  },
  {
   "cell_type": "code",
   "execution_count": 57,
   "metadata": {},
   "outputs": [
    {
     "data": {
      "text/plain": [
       "'불합격입니다.'"
      ]
     },
     "execution_count": 57,
     "metadata": {},
     "output_type": "execute_result"
    }
   ],
   "source": [
    "score = 50\n",
    "'합격입니다.' if score>=60 else '불합격입니다.'"
   ]
  },
  {
   "cell_type": "markdown",
   "metadata": {},
   "source": [
    "삼항 연산자 실습 예제  \n",
    "\n",
    "1. 키보드로 두 개의 정수를 입력받아 큰 수를 출력하시오."
   ]
  },
  {
   "cell_type": "code",
   "execution_count": 59,
   "metadata": {},
   "outputs": [
    {
     "name": "stdout",
     "output_type": "stream",
     "text": [
      "정수입력1 >> 3\n",
      "정수입력2 >> 10\n",
      "b:10\n"
     ]
    }
   ],
   "source": [
    "a = int(input('정수입력1 >> '))\n",
    "b = int(input('정수입력2 >> '))\n",
    "\n",
    "print(f'b:{b}') if a < b else print(f'a:{a}')"
   ]
  },
  {
   "cell_type": "markdown",
   "metadata": {},
   "source": [
    "2. 두 개의 정수를 입력 받아 큰 수에서 작은 수를 뺀 결과값을 출력하시오."
   ]
  },
  {
   "cell_type": "code",
   "execution_count": 62,
   "metadata": {},
   "outputs": [
    {
     "name": "stdout",
     "output_type": "stream",
     "text": [
      "정수입력1 >> 5\n",
      "정수입력2 >> 10\n",
      "b-a:5\n"
     ]
    }
   ],
   "source": [
    "a = int(input('정수입력1 >> '))\n",
    "b = int(input('정수입력2 >> '))\n",
    "\n",
    "print(f'b-a:{b-a}') if a < b else print(f'a-b:{a-b}')"
   ]
  },
  {
   "cell_type": "markdown",
   "metadata": {},
   "source": [
    "3. 키보드로 정수를 입력 받아 홀수인지 짝수인지 판별하시오\n"
   ]
  },
  {
   "cell_type": "code",
   "execution_count": 64,
   "metadata": {},
   "outputs": [
    {
     "name": "stdout",
     "output_type": "stream",
     "text": [
      "정수입력1 >> 33\n",
      "33는 홀수입니다.\n"
     ]
    }
   ],
   "source": [
    "a = int(input('정수입력1 >> '))\n",
    "\n",
    "print(f'{a}는 짝수입니다.') if a%2 ==0 else print(f'{a}는 홀수입니다.')"
   ]
  },
  {
   "cell_type": "code",
   "execution_count": 65,
   "metadata": {},
   "outputs": [
    {
     "name": "stdout",
     "output_type": "stream",
     "text": [
      "정수입력1 >> 22\n",
      "22는 짝수입니다.\n"
     ]
    }
   ],
   "source": [
    "a = int(input('정수입력1 >> '))\n",
    "\n",
    "print(f'{a}는 짝수입니다.') if a%2 ==0 else print(f'{a}는 홀수입니다.')"
   ]
  },
  {
   "cell_type": "code",
   "execution_count": null,
   "metadata": {},
   "outputs": [],
   "source": []
  }
 ],
 "metadata": {
  "kernelspec": {
   "display_name": "Python 3",
   "language": "python",
   "name": "python3"
  },
  "language_info": {
   "codemirror_mode": {
    "name": "ipython",
    "version": 3
   },
   "file_extension": ".py",
   "mimetype": "text/x-python",
   "name": "python",
   "nbconvert_exporter": "python",
   "pygments_lexer": "ipython3",
   "version": "3.7.11"
  }
 },
 "nbformat": 4,
 "nbformat_minor": 4
}

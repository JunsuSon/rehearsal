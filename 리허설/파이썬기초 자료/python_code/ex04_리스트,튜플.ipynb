{
 "cells": [
  {
   "cell_type": "markdown",
   "metadata": {},
   "source": [
    "##  목표\n",
    "- 리스트와 튜플에 대해 이해해보자\n",
    "- 리스트 관련 함수 활용해보자"
   ]
  },
  {
   "cell_type": "markdown",
   "metadata": {},
   "source": [
    "### 리스트란?\n",
    "- list\n",
    "- 파이썬의 자료 구조 형태중 하나\n",
    "- 순서가 있는 수정가능한 객체의 집합: 수정,삭제,추가 가능\n",
    "- 대괄호로 작성되어지며, 내부 요소는 콤마(,)로 구분"
   ]
  },
  {
   "cell_type": "markdown",
   "metadata": {},
   "source": [
    "- 리스트의 기본 구조"
   ]
  },
  {
   "cell_type": "code",
   "execution_count": 1,
   "metadata": {},
   "outputs": [],
   "source": [
    "# 빈 리스트\n",
    "list1 = []\n",
    "\n",
    "# 숫자형 요소값을 담은 리스트\n",
    "list2 = [1,2,3]\n",
    "\n",
    "#문자열 요소값을 담은 리스트\n",
    "list3 = ['my','name']\n",
    "\n",
    "#숫자형과 문자열을 같이 담고 있는 리스트\n",
    "list4 = [1,'my','name']\n",
    "\n",
    "# 숫자형과 리스트요소를 가진 리스트\n",
    "list5 = [1,['my','name']]"
   ]
  },
  {
   "cell_type": "code",
   "execution_count": 2,
   "metadata": {},
   "outputs": [],
   "source": [
    "# 리스트와 튜플은 자료를 변수 하나에 한개만 저장하는것이아니라\n",
    "# 여러개를 동시에 저장할 수 있도록 하는 자료구조\n",
    "# 중요한 포인트 ! 더 많은 데이터(리스트의 요소단위)를 저장하기 위함 "
   ]
  },
  {
   "cell_type": "markdown",
   "metadata": {},
   "source": [
    "### 리스트 인덱싱&슬라이싱\n",
    "리스트에 여러 값을 저장하고 각 데이터값에 접근하는 방법"
   ]
  },
  {
   "attachments": {},
   "cell_type": "markdown",
   "metadata": {},
   "source": [
    "- 인덱싱(indexing): 무엇인가를 ‘가리킨다‘는 의미\n",
    "\n",
    "- 슬라이싱(Slicing): 무엇인가를 ‘잘라낸다’는 의미"
   ]
  },
  {
   "cell_type": "markdown",
   "metadata": {},
   "source": [
    "####  리스트 인덱싱\n",
    "리스트[인덱스번호]"
   ]
  },
  {
   "cell_type": "code",
   "execution_count": 15,
   "metadata": {},
   "outputs": [
    {
     "name": "stdout",
     "output_type": "stream",
     "text": [
      "2라는 요소 값 접근:  2\n",
      "7이라는 요소값 접근:  7\n",
      "10이라는 요소값 접근:  10\n",
      "0번째와 4번째 요소값 더하기:  12\n"
     ]
    }
   ],
   "source": [
    "# 문자열 인덱싱과 마찬가지로 인덱스번호는 0부터 시작 ~ \n",
    "\n",
    "list1 = [2,5,7,9,10]\n",
    "list1\n",
    "\n",
    "# [] 안에 인덱스 번호 1개 입력\n",
    "print('2라는 요소 값 접근: ',list1[0])\n",
    "print('7이라는 요소값 접근: ',list1[2])\n",
    "print('10이라는 요소값 접근: ',list1[4])\n",
    "print('0번째와 4번째 요소값 더하기: ', list1[0]+list1[-1])"
   ]
  },
  {
   "cell_type": "markdown",
   "metadata": {},
   "source": [
    "#### 리스트 인덱싱 예제"
   ]
  },
  {
   "cell_type": "code",
   "execution_count": 16,
   "metadata": {},
   "outputs": [
    {
     "data": {
      "text/plain": [
       "[1, 2, 3, ['a', 'b', 'c']]"
      ]
     },
     "execution_count": 16,
     "metadata": {},
     "output_type": "execute_result"
    }
   ],
   "source": [
    "list2 =[1,2,3,['a','b','c']]\n",
    "list2"
   ]
  },
  {
   "cell_type": "code",
   "execution_count": 17,
   "metadata": {},
   "outputs": [
    {
     "data": {
      "text/plain": [
       "['a', 'b', 'c']"
      ]
     },
     "execution_count": 17,
     "metadata": {},
     "output_type": "execute_result"
    }
   ],
   "source": [
    "# ['a', 'b', 'c'] 데이터 접근\n",
    "list2[3]"
   ]
  },
  {
   "cell_type": "code",
   "execution_count": 18,
   "metadata": {},
   "outputs": [
    {
     "data": {
      "text/plain": [
       "'b'"
      ]
     },
     "execution_count": 18,
     "metadata": {},
     "output_type": "execute_result"
    }
   ],
   "source": [
    "# 'b' 데이터 접근\n",
    "list2[3][1]"
   ]
  },
  {
   "attachments": {},
   "cell_type": "markdown",
   "metadata": {},
   "source": [
    "#### 리스트[시작값:끝값]\n",
    "start 인덱스부터 end 인덱스 바로 전까지 값 반환 (start <= x < end)  \n",
    "시작값은 포함o, 끝값은 포함x"
   ]
  },
  {
   "cell_type": "code",
   "execution_count": 21,
   "metadata": {},
   "outputs": [
    {
     "data": {
      "text/plain": [
       "[1, 2]"
      ]
     },
     "execution_count": 21,
     "metadata": {},
     "output_type": "execute_result"
    }
   ],
   "source": [
    "list3 = [0,1,2,3,4]\n",
    "# 1,2 요소값에 접근\n",
    "list3[1:3]"
   ]
  },
  {
   "cell_type": "code",
   "execution_count": 22,
   "metadata": {},
   "outputs": [
    {
     "data": {
      "text/plain": [
       "[0, 1]"
      ]
     },
     "execution_count": 22,
     "metadata": {},
     "output_type": "execute_result"
    }
   ],
   "source": [
    "# 0,1 요소값 접근\n",
    "list3[0:2] # list3[:2]"
   ]
  },
  {
   "cell_type": "code",
   "execution_count": 25,
   "metadata": {},
   "outputs": [
    {
     "data": {
      "text/plain": [
       "[3, 4]"
      ]
     },
     "execution_count": 25,
     "metadata": {},
     "output_type": "execute_result"
    }
   ],
   "source": [
    "# 3,4 요소값에 접근\n",
    "list3[3:5] #list3[:]"
   ]
  },
  {
   "cell_type": "markdown",
   "metadata": {},
   "source": [
    "- 리스트와 리스트를 더하면?"
   ]
  },
  {
   "cell_type": "code",
   "execution_count": 26,
   "metadata": {},
   "outputs": [
    {
     "data": {
      "text/plain": [
       "[1, 2, 3, 3, 4, 5, 6]"
      ]
     },
     "execution_count": 26,
     "metadata": {},
     "output_type": "execute_result"
    }
   ],
   "source": [
    "list4 = [1,2,3]\n",
    "list5 = [3,4,5,6]\n",
    "list4 + list5 # 결과는 뒤로 붙게 됨 , 숫자 연산이 안됨"
   ]
  },
  {
   "cell_type": "markdown",
   "metadata": {},
   "source": [
    "### 리스트 관련함수\n",
    "#### 리스트 값 추가: append(), insert()\n",
    "\n",
    "\\- append(): 리스트의 맨 뒤에 값을 추가  \n",
    "\\- insert(): 사용자가 지정한 위치에 값을 추가 "
   ]
  },
  {
   "cell_type": "markdown",
   "metadata": {},
   "source": [
    "- 리스트.append(값)"
   ]
  },
  {
   "cell_type": "code",
   "execution_count": 47,
   "metadata": {},
   "outputs": [
    {
     "data": {
      "text/plain": [
       "['사과', '포도', ['수박', '멜론'], '복숭아', '딸기', '오렌지']"
      ]
     },
     "execution_count": 47,
     "metadata": {},
     "output_type": "execute_result"
    }
   ],
   "source": [
    "list_fs = ['사과','포도',['수박','멜론'],'복숭아','딸기','오렌지']\n",
    "list_fs"
   ]
  },
  {
   "cell_type": "markdown",
   "metadata": {},
   "source": [
    "- 리스트 append 실습예제  \n",
    "리스트 list 에 담긴 ‘사과‘, ‘수박‘, ‘오렌지＇를 인덱싱하여 각각 변수에 저장하고, \n",
    "비어 있는 리스트 choice_list에 append함수를 이용하여 추가한 후 아래와 같이 출력하시오.\n"
   ]
  },
  {
   "cell_type": "code",
   "execution_count": 48,
   "metadata": {},
   "outputs": [
    {
     "data": {
      "text/plain": [
       "['사과', '오렌지', '수박']"
      ]
     },
     "execution_count": 48,
     "metadata": {},
     "output_type": "execute_result"
    }
   ],
   "source": [
    "# choice_list 빈 리스트 선언\n",
    "choice_list =[]\n",
    "choice_list.append(list_fs[0])\n",
    "choice_list.append(list_fs[-1])\n",
    "choice_list.append(list_fs[2][0])\n",
    "choice_list"
   ]
  },
  {
   "cell_type": "markdown",
   "metadata": {},
   "source": [
    "- 리스트.insert(인덱스위치,값)\n"
   ]
  },
  {
   "cell_type": "code",
   "execution_count": 29,
   "metadata": {},
   "outputs": [],
   "source": [
    "list5 = [0,1,2,3,4]\n",
    "list5.insert(1,5)"
   ]
  },
  {
   "cell_type": "code",
   "execution_count": 30,
   "metadata": {},
   "outputs": [
    {
     "data": {
      "text/plain": [
       "[0, 5, 1, 2, 3, 4]"
      ]
     },
     "execution_count": 30,
     "metadata": {},
     "output_type": "execute_result"
    }
   ],
   "source": [
    "list5 # 1번째 인덱스 자리에 5라는 값 추가, 기존의 있던 데이터들 한칸씩 뒤로 밀려남"
   ]
  },
  {
   "cell_type": "markdown",
   "metadata": {},
   "source": [
    "- 리스트 insert 실습예제"
   ]
  },
  {
   "cell_type": "markdown",
   "metadata": {},
   "source": [
    "정수 형태의 인덱스 값과 노래 제목,   \n",
    "가수명도 각각 입력 받은 후 변수에 저장하고,  \n",
    "insert함수를 이용하여 리스트 music_list에 새로운 값을 추가하시오. \n"
   ]
  },
  {
   "cell_type": "code",
   "execution_count": 45,
   "metadata": {},
   "outputs": [
    {
     "data": {
      "text/plain": [
       "[['Butter', '방탄'], ['헤픈 우연', '헤이즈'], ['라일락', '아이유']]"
      ]
     },
     "execution_count": 45,
     "metadata": {},
     "output_type": "execute_result"
    }
   ],
   "source": [
    "music_list =[['Butter','방탄'],['헤픈 우연','헤이즈'],['라일락','아이유']]\n",
    "music_list"
   ]
  },
  {
   "cell_type": "code",
   "execution_count": 46,
   "metadata": {},
   "outputs": [
    {
     "name": "stdout",
     "output_type": "stream",
     "text": [
      "인덱스위치입력 >> 2\n",
      "노래제목입력 >> 롤린\n",
      "가수입력 >> 브레이브걸스\n",
      "music_list:  [['Butter', '방탄'], ['헤픈 우연', '헤이즈'], ['롤린', '브레이브걸스'], ['라일락', '아이유']]\n"
     ]
    }
   ],
   "source": [
    "loc = int(input('인덱스위치입력 >> '))\n",
    "song = input('노래제목입력 >> ')\n",
    "singer = input('가수입력 >> ')\n",
    "\n",
    "music_list.insert(loc,[song,singer])\n",
    "print('music_list: ', music_list)"
   ]
  },
  {
   "cell_type": "code",
   "execution_count": 43,
   "metadata": {},
   "outputs": [
    {
     "data": {
      "text/plain": [
       "[['Butter', '방탄'], ['헤픈 우연', '헤이즈'], ['롤린', '브레이브걸스'], ['라일락', '아이유']]"
      ]
     },
     "execution_count": 43,
     "metadata": {},
     "output_type": "execute_result"
    }
   ],
   "source": [
    "music_list"
   ]
  },
  {
   "cell_type": "markdown",
   "metadata": {},
   "source": [
    "#### 리스트 수정"
   ]
  },
  {
   "cell_type": "code",
   "execution_count": 57,
   "metadata": {},
   "outputs": [
    {
     "data": {
      "text/plain": [
       "[0, 1, 2, 3, 4]"
      ]
     },
     "execution_count": 57,
     "metadata": {},
     "output_type": "execute_result"
    }
   ],
   "source": [
    "list6 = [0,1,2,3,4]\n",
    "list6"
   ]
  },
  {
   "cell_type": "code",
   "execution_count": 51,
   "metadata": {},
   "outputs": [
    {
     "name": "stdout",
     "output_type": "stream",
     "text": [
      "수정 전:  1\n",
      "수정 후:  7\n",
      "리스트 전체:  [0, 7, 2, 3, 4]\n"
     ]
    }
   ],
   "source": [
    "print('수정 전: ', list6[1])\n",
    "list6[1] = 7\n",
    "print('수정 후: ', list6[1])\n",
    "print('리스트 전체: ', list6)"
   ]
  },
  {
   "cell_type": "code",
   "execution_count": 59,
   "metadata": {},
   "outputs": [
    {
     "ename": "TypeError",
     "evalue": "can only assign an iterable",
     "output_type": "error",
     "traceback": [
      "\u001b[1;31m---------------------------------------------------------------------------\u001b[0m",
      "\u001b[1;31mTypeError\u001b[0m                                 Traceback (most recent call last)",
      "\u001b[1;32m<ipython-input-59-a82bcf54ba69>\u001b[0m in \u001b[0;36m<module>\u001b[1;34m\u001b[0m\n\u001b[0;32m      1\u001b[0m \u001b[1;31m# 오류 발생 상황\u001b[0m\u001b[1;33m\u001b[0m\u001b[1;33m\u001b[0m\u001b[1;33m\u001b[0m\u001b[0m\n\u001b[1;32m----> 2\u001b[1;33m \u001b[0mlist6\u001b[0m\u001b[1;33m[\u001b[0m\u001b[1;36m2\u001b[0m\u001b[1;33m:\u001b[0m\u001b[1;36m4\u001b[0m\u001b[1;33m]\u001b[0m \u001b[1;33m=\u001b[0m \u001b[1;36m7\u001b[0m\u001b[1;33m\u001b[0m\u001b[1;33m\u001b[0m\u001b[0m\n\u001b[0m\u001b[0;32m      3\u001b[0m \u001b[1;31m# can only assign an iterable\u001b[0m\u001b[1;33m\u001b[0m\u001b[1;33m\u001b[0m\u001b[1;33m\u001b[0m\u001b[0m\n\u001b[0;32m      4\u001b[0m \u001b[1;31m# 반복가능한 대상만 가능\u001b[0m\u001b[1;33m\u001b[0m\u001b[1;33m\u001b[0m\u001b[1;33m\u001b[0m\u001b[0m\n",
      "\u001b[1;31mTypeError\u001b[0m: can only assign an iterable"
     ]
    }
   ],
   "source": [
    "# 오류 발생 상황\n",
    "list6[2:4] = 7\n",
    "# can only assign an iterable\n",
    "# 반복가능한 대상만 가능"
   ]
  },
  {
   "cell_type": "code",
   "execution_count": 64,
   "metadata": {},
   "outputs": [
    {
     "name": "stdout",
     "output_type": "stream",
     "text": [
      "[0, 1, 2, 3, 4]\n",
      "[0, 1, 7, 4]\n"
     ]
    }
   ],
   "source": [
    "list6 = [0,1,2,3,4]\n",
    "print(list6)\n",
    "list6[2:4] = [7]\n",
    "print(list6)"
   ]
  },
  {
   "cell_type": "markdown",
   "metadata": {},
   "source": [
    "- 리스트 수정 예제  "
   ]
  },
  {
   "cell_type": "code",
   "execution_count": 74,
   "metadata": {},
   "outputs": [
    {
     "name": "stdout",
     "output_type": "stream",
     "text": [
      "[1, 2, 3, 4, 5]\n",
      "[1, 2, 3, 4, 7]\n"
     ]
    }
   ],
   "source": [
    "array = [1,2,3,4,5]\n",
    "print(array)\n",
    "# 리스트 array에 숫자 5를 7으로 바꾸시오.\n",
    "\n",
    "array[-1] = 7\n",
    "print(array)"
   ]
  },
  {
   "cell_type": "code",
   "execution_count": 75,
   "metadata": {},
   "outputs": [
    {
     "name": "stdout",
     "output_type": "stream",
     "text": [
      "[1, ['a', 'b', 'c'], 3, 4, 7]\n"
     ]
    }
   ],
   "source": [
    "#리스트 array에 숫자 2를  리스트[‘a’,’b’,’c’]로 바꾸시오.\n",
    "\n",
    "array[1] = ['a','b','c']\n",
    "print(array)"
   ]
  },
  {
   "cell_type": "code",
   "execution_count": 76,
   "metadata": {},
   "outputs": [
    {
     "data": {
      "text/plain": [
       "[1, ['a', 'b', 'c'], 3, 'd', 'e', 'f', 'g']"
      ]
     },
     "execution_count": 76,
     "metadata": {},
     "output_type": "execute_result"
    }
   ],
   "source": [
    "#리스트 array에 4,7를  ‘d’, ‘e’, ‘f’, ‘g’로 바꾸시오.\n",
    "array[3:] = 'defg' # array[3:] = ['d','e'.'f''g']\n",
    "array"
   ]
  },
  {
   "cell_type": "code",
   "execution_count": 72,
   "metadata": {},
   "outputs": [],
   "source": [
    "#리스트 array에 1을 ‘h’, ‘i’, ‘j’ 로 바꾸시오\n",
    "array[:0] = 'hij' #array[:0] = ['h','i','j']"
   ]
  },
  {
   "cell_type": "code",
   "execution_count": 73,
   "metadata": {},
   "outputs": [
    {
     "data": {
      "text/plain": [
       "['h', 'i', 'j', 1, ['a', 'b', 'c'], 3, 'd', 'e', 'f', 'g']"
      ]
     },
     "execution_count": 73,
     "metadata": {},
     "output_type": "execute_result"
    }
   ],
   "source": [
    "array"
   ]
  },
  {
   "cell_type": "markdown",
   "metadata": {},
   "source": [
    "#### 리스트 삭제\n",
    "del 키워드 이용  \n",
    "리스트.remove(값)  "
   ]
  },
  {
   "cell_type": "code",
   "execution_count": 78,
   "metadata": {},
   "outputs": [
    {
     "name": "stdout",
     "output_type": "stream",
     "text": [
      "[0, 2, 3, 4, 5]\n"
     ]
    }
   ],
   "source": [
    "list7 = [0,1,2,3,4,5]\n",
    "# 1번째 인덱스 값 삭제\n",
    "del list7[1]\n",
    "print(list7)"
   ]
  },
  {
   "cell_type": "code",
   "execution_count": 79,
   "metadata": {},
   "outputs": [
    {
     "name": "stdout",
     "output_type": "stream",
     "text": [
      "[0, 2, 3, 4, 5]\n"
     ]
    }
   ],
   "source": [
    "list7 = [0,1,2,3,4,5]\n",
    "# 1이라는 요소값 삭제 \n",
    "list7.remove(1)\n",
    "print(list7)"
   ]
  },
  {
   "cell_type": "code",
   "execution_count": 80,
   "metadata": {},
   "outputs": [
    {
     "ename": "ValueError",
     "evalue": "list.remove(x): x not in list",
     "output_type": "error",
     "traceback": [
      "\u001b[1;31m---------------------------------------------------------------------------\u001b[0m",
      "\u001b[1;31mValueError\u001b[0m                                Traceback (most recent call last)",
      "\u001b[1;32m<ipython-input-80-86d833fcc64d>\u001b[0m in \u001b[0;36m<module>\u001b[1;34m\u001b[0m\n\u001b[1;32m----> 1\u001b[1;33m \u001b[0mlist7\u001b[0m\u001b[1;33m.\u001b[0m\u001b[0mremove\u001b[0m\u001b[1;33m(\u001b[0m\u001b[1;36m1\u001b[0m\u001b[1;33m)\u001b[0m\u001b[1;33m\u001b[0m\u001b[1;33m\u001b[0m\u001b[0m\n\u001b[0m",
      "\u001b[1;31mValueError\u001b[0m: list.remove(x): x not in list"
     ]
    }
   ],
   "source": [
    "# 2번째 실행하면 오류나는 이유 -> 1이라는 값이 이미 없기 때문에 ! \n",
    "list7.remove(1)"
   ]
  },
  {
   "cell_type": "markdown",
   "metadata": {},
   "source": [
    "#### 리스트 정렬 \n",
    "리스트.sort() 오름차순정렬"
   ]
  },
  {
   "cell_type": "code",
   "execution_count": 81,
   "metadata": {},
   "outputs": [
    {
     "data": {
      "text/plain": [
       "[9, 77, 13, 51, 100, 3]"
      ]
     },
     "execution_count": 81,
     "metadata": {},
     "output_type": "execute_result"
    }
   ],
   "source": [
    "list8 = [9,77,13,51,100,3]\n",
    "list8"
   ]
  },
  {
   "cell_type": "code",
   "execution_count": 82,
   "metadata": {},
   "outputs": [],
   "source": [
    "list8.sort()"
   ]
  },
  {
   "cell_type": "code",
   "execution_count": 83,
   "metadata": {},
   "outputs": [
    {
     "data": {
      "text/plain": [
       "[3, 9, 13, 51, 77, 100]"
      ]
     },
     "execution_count": 83,
     "metadata": {},
     "output_type": "execute_result"
    }
   ],
   "source": [
    "list8"
   ]
  },
  {
   "cell_type": "markdown",
   "metadata": {},
   "source": [
    "리스트 역순으로 뒤집기  \n",
    "리스트.reverse()"
   ]
  },
  {
   "cell_type": "code",
   "execution_count": 84,
   "metadata": {},
   "outputs": [
    {
     "data": {
      "text/plain": [
       "[3, 100, 51, 13, 77, 9]"
      ]
     },
     "execution_count": 84,
     "metadata": {},
     "output_type": "execute_result"
    }
   ],
   "source": [
    "list9 = [9,77,13,51,100,3]\n",
    "list9.reverse()\n",
    "list9"
   ]
  },
  {
   "cell_type": "markdown",
   "metadata": {},
   "source": [
    "- 정렬 실습 예제  \n",
    "list9 내용 내림차순 정렬"
   ]
  },
  {
   "cell_type": "code",
   "execution_count": 85,
   "metadata": {},
   "outputs": [
    {
     "data": {
      "text/plain": [
       "[100, 77, 51, 13, 9, 3]"
      ]
     },
     "execution_count": 85,
     "metadata": {},
     "output_type": "execute_result"
    }
   ],
   "source": [
    "list9 = [9,77,13,51,100,3]\n",
    "list9.sort()\n",
    "list9.reverse()\n",
    "list9"
   ]
  },
  {
   "cell_type": "markdown",
   "metadata": {},
   "source": [
    "#### 리스트 값 위치 반환 및 제거\n",
    "list.index()  \n",
    "list.pop()  "
   ]
  },
  {
   "cell_type": "code",
   "execution_count": 92,
   "metadata": {},
   "outputs": [
    {
     "data": {
      "text/plain": [
       "2"
      ]
     },
     "execution_count": 92,
     "metadata": {},
     "output_type": "execute_result"
    }
   ],
   "source": [
    "list10 = ['a','b','c','d','e','f']\n",
    "list10.index('c') # 'c' 가 있는 인덱스위치 반환"
   ]
  },
  {
   "cell_type": "code",
   "execution_count": 93,
   "metadata": {},
   "outputs": [
    {
     "data": {
      "text/plain": [
       "['a', 'b', 'c', 'd', 'e', 'f']"
      ]
     },
     "execution_count": 93,
     "metadata": {},
     "output_type": "execute_result"
    }
   ],
   "source": [
    "list10"
   ]
  },
  {
   "cell_type": "code",
   "execution_count": 95,
   "metadata": {},
   "outputs": [
    {
     "data": {
      "text/plain": [
       "'e'"
      ]
     },
     "execution_count": 95,
     "metadata": {},
     "output_type": "execute_result"
    }
   ],
   "source": [
    "list10.pop() # 맨 뒤에 값을 찾아 반환하며 삭제"
   ]
  },
  {
   "cell_type": "code",
   "execution_count": 96,
   "metadata": {},
   "outputs": [
    {
     "data": {
      "text/plain": [
       "['a', 'b', 'c', 'd']"
      ]
     },
     "execution_count": 96,
     "metadata": {},
     "output_type": "execute_result"
    }
   ],
   "source": [
    "list10"
   ]
  },
  {
   "cell_type": "markdown",
   "metadata": {},
   "source": [
    "#### 리스트 길이 확인\n",
    "len() "
   ]
  },
  {
   "cell_type": "code",
   "execution_count": 97,
   "metadata": {},
   "outputs": [
    {
     "data": {
      "text/plain": [
       "3"
      ]
     },
     "execution_count": 97,
     "metadata": {},
     "output_type": "execute_result"
    }
   ],
   "source": [
    "list11 = [0,1,2]\n",
    "len(list11)"
   ]
  },
  {
   "cell_type": "code",
   "execution_count": 98,
   "metadata": {},
   "outputs": [],
   "source": [
    "# 요소의 개수 ? 3\n",
    "# 맨 마지막 인덱스 번호는 ? 2"
   ]
  },
  {
   "cell_type": "markdown",
   "metadata": {},
   "source": [
    "### 튜플이란?\n",
    "- 파이썬의 자료구조 형태중 하나\n",
    "- 순서가 있는 집합으로 추가,수정,삭제 불가능\n",
    "- 소괄호(())로 작성, 튜플 내부 요소는 콤마(,)로 구분"
   ]
  },
  {
   "cell_type": "markdown",
   "metadata": {},
   "source": [
    "- 튜플 기본 구조  \n",
    "a = ()  \n",
    "b = (1,2,3)  \n",
    "c = ('my','name')  \n",
    "d = (1,2,'my','name')  \n",
    "e = (1,2,('my','name))  \n"
   ]
  },
  {
   "cell_type": "markdown",
   "metadata": {},
   "source": [
    "#### 튜플 인덱싱\n",
    "튜플[인덱스번호]"
   ]
  },
  {
   "cell_type": "code",
   "execution_count": 99,
   "metadata": {},
   "outputs": [
    {
     "data": {
      "text/plain": [
       "(0, 1, 2, 3, ('a', 'b', 'c'), 5)"
      ]
     },
     "execution_count": 99,
     "metadata": {},
     "output_type": "execute_result"
    }
   ],
   "source": [
    "tp1 = (0,1,2,3,('a','b','c'),5)\n",
    "tp1"
   ]
  },
  {
   "cell_type": "code",
   "execution_count": 100,
   "metadata": {},
   "outputs": [
    {
     "data": {
      "text/plain": [
       "2"
      ]
     },
     "execution_count": 100,
     "metadata": {},
     "output_type": "execute_result"
    }
   ],
   "source": [
    "# 2번째 인덱스위치값에 접근\n",
    "tp1[2]"
   ]
  },
  {
   "cell_type": "code",
   "execution_count": 101,
   "metadata": {
    "scrolled": true
   },
   "outputs": [
    {
     "data": {
      "text/plain": [
       "('a', 'b', 'c')"
      ]
     },
     "execution_count": 101,
     "metadata": {},
     "output_type": "execute_result"
    }
   ],
   "source": [
    "# 4번째 인덱스위치 값에 접근\n",
    "tp1[4]"
   ]
  },
  {
   "attachments": {},
   "cell_type": "markdown",
   "metadata": {},
   "source": [
    "#### 튜플 슬라이싱  \n",
    "튜플[start 인덱스 : end 인덱스]  \n",
    "start 인덱스부터 end 인덱스 바로 전까지 값 반환 (start <= x < end)"
   ]
  },
  {
   "cell_type": "code",
   "execution_count": 103,
   "metadata": {},
   "outputs": [
    {
     "data": {
      "text/plain": [
       "(0, 1, 2, 3, ('a', 'b', 'c'), 5)"
      ]
     },
     "execution_count": 103,
     "metadata": {},
     "output_type": "execute_result"
    }
   ],
   "source": [
    "tp1"
   ]
  },
  {
   "cell_type": "code",
   "execution_count": 102,
   "metadata": {},
   "outputs": [
    {
     "data": {
      "text/plain": [
       "(1, 2)"
      ]
     },
     "execution_count": 102,
     "metadata": {},
     "output_type": "execute_result"
    }
   ],
   "source": [
    "# 1,2 요소값에 접근\n",
    "tp1[1:3]"
   ]
  },
  {
   "cell_type": "code",
   "execution_count": 106,
   "metadata": {},
   "outputs": [
    {
     "data": {
      "text/plain": [
       "(3, ('a', 'b', 'c'), 5)"
      ]
     },
     "execution_count": 106,
     "metadata": {},
     "output_type": "execute_result"
    }
   ],
   "source": [
    "#3부터 요소끝값까지 접근하여 확인하기\n",
    "tp1[3:]"
   ]
  },
  {
   "cell_type": "markdown",
   "metadata": {},
   "source": [
    "#### 튜플 길이 == 요소 개수 확인\n",
    "len(튜플)"
   ]
  },
  {
   "cell_type": "code",
   "execution_count": 108,
   "metadata": {},
   "outputs": [
    {
     "data": {
      "text/plain": [
       "(0, 1, 2, 3, ('a', 'b', 'c'), 5)"
      ]
     },
     "execution_count": 108,
     "metadata": {},
     "output_type": "execute_result"
    }
   ],
   "source": [
    "tp1"
   ]
  },
  {
   "cell_type": "code",
   "execution_count": 109,
   "metadata": {},
   "outputs": [
    {
     "data": {
      "text/plain": [
       "6"
      ]
     },
     "execution_count": 109,
     "metadata": {},
     "output_type": "execute_result"
    }
   ],
   "source": [
    "len(tp1)"
   ]
  },
  {
   "cell_type": "markdown",
   "metadata": {},
   "source": [
    "#### 튜플은 내부 변경 불가능"
   ]
  },
  {
   "cell_type": "code",
   "execution_count": 111,
   "metadata": {},
   "outputs": [
    {
     "ename": "TypeError",
     "evalue": "'tuple' object does not support item assignment",
     "output_type": "error",
     "traceback": [
      "\u001b[1;31m---------------------------------------------------------------------------\u001b[0m",
      "\u001b[1;31mTypeError\u001b[0m                                 Traceback (most recent call last)",
      "\u001b[1;32m<ipython-input-111-723dd1fe2294>\u001b[0m in \u001b[0;36m<module>\u001b[1;34m\u001b[0m\n\u001b[0;32m      1\u001b[0m \u001b[0mtp2\u001b[0m \u001b[1;33m=\u001b[0m \u001b[1;33m(\u001b[0m\u001b[1;34m'a'\u001b[0m\u001b[1;33m,\u001b[0m\u001b[1;34m'b'\u001b[0m\u001b[1;33m,\u001b[0m\u001b[1;34m'c'\u001b[0m\u001b[1;33m)\u001b[0m\u001b[1;33m\u001b[0m\u001b[1;33m\u001b[0m\u001b[0m\n\u001b[1;32m----> 2\u001b[1;33m \u001b[0mtp2\u001b[0m\u001b[1;33m[\u001b[0m\u001b[1;36m1\u001b[0m\u001b[1;33m]\u001b[0m \u001b[1;33m=\u001b[0m \u001b[1;34m'B'\u001b[0m\u001b[1;33m\u001b[0m\u001b[1;33m\u001b[0m\u001b[0m\n\u001b[0m",
      "\u001b[1;31mTypeError\u001b[0m: 'tuple' object does not support item assignment"
     ]
    }
   ],
   "source": [
    "tp2 = ('a','b','c')\n",
    "tp2[1] = 'B'\n",
    "#'tuple' object does not support item assignment"
   ]
  },
  {
   "cell_type": "markdown",
   "metadata": {},
   "source": [
    "#### 해당 데이터의 포함 여부 확인\n",
    "- 멤버 연산자 : 포함관계 불리언으로 출력  \n",
    "in  \n",
    "not in   "
   ]
  },
  {
   "cell_type": "code",
   "execution_count": 118,
   "metadata": {},
   "outputs": [
    {
     "data": {
      "text/plain": [
       "True"
      ]
     },
     "execution_count": 118,
     "metadata": {},
     "output_type": "execute_result"
    }
   ],
   "source": [
    "str1 = '파이썬 최고'\n",
    "'최고' in str1"
   ]
  },
  {
   "cell_type": "code",
   "execution_count": 119,
   "metadata": {},
   "outputs": [
    {
     "data": {
      "text/plain": [
       "False"
      ]
     },
     "execution_count": 119,
     "metadata": {},
     "output_type": "execute_result"
    }
   ],
   "source": [
    "'최고' not in str1"
   ]
  },
  {
   "cell_type": "code",
   "execution_count": 120,
   "metadata": {},
   "outputs": [
    {
     "data": {
      "text/plain": [
       "[77, 88, 38]"
      ]
     },
     "execution_count": 120,
     "metadata": {},
     "output_type": "execute_result"
    }
   ],
   "source": [
    "list1 =[77,88,38]\n",
    "list1"
   ]
  },
  {
   "cell_type": "code",
   "execution_count": 122,
   "metadata": {},
   "outputs": [
    {
     "data": {
      "text/plain": [
       "True"
      ]
     },
     "execution_count": 122,
     "metadata": {},
     "output_type": "execute_result"
    }
   ],
   "source": [
    "100 not in list1"
   ]
  },
  {
   "cell_type": "code",
   "execution_count": 123,
   "metadata": {},
   "outputs": [
    {
     "data": {
      "text/plain": [
       "False"
      ]
     },
     "execution_count": 123,
     "metadata": {},
     "output_type": "execute_result"
    }
   ],
   "source": [
    "100 in list1"
   ]
  },
  {
   "cell_type": "code",
   "execution_count": 124,
   "metadata": {},
   "outputs": [
    {
     "data": {
      "text/plain": [
       "'Hi, My name is Mihee'"
      ]
     },
     "execution_count": 124,
     "metadata": {},
     "output_type": "execute_result"
    }
   ],
   "source": [
    "s ='Hi, My name is Mihee'\n",
    "s"
   ]
  },
  {
   "cell_type": "code",
   "execution_count": null,
   "metadata": {},
   "outputs": [],
   "source": []
  },
  {
   "cell_type": "markdown",
   "metadata": {},
   "source": [
    "실습예제\n",
    "1. 다음과 같이 문자열에 사용자가 입력한 글자가 몇 개 포함되어 있는지 출력하시오."
   ]
  },
  {
   "cell_type": "code",
   "execution_count": 127,
   "metadata": {},
   "outputs": [
    {
     "name": "stdout",
     "output_type": "stream",
     "text": [
      "***********************************\n",
      "검색할 문자를 입력하세요 >> M\n",
      "M는 문자열에 2번 들어있습니다.\n",
      "***********************************\n"
     ]
    }
   ],
   "source": [
    "print('*'*35)\n",
    "input_s = input('검색할 문자를 입력하세요 >> ')\n",
    "if input_s in s:\n",
    "    print(f'{input_s}는 문자열에 {s.count(input_s)}번 들어있습니다.')\n",
    "else:\n",
    "    print(f'{input_s}는 문자열에 들어있지 않습니다.')\n",
    "print('*'*35)"
   ]
  },
  {
   "attachments": {},
   "cell_type": "markdown",
   "metadata": {},
   "source": [
    "2. 다음과 같이 리스트에 사용자가 입력한 글자가 어디에 포함되어 있는지 출력하시오.\n"
   ]
  },
  {
   "cell_type": "code",
   "execution_count": 129,
   "metadata": {},
   "outputs": [],
   "source": [
    "lst = ['딸기','바나나','수박','체리','포도']"
   ]
  },
  {
   "cell_type": "code",
   "execution_count": 132,
   "metadata": {},
   "outputs": [
    {
     "name": "stdout",
     "output_type": "stream",
     "text": [
      "*********************************************\n",
      "검색할 문자를 입력하세요 >> 오렌지\n",
      "오렌지는 리스트에 들어있지 않습니다.\n",
      "*********************************************\n"
     ]
    }
   ],
   "source": [
    "print('*'*45)\n",
    "input_s = input('검색할 문자를 입력하세요 >> ')\n",
    "if input_s in lst:\n",
    "    print(f'{input_s}는 리스트에 {lst.index(input_s)}번째 인덱스에 들어있습니다.')\n",
    "else:\n",
    "    print(f'{input_s}는 리스트에 들어있지 않습니다.')\n",
    "print('*'*45)"
   ]
  },
  {
   "cell_type": "code",
   "execution_count": null,
   "metadata": {},
   "outputs": [],
   "source": []
  }
 ],
 "metadata": {
  "kernelspec": {
   "display_name": "Python 3",
   "language": "python",
   "name": "python3"
  },
  "language_info": {
   "codemirror_mode": {
    "name": "ipython",
    "version": 3
   },
   "file_extension": ".py",
   "mimetype": "text/x-python",
   "name": "python",
   "nbconvert_exporter": "python",
   "pygments_lexer": "ipython3",
   "version": "3.7.6"
  }
 },
 "nbformat": 4,
 "nbformat_minor": 4
}

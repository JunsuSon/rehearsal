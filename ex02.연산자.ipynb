{
 "cells": [
  {
   "cell_type": "markdown",
   "id": "3860b282-e8fb-44b4-a55b-f9a1ea46e1cb",
   "metadata": {},
   "source": [
    "## 학습목표\n",
    "- 연산자를 이해하자\n",
    "- 연산자의 종류를 알고 활용하자\n",
    "- 연산자를 이용하여 코드를 작성해보자"
   ]
  },
  {
   "cell_type": "markdown",
   "id": "74c4bb72-cbe0-4350-95cb-c971514f77fc",
   "metadata": {},
   "source": [
    "## 연산자의 종류"
   ]
  },
  {
   "attachments": {
    "3313926a-e081-4c80-93a1-000abea1822e.png": {
     "image/png": "[encoded data removed]"
    }
   },
   "cell_type": "markdown",
   "id": "e200e653-2aa5-4b50-8ea9-3839a391df85",
   "metadata": {},
   "source": [
    "![image.png](attachment:3313926a-e081-4c80-93a1-000abea1822e.png)"
   ]
  },
  {
   "cell_type": "markdown",
   "id": "0b60b05d-d2e0-4496-b872-1ccd737bf005",
   "metadata": {},
   "source": [
    "### 1. 산술연산자\n",
    "### +, -, *, /, //, %"
   ]
  },
  {
   "cell_type": "code",
   "id": "61fab6e9-bd33-41e6-9d08-06978e5320cc",
   "metadata": {
    "ExecuteTime": {
     "end_time": "2024-12-16T15:18:22.439468Z",
     "start_time": "2024-12-16T15:18:22.430007Z"
    }
   },
   "source": [
    "num1 = 10\n",
    "num2 = 7\n",
    "\n",
    "print(num1+num2)\n",
    "print(num1-num2)\n",
    "print(num1*num2)\n",
    "print(num1/num2)\n",
    "print(num1//num2) # // : 나누기 했을 때 몫\n",
    "print(num1%num2) # % : 나누기 했을 때 나머지\n",
    "# 나누기의 경우 값이 딱 떨어지더라도 실수형으로 변환됨!\n",
    "a = 4\n",
    "a/2"
   ],
   "outputs": [
    {
     "name": "stdout",
     "output_type": "stream",
     "text": [
      "17\n",
      "3\n",
      "70\n",
      "1.4285714285714286\n",
      "1\n",
      "3\n"
     ]
    },
    {
     "data": {
      "text/plain": [
       "2.0"
      ]
     },
     "execution_count": 1,
     "metadata": {},
     "output_type": "execute_result"
    }
   ],
   "execution_count": 1
  },
  {
   "cell_type": "markdown",
   "id": "09e90808-7736-4634-8ff8-fe9df17db88a",
   "metadata": {},
   "source": "#### 문자열 더하기"
  },
  {
   "cell_type": "code",
   "execution_count": 7,
   "id": "cccd4024-dc58-47a5-95bd-4faa08ec4f26",
   "metadata": {},
   "outputs": [
    {
     "data": {
      "text/plain": [
       "'안녕하세요'"
      ]
     },
     "execution_count": 7,
     "metadata": {},
     "output_type": "execute_result"
    }
   ],
   "source": [
    "str1 = \"안녕\"\n",
    "str2 = \"하세요\"\n",
    "\n",
    "str1 + str2"
   ]
  },
  {
   "cell_type": "code",
   "id": "0ee81041-4312-4f90-8ff2-7a517486bffa",
   "metadata": {
    "ExecuteTime": {
     "end_time": "2024-12-14T12:41:11.908907Z",
     "start_time": "2024-12-14T12:41:11.905828Z"
    }
   },
   "source": [
    "a = \"10\"\n",
    "b = \"7\"\n",
    "\n",
    "print(a+b)"
   ],
   "outputs": [
    {
     "name": "stdout",
     "output_type": "stream",
     "text": [
      "107\n"
     ]
    }
   ],
   "execution_count": 27
  },
  {
   "cell_type": "code",
   "execution_count": 48,
   "id": "29866b67-ab30-45e8-aa09-0ff7a62c196e",
   "metadata": {},
   "outputs": [
    {
     "ename": "TypeError",
     "evalue": "unsupported operand type(s) for +: 'int' and 'str'",
     "output_type": "error",
     "traceback": [
      "\u001B[1;31m---------------------------------------------------------------------------\u001B[0m",
      "\u001B[1;31mTypeError\u001B[0m                                 Traceback (most recent call last)",
      "Cell \u001B[1;32mIn[48], line 4\u001B[0m\n\u001B[0;32m      1\u001B[0m num1 \u001B[38;5;241m=\u001B[39m \u001B[38;5;241m10\u001B[39m\n\u001B[0;32m      2\u001B[0m str1 \u001B[38;5;241m=\u001B[39m \u001B[38;5;124m\"\u001B[39m\u001B[38;5;124m7\u001B[39m\u001B[38;5;124m\"\u001B[39m\n\u001B[1;32m----> 4\u001B[0m \u001B[38;5;28mprint\u001B[39m(num1\u001B[38;5;241m+\u001B[39mstr1)\n",
      "\u001B[1;31mTypeError\u001B[0m: unsupported operand type(s) for +: 'int' and 'str'"
     ]
    }
   ],
   "source": [
    "num1 = 10\n",
    "str1 = \"7\"\n",
    "\n",
    "print(num1+str1)\n",
    "# 숫자와 문자를 더하면 에러가 발생한다\n",
    "# TypeError: unsupported operand type(s) for +: 'int' and 'str'\n",
    "# 자료형이 달라서 덧셈이 불가능!"
   ]
  },
  {
   "cell_type": "code",
   "execution_count": null,
   "id": "cb01d2f8-c941-4b15-9cc8-574e1018e1f7",
   "metadata": {},
   "outputs": [],
   "source": [
    "# *****연산이 가능하려면?*****\n",
    "\n",
    "# 형변환 사용!\n",
    "# (자료)형변환 : 현재의 자료형을 내가 원하는 자료형으로 변경해주는 함수!\n",
    "# str을 str1로 써준 이유 : 키워드는 변수명으로 사용 불가능!\n",
    "# str() : 문자열로 자료형을 변경하는 함수!\n",
    "# int(), float(), str(), bool(), list(), tuple(), dictionary(), set() : 형변환 함수!!\n",
    "# 기본형 자료형의 경우에는 단일 값 변경이 가능하지만, 컬렉션 자료형은 적합한 형식을 맞추어야 한다!"
   ]
  },
  {
   "cell_type": "code",
   "execution_count": 16,
   "id": "a3bce6b1-2a31-4499-aee4-c191ba5f328b",
   "metadata": {},
   "outputs": [
    {
     "name": "stdout",
     "output_type": "stream",
     "text": [
      "107\n",
      "17\n",
      "17.0\n"
     ]
    }
   ],
   "source": [
    "# num1을 문자열로 변경하여 더하고 출력하시오\n",
    "print(str(num1) + str1)\n",
    "# str1를 정수형으로 변경하여 더하고 출력하시오\n",
    "print(num1 + int(str1))\n",
    "# str1를 실수형으로 변경하여 더하고 출력하시오\n",
    "print(num1 + float(str1))\n",
    "# 정수와 실수를 더하면 소수점이 0이더라도 실수로 자동 형변환 된다!"
   ]
  },
  {
   "cell_type": "code",
   "execution_count": 19,
   "id": "b68caab9-9d6b-4eeb-b7b9-bfe709778205",
   "metadata": {},
   "outputs": [],
   "source": [
    "# 예제 1\n",
    "# num1 = 23, num2 = 3 대입하고 더하기, 빼기, 곱하기, 나누기, 나머지, 몫의 결과를 출력하시오."
   ]
  },
  {
   "cell_type": "code",
   "execution_count": 50,
   "id": "344dc397-41ff-410d-96f5-59e8af4a072a",
   "metadata": {},
   "outputs": [
    {
     "name": "stdout",
     "output_type": "stream",
     "text": [
      "더하기 : 26\n",
      "빼기 : 20\n",
      "곱하기 : 69\n",
      "나누기 : 7.666666666666667\n",
      "나머지: 2\n",
      "몫 : 7\n"
     ]
    }
   ],
   "source": [
    "# 예제 1번 정답\n",
    "num1 = 23\n",
    "num2 = 3\n",
    "print(f\"더하기 : {num1 + num2}\")\n",
    "print(f\"빼기 : {num1 - num2}\")\n",
    "print(f\"곱하기 : {num1 * num2}\")\n",
    "print(f\"나누기 : {num1 / num2}\")\n",
    "print(f\"나머지: {num1%num2}\")\n",
    "print(f\"몫 : {num1//num2}\")"
   ]
  },
  {
   "cell_type": "code",
   "execution_count": null,
   "id": "c06e5d1c-1d87-480a-8db6-0fed6aa43f19",
   "metadata": {},
   "outputs": [],
   "source": [
    "# 우리가 원하는 값을 실시간으로 입력받아서 넣을 때\n",
    "# input() : 입력받은 값을 문자열로 반환하는 함수!"
   ]
  },
  {
   "cell_type": "code",
   "id": "99ca8be5-5966-47f6-ad16-fdde0a1082af",
   "metadata": {
    "ExecuteTime": {
     "end_time": "2024-12-17T14:52:41.099552Z",
     "start_time": "2024-12-17T14:52:35.677069Z"
    }
   },
   "source": [
    "# input()은 값을 넣지않으면 다음코드가 실행되지않음(인터프리터 특성때문)\n",
    "num = input(\"정수를 입력하세요 >>\")"
   ],
   "outputs": [
    {
     "ename": "KeyboardInterrupt",
     "evalue": "Interrupted by user",
     "output_type": "error",
     "traceback": [
      "\u001B[1;31m---------------------------------------------------------------------------\u001B[0m",
      "\u001B[1;31mKeyboardInterrupt\u001B[0m                         Traceback (most recent call last)",
      "Cell \u001B[1;32mIn[1], line 2\u001B[0m\n\u001B[0;32m      1\u001B[0m \u001B[38;5;66;03m# input()은 값을 넣지않으면 다음코드가 실행되지않음(인터프리터 특성때문)\u001B[39;00m\n\u001B[1;32m----> 2\u001B[0m num \u001B[38;5;241m=\u001B[39m \u001B[38;5;28minput\u001B[39m(\u001B[38;5;124m\"\u001B[39m\u001B[38;5;124m정수를 입력하세요 >>\u001B[39m\u001B[38;5;124m\"\u001B[39m)\n",
      "File \u001B[1;32mC:\\anaconda\\Lib\\site-packages\\ipykernel\\kernelbase.py:1262\u001B[0m, in \u001B[0;36mKernel.raw_input\u001B[1;34m(self, prompt)\u001B[0m\n\u001B[0;32m   1260\u001B[0m     msg \u001B[38;5;241m=\u001B[39m \u001B[38;5;124m\"\u001B[39m\u001B[38;5;124mraw_input was called, but this frontend does not support input requests.\u001B[39m\u001B[38;5;124m\"\u001B[39m\n\u001B[0;32m   1261\u001B[0m     \u001B[38;5;28;01mraise\u001B[39;00m StdinNotImplementedError(msg)\n\u001B[1;32m-> 1262\u001B[0m \u001B[38;5;28;01mreturn\u001B[39;00m \u001B[38;5;28mself\u001B[39m\u001B[38;5;241m.\u001B[39m_input_request(\n\u001B[0;32m   1263\u001B[0m     \u001B[38;5;28mstr\u001B[39m(prompt),\n\u001B[0;32m   1264\u001B[0m     \u001B[38;5;28mself\u001B[39m\u001B[38;5;241m.\u001B[39m_parent_ident[\u001B[38;5;124m\"\u001B[39m\u001B[38;5;124mshell\u001B[39m\u001B[38;5;124m\"\u001B[39m],\n\u001B[0;32m   1265\u001B[0m     \u001B[38;5;28mself\u001B[39m\u001B[38;5;241m.\u001B[39mget_parent(\u001B[38;5;124m\"\u001B[39m\u001B[38;5;124mshell\u001B[39m\u001B[38;5;124m\"\u001B[39m),\n\u001B[0;32m   1266\u001B[0m     password\u001B[38;5;241m=\u001B[39m\u001B[38;5;28;01mFalse\u001B[39;00m,\n\u001B[0;32m   1267\u001B[0m )\n",
      "File \u001B[1;32mC:\\anaconda\\Lib\\site-packages\\ipykernel\\kernelbase.py:1305\u001B[0m, in \u001B[0;36mKernel._input_request\u001B[1;34m(self, prompt, ident, parent, password)\u001B[0m\n\u001B[0;32m   1302\u001B[0m \u001B[38;5;28;01mexcept\u001B[39;00m \u001B[38;5;167;01mKeyboardInterrupt\u001B[39;00m:\n\u001B[0;32m   1303\u001B[0m     \u001B[38;5;66;03m# re-raise KeyboardInterrupt, to truncate traceback\u001B[39;00m\n\u001B[0;32m   1304\u001B[0m     msg \u001B[38;5;241m=\u001B[39m \u001B[38;5;124m\"\u001B[39m\u001B[38;5;124mInterrupted by user\u001B[39m\u001B[38;5;124m\"\u001B[39m\n\u001B[1;32m-> 1305\u001B[0m     \u001B[38;5;28;01mraise\u001B[39;00m \u001B[38;5;167;01mKeyboardInterrupt\u001B[39;00m(msg) \u001B[38;5;28;01mfrom\u001B[39;00m \u001B[38;5;28;01mNone\u001B[39;00m\n\u001B[0;32m   1306\u001B[0m \u001B[38;5;28;01mexcept\u001B[39;00m \u001B[38;5;167;01mException\u001B[39;00m:\n\u001B[0;32m   1307\u001B[0m     \u001B[38;5;28mself\u001B[39m\u001B[38;5;241m.\u001B[39mlog\u001B[38;5;241m.\u001B[39mwarning(\u001B[38;5;124m\"\u001B[39m\u001B[38;5;124mInvalid Message:\u001B[39m\u001B[38;5;124m\"\u001B[39m, exc_info\u001B[38;5;241m=\u001B[39m\u001B[38;5;28;01mTrue\u001B[39;00m)\n",
      "\u001B[1;31mKeyboardInterrupt\u001B[0m: Interrupted by user"
     ]
    }
   ],
   "execution_count": 1
  },
  {
   "cell_type": "code",
   "id": "15b84bf5-fc2b-49f3-811b-d3b78db7302b",
   "metadata": {
    "ExecuteTime": {
     "end_time": "2024-12-14T12:52:20.399906Z",
     "start_time": "2024-12-14T12:52:20.395906Z"
    }
   },
   "source": [
    "# num\n",
    "print(type(num))"
   ],
   "outputs": [
    {
     "name": "stdout",
     "output_type": "stream",
     "text": [
      "<class 'str'>\n"
     ]
    }
   ],
   "execution_count": 31
  },
  {
   "cell_type": "code",
   "execution_count": 24,
   "id": "7afe8b23-7b2e-4882-af1a-1ff930fe07e4",
   "metadata": {},
   "outputs": [
    {
     "name": "stdin",
     "output_type": "stream",
     "text": [
      "정수를 입력하세요 >> 133\n"
     ]
    }
   ],
   "source": [
    "# 정수, 실수를 입력받고 싶을 때? => 형변환 함수 이용!\n",
    "num = int(input(\"정수를 입력하세요 >>\"))"
   ]
  },
  {
   "cell_type": "code",
   "execution_count": 26,
   "id": "a21a078c-9fce-4321-9182-a424e509ca19",
   "metadata": {},
   "outputs": [
    {
     "name": "stdout",
     "output_type": "stream",
     "text": [
      "<class 'int'>\n"
     ]
    }
   ],
   "source": [
    "print(type(num))"
   ]
  },
  {
   "attachments": {},
   "cell_type": "markdown",
   "id": "f9d087eb-2a32-4687-8d18-4c8a7cc53d19",
   "metadata": {},
   "source": [
    "#### 예제"
   ]
  },
  {
   "cell_type": "code",
   "execution_count": 51,
   "id": "062a12cc-6794-46d2-9b3e-c6a45699ea36",
   "metadata": {},
   "outputs": [
    {
     "ename": "SyntaxError",
     "evalue": "invalid syntax (232381564.py, line 1)",
     "output_type": "error",
     "traceback": [
      "\u001B[1;36m  Cell \u001B[1;32mIn[51], line 1\u001B[1;36m\u001B[0m\n\u001B[1;33m    num1 = # int(input(\"정수를 입력하세요 >>\"))\u001B[0m\n\u001B[1;37m           ^\u001B[0m\n\u001B[1;31mSyntaxError\u001B[0m\u001B[1;31m:\u001B[0m invalid syntax\n"
     ]
    }
   ],
   "source": [
    "# input함수를 이용해서 값을 입력받은 후 계산해보자!\n",
    "\n",
    "num1 = # int(input(\"정수를 입력하세요 >>\"))\n",
    "num2 = # int(input(\"정수를 입력하세요 >>\"))\n",
    "print(f\"더하기 : {num1 + num2}\")\n",
    "print(f\"빼기 : {num1 - num2}\")\n",
    "print(f\"곱하기 : {num1 * num2}\")\n",
    "print(f\"나누기 : {num1 / num2}\")\n",
    "print(f\"나머지: {num1%num2}\")\n",
    "print(f\"몫 : {num1//num2}\")"
   ]
  },
  {
   "attachments": {},
   "cell_type": "markdown",
   "id": "73673c25-7052-4d1c-9ed5-83467aba62b7",
   "metadata": {},
   "source": [
    "#### 예제2 : python, 머신러닝, 딥러닝 점수를 키보드로 입력받아 합계와 평균을 출력해주는 프로그램을 만들어보자."
   ]
  },
  {
   "cell_type": "code",
   "execution_count": 56,
   "id": "331b6050-2106-44b9-9b41-9895fd70d817",
   "metadata": {},
   "outputs": [
    {
     "name": "stdin",
     "output_type": "stream",
     "text": [
      "python 점수 입력 >> 100\n",
      "머신러닝 점수 입력 >> 850\n",
      "딥러닝 점수 입력 >> 50\n"
     ]
    },
    {
     "name": "stdout",
     "output_type": "stream",
     "text": [
      "합계 : 1000\n",
      "평균 : 333.3333333333333\n"
     ]
    }
   ],
   "source": [
    "pyScore = int(input(\"python 점수 입력 >>\"))\n",
    "mlScore = int(input(\"머신러닝 점수 입력 >>\"))\n",
    "dlScore = int(input(\"딥러닝 점수 입력 >>\"))\n",
    "# sum1 = (pyScore+mlScore+dlScore)/3 -> 코드긴게 싫다!\n",
    "print(f\"합계 : {pyScore+mlScore+dlScore}\")\n",
    "print(f\"평균 : {(pyScore+mlScore+dlScore)/3}\")"
   ]
  },
  {
   "attachments": {
    "c25bb183-2167-4ee0-8047-0ad9eaf5d4bd.png": {
     "image/png": "[encoded data removed]"
    }
   },
   "cell_type": "markdown",
   "id": "c39f3d5f-09b3-47f9-bd8a-e71b40ca9b8d",
   "metadata": {},
   "source": [
    "#### 예제3 : 변수 num1과 num2에 정수 2개를 입력 받고, 변수 cal에 + 연산자를 입력 받아 더하기 연산을 하는 계산기 프로그램을 만들어보자\n",
    "![image.png](attachment:c25bb183-2167-4ee0-8047-0ad9eaf5d4bd.png)"
   ]
  },
  {
   "cell_type": "code",
   "execution_count": 62,
   "id": "882da2e2-1ea0-43d8-8627-010679a8c485",
   "metadata": {},
   "outputs": [
    {
     "name": "stdout",
     "output_type": "stream",
     "text": [
      "****계산기****\n"
     ]
    },
    {
     "name": "stdin",
     "output_type": "stream",
     "text": [
      "숫자1 >> 10\n",
      "숫자2 >> 20\n",
      "연산자 >> +\n"
     ]
    },
    {
     "name": "stdout",
     "output_type": "stream",
     "text": [
      "10+20=30\n"
     ]
    }
   ],
   "source": [
    "print('*'*4+'계산기'+'*'*4)\n",
    "# num1 = int(input('숫자1 >>'))\n",
    "# num2 = int(input('숫자2 >>'))\n",
    "# cal = input('연산자 >>')\n",
    "# print(f'{num1}{cal}{num2}={num1 + num2}') # 결과 출력"
   ]
  },
  {
   "attachments": {
    "b6043859-0933-4e84-9084-e3fa07b1568e.png": {
     "image/png": "[encoded data removed]"
    }
   },
   "cell_type": "markdown",
   "id": "4814d0c1-db20-4c63-9dec-801683fc1870",
   "metadata": {},
   "source": [
    "#### 예제4\n",
    "![image.png](attachment:b6043859-0933-4e84-9084-e3fa07b1568e.png)"
   ]
  },
  {
   "cell_type": "code",
   "id": "267691cb-5043-4679-b65b-bee62642e730",
   "metadata": {
    "ExecuteTime": {
     "end_time": "2024-12-13T13:17:25.450284Z",
     "start_time": "2024-12-13T13:17:22.898946Z"
    }
   },
   "source": [
    "time = int(input(\"시간 입력 >>\"))\n",
    "# 1시간은 3600초\n",
    "hour = time//3600\n",
    "# 나머지 333\n",
    "minute = (time%3600)//60\n",
    "second = time % 60\n",
    "print(f\"{hour}시간 {minute}분 {second}초\")"
   ],
   "outputs": [
    {
     "name": "stdout",
     "output_type": "stream",
     "text": [
      "2시간 5분 33초\n"
     ]
    }
   ],
   "execution_count": 5
  },
  {
   "metadata": {},
   "cell_type": "markdown",
   "source": "#### 문자열 곱하기",
   "id": "8111f1036e632bbd"
  },
  {
   "cell_type": "code",
   "id": "86123b57-7565-49e7-aa29-370dc9b57ed7",
   "metadata": {
    "ExecuteTime": {
     "end_time": "2024-12-13T13:22:35.665329Z",
     "start_time": "2024-12-13T13:22:35.661197Z"
    }
   },
   "source": [
    "s = 'x'\n",
    "print(s*10) # 문자열에 곱셈을 하면 문자가 반복되어서 출력"
   ],
   "outputs": [
    {
     "name": "stdout",
     "output_type": "stream",
     "text": [
      "xxxxxxxxxx\n"
     ]
    }
   ],
   "execution_count": 6
  },
  {
   "cell_type": "code",
   "id": "25e8e8af-b0be-46a7-ab4d-bb05eb8b7c62",
   "metadata": {
    "ExecuteTime": {
     "end_time": "2024-12-13T13:22:49.138491Z",
     "start_time": "2024-12-13T13:22:49.135349Z"
    }
   },
   "source": [
    "s = '안녕하세요'\n",
    "print(s*10)\n",
    "# 참고 : 문자열도 곱셈이 가능하다는 것!"
   ],
   "outputs": [
    {
     "name": "stdout",
     "output_type": "stream",
     "text": [
      "안녕하세요안녕하세요안녕하세요안녕하세요안녕하세요안녕하세요안녕하세요안녕하세요안녕하세요안녕하세요\n"
     ]
    }
   ],
   "execution_count": 7
  },
  {
   "metadata": {},
   "cell_type": "markdown",
   "source": [
    "### 지수 연산자\n",
    "### **"
   ],
   "id": "65d0be7291f21c0d"
  },
  {
   "cell_type": "code",
   "id": "575da3bb-85e6-4d6f-8f09-9ad2a685784e",
   "metadata": {
    "ExecuteTime": {
     "end_time": "2024-12-13T13:25:42.314726Z",
     "start_time": "2024-12-13T13:25:42.310184Z"
    }
   },
   "source": [
    "# 숫자 2의 3제곱을 계산해보자\n",
    "2**3 # 연산자 우측에 위치하는 수 --> 지수"
   ],
   "outputs": [
    {
     "data": {
      "text/plain": [
       "8"
      ]
     },
     "execution_count": 9,
     "metadata": {},
     "output_type": "execute_result"
    }
   ],
   "execution_count": 9
  },
  {
   "metadata": {},
   "cell_type": "markdown",
   "source": [
    "### 대입(복합)연산자\n",
    "### (=, +=, -=, *=, /=, //=, %=, **=)\n",
    "- 복합대입연산자"
   ],
   "id": "512b79f885df4182"
  },
  {
   "cell_type": "code",
   "id": "031fdce8-9193-435b-9f69-7502622229cc",
   "metadata": {
    "ExecuteTime": {
     "end_time": "2024-12-13T13:28:56.649582Z",
     "start_time": "2024-12-13T13:28:56.645875Z"
    }
   },
   "source": [
    "num = 3\n",
    "num = num + 3\n",
    "print(num)\n",
    "num = num + 3\n",
    "print(num)\n",
    "# num을 한번더 써줘야 하기때문에 불편"
   ],
   "outputs": [
    {
     "name": "stdout",
     "output_type": "stream",
     "text": [
      "6\n",
      "9\n"
     ]
    }
   ],
   "execution_count": 13
  },
  {
   "cell_type": "code",
   "id": "062635e1-3e31-4d80-9bdf-4fa56c78d042",
   "metadata": {
    "ExecuteTime": {
     "end_time": "2024-12-13T13:31:01.710247Z",
     "start_time": "2024-12-13T13:31:01.706141Z"
    }
   },
   "source": [
    "# 더하면서 갱신\n",
    "num = 3\n",
    "num += 3 # num = num +3\n",
    "print(num)"
   ],
   "outputs": [
    {
     "name": "stdout",
     "output_type": "stream",
     "text": [
      "6\n"
     ]
    }
   ],
   "execution_count": 16
  },
  {
   "cell_type": "code",
   "id": "d1fdbb6b-8f11-4708-8adf-b8fef7d132e2",
   "metadata": {
    "ExecuteTime": {
     "end_time": "2024-12-13T13:31:40.968142Z",
     "start_time": "2024-12-13T13:31:40.963994Z"
    }
   },
   "source": [
    "# 빼면서 갱신\n",
    "num = 100\n",
    "print(num)\n",
    "num -= 35 # num = num - 35\n",
    "print(num)"
   ],
   "outputs": [
    {
     "name": "stdout",
     "output_type": "stream",
     "text": [
      "100\n",
      "65\n"
     ]
    }
   ],
   "execution_count": 17
  },
  {
   "metadata": {
    "ExecuteTime": {
     "end_time": "2024-12-13T13:33:29.089134Z",
     "start_time": "2024-12-13T13:33:29.085565Z"
    }
   },
   "cell_type": "code",
   "source": [
    "# 복합대입연산자는 +, -, *, /, //, % 모두 사용 가능!\n",
    "# 코딩은 너무 외우려 하지말고 이거 되나? 라는 생각으로 일단 쳐보고 에러가 발생하면 검색을 해서 찾아보면 된다!"
   ],
   "id": "409ec5d48973e585",
   "outputs": [],
   "execution_count": 18
  },
  {
   "metadata": {},
   "cell_type": "markdown",
   "source": "#### 치환 : 자리를 바꾸다.",
   "id": "2abff79890bf18d3"
  },
  {
   "metadata": {
    "ExecuteTime": {
     "end_time": "2024-12-13T13:36:48.063942Z",
     "start_time": "2024-12-13T13:36:48.059360Z"
    }
   },
   "cell_type": "code",
   "source": [
    "a = 3\n",
    "b = 7\n",
    "print(a,b)\n",
    "# 치환방법 1.\n",
    "# a에는 b 데이터(7), b에는 a 데이터(3)이 담기도록\n",
    "\n",
    "temp = a\n",
    "a = b\n",
    "b = temp\n",
    "\n",
    "print(a,b)"
   ],
   "id": "7d9c31525b1bbc03",
   "outputs": [
    {
     "name": "stdout",
     "output_type": "stream",
     "text": [
      "3 7\n",
      "7 3\n"
     ]
    }
   ],
   "execution_count": 22
  },
  {
   "metadata": {
    "ExecuteTime": {
     "end_time": "2024-12-13T13:37:56.808472Z",
     "start_time": "2024-12-13T13:37:56.804716Z"
    }
   },
   "cell_type": "code",
   "source": [
    "# 치환방법 2.\n",
    "# 파이썬은 쉽고 간편해요!\n",
    "a = 3\n",
    "b = 7\n",
    "print(a,b)\n",
    "\n",
    "a,b = b,a\n",
    "print(a,b)\n",
    "# 다른 언어에서는 대부분 불가능!"
   ],
   "id": "c4a9eaa83d46bcdd",
   "outputs": [
    {
     "name": "stdout",
     "output_type": "stream",
     "text": [
      "3 7\n",
      "7 3\n"
     ]
    }
   ],
   "execution_count": 23
  },
  {
   "metadata": {},
   "cell_type": "markdown",
   "source": [
    "### 비교 연산자\n",
    "### ( >, >=, <, <=, ==, != )"
   ],
   "id": "1a37f9f107e5ffc0"
  },
  {
   "metadata": {
    "ExecuteTime": {
     "end_time": "2024-12-13T13:41:24.558029Z",
     "start_time": "2024-12-13T13:41:24.554220Z"
    }
   },
   "cell_type": "code",
   "source": [
    "a = 3\n",
    "b = 7\n",
    "\n",
    "print(a > b)\n",
    "print(a <= b)\n",
    "print(a == b)\n",
    "print(a != b)\n"
   ],
   "id": "c9937ef266377f1f",
   "outputs": [
    {
     "name": "stdout",
     "output_type": "stream",
     "text": [
      "False\n",
      "True\n",
      "False\n",
      "True\n"
     ]
    }
   ],
   "execution_count": 25
  },
  {
   "metadata": {},
   "cell_type": "markdown",
   "source": [
    "#### 비교연산자 예제\n",
    "- random 라이브러리(모듈)을 가져와서 2개의 난수를 각각 변수에 넣고, 비교 연산자를 이용하여 출력 값을 확인해보자."
   ],
   "id": "8f102b169357967"
  },
  {
   "metadata": {
    "ExecuteTime": {
     "end_time": "2024-12-15T09:47:10.202391Z",
     "start_time": "2024-12-15T09:47:10.199210Z"
    }
   },
   "cell_type": "code",
   "source": [
    "# import : 불러오기\n",
    "import random\n",
    "# random이라는 라이브러리를 불러와서 사용하겠다!"
   ],
   "id": "83f2413fcb99ce83",
   "outputs": [],
   "execution_count": 10
  },
  {
   "metadata": {
    "ExecuteTime": {
     "end_time": "2024-12-13T13:48:41.637409Z",
     "start_time": "2024-12-13T13:48:41.633333Z"
    }
   },
   "cell_type": "code",
   "source": [
    "random.randint(1,10)\n",
    "# random.randint(범위 시작값, 범위 끝값)\n",
    "# 시작값, 끝값 모두 포함"
   ],
   "id": "65c1d9e30f030973",
   "outputs": [
    {
     "data": {
      "text/plain": [
       "5"
      ]
     },
     "execution_count": 32,
     "metadata": {},
     "output_type": "execute_result"
    }
   ],
   "execution_count": 32
  },
  {
   "metadata": {
    "ExecuteTime": {
     "end_time": "2024-12-13T13:50:44.307647Z",
     "start_time": "2024-12-13T13:50:44.303999Z"
    }
   },
   "cell_type": "code",
   "source": [
    "a = random.randint(1,10)\n",
    "b = random.randint(1,10)\n",
    "print(f'난수 생성 >> a:{a}, b:{b}')\n",
    "print(a < b)\n",
    "print(a > b)\n",
    "print(a == b)\n",
    "print(a != b)\n"
   ],
   "id": "dd8fa2056afe3c34",
   "outputs": [
    {
     "name": "stdout",
     "output_type": "stream",
     "text": [
      "난수 생성 >> a:7, b:3\n",
      "False\n",
      "True\n",
      "False\n",
      "True\n"
     ]
    }
   ],
   "execution_count": 69
  },
  {
   "metadata": {},
   "cell_type": "markdown",
   "source": [
    "### 논리 연산자\n",
    "- True, False의 논리값(boolean값)을 반환하는 연산자"
   ],
   "id": "f0cbe9a9951785ca"
  },
  {
   "metadata": {},
   "cell_type": "markdown",
   "source": "- not 연산자",
   "id": "b6003f8c126a0659"
  },
  {
   "metadata": {
    "ExecuteTime": {
     "end_time": "2024-12-14T08:35:18.881986Z",
     "start_time": "2024-12-14T08:35:18.878655Z"
    }
   },
   "cell_type": "code",
   "source": [
    "a = 3\n",
    "b = 7\n",
    "print(f'a<b : {a<b}')\n",
    "\n",
    "print(f'not a<b : {not a<b}')\n",
    "# not : 부정연산자 -> 결과 값을 반대로 출력"
   ],
   "id": "3fdc58b594f0a03e",
   "outputs": [
    {
     "name": "stdout",
     "output_type": "stream",
     "text": [
      "a<b : True\n",
      "a<b : False\n"
     ]
    }
   ],
   "execution_count": 2
  },
  {
   "metadata": {},
   "cell_type": "markdown",
   "source": "- and 연산자 : 두 조건이 모두 참(True)일 경우에만 참을 반환",
   "id": "679016a4ae84e75"
  },
  {
   "metadata": {
    "ExecuteTime": {
     "end_time": "2024-12-14T08:42:23.717154Z",
     "start_time": "2024-12-14T08:42:23.713153Z"
    }
   },
   "cell_type": "code",
   "source": [
    "print(3>5) # False\n",
    "print(10==20) # False\n",
    "\n",
    "# 둘 다 False\n",
    "\n",
    "print(3>5 and 10==20)"
   ],
   "id": "b57986ff5f834354",
   "outputs": [
    {
     "name": "stdout",
     "output_type": "stream",
     "text": [
      "False\n",
      "False\n",
      "False\n"
     ]
    }
   ],
   "execution_count": 5
  },
  {
   "metadata": {
    "ExecuteTime": {
     "end_time": "2024-12-14T08:43:22.094745Z",
     "start_time": "2024-12-14T08:43:22.090116Z"
    }
   },
   "cell_type": "code",
   "source": [
    "print(3<5) # True\n",
    "print(10==20) # False\n",
    "\n",
    "# 하나만 True\n",
    "\n",
    "print(3<5 and 10==20)"
   ],
   "id": "6bf2501c41992e9e",
   "outputs": [
    {
     "name": "stdout",
     "output_type": "stream",
     "text": [
      "True\n",
      "False\n",
      "False\n"
     ]
    }
   ],
   "execution_count": 6
  },
  {
   "metadata": {
    "ExecuteTime": {
     "end_time": "2024-12-14T08:43:58.536186Z",
     "start_time": "2024-12-14T08:43:58.532677Z"
    }
   },
   "cell_type": "code",
   "source": [
    "print(3<5) # True\n",
    "print(10!=20) # True\n",
    "\n",
    "# 둘 다 True\n",
    "\n",
    "print(3<5 and 10!=20)"
   ],
   "id": "5ff44e362b7c6167",
   "outputs": [
    {
     "name": "stdout",
     "output_type": "stream",
     "text": [
      "True\n",
      "True\n",
      "True\n"
     ]
    }
   ],
   "execution_count": 7
  },
  {
   "metadata": {},
   "cell_type": "markdown",
   "source": "- or 연산자 : 두 조건 중 하나라도 참(True)이면 참 반환",
   "id": "90e97111ca41724d"
  },
  {
   "metadata": {
    "ExecuteTime": {
     "end_time": "2024-12-14T08:45:31.536868Z",
     "start_time": "2024-12-14T08:45:31.532867Z"
    }
   },
   "cell_type": "code",
   "source": [
    "print(3<5) # True\n",
    "print(10==20) # False\n",
    "\n",
    "# 하나만 True\n",
    "\n",
    "print(3<5 or 10==20)"
   ],
   "id": "5da4e9dce9aa854a",
   "outputs": [
    {
     "name": "stdout",
     "output_type": "stream",
     "text": [
      "True\n",
      "False\n",
      "True\n"
     ]
    }
   ],
   "execution_count": 8
  },
  {
   "metadata": {
    "ExecuteTime": {
     "end_time": "2024-12-14T08:45:52.363421Z",
     "start_time": "2024-12-14T08:45:52.359482Z"
    }
   },
   "cell_type": "code",
   "source": [
    "print(3>5) # False\n",
    "print(10==20) # False\n",
    "\n",
    "# 둘 다 False\n",
    "\n",
    "print(3>5 or 10==20)"
   ],
   "id": "6f8ed837f0f420de",
   "outputs": [
    {
     "name": "stdout",
     "output_type": "stream",
     "text": [
      "False\n",
      "False\n",
      "False\n"
     ]
    }
   ],
   "execution_count": 9
  },
  {
   "metadata": {},
   "cell_type": "markdown",
   "source": [
    "### 삼항연산자\n",
    "- a if 조건식 else b"
   ],
   "id": "b41ff36087b1e480"
  },
  {
   "metadata": {
    "ExecuteTime": {
     "end_time": "2024-12-14T08:47:57.325090Z",
     "start_time": "2024-12-14T08:47:57.322025Z"
    }
   },
   "cell_type": "code",
   "source": [
    "score = 80\n",
    "print('합격') if score>=80 else print('불합격')\n",
    "# 조건식은 True, False의 결과값\n",
    "# True는 앞, False는 뒤"
   ],
   "id": "864f2014ae42c5da",
   "outputs": [
    {
     "name": "stdout",
     "output_type": "stream",
     "text": [
      "합격\n"
     ]
    }
   ],
   "execution_count": 10
  },
  {
   "metadata": {
    "ExecuteTime": {
     "end_time": "2024-12-14T08:51:02.166122Z",
     "start_time": "2024-12-14T08:51:02.163122Z"
    }
   },
   "cell_type": "code",
   "source": [
    "score = 30\n",
    "print('합격') if score>=80 else print('불합격')"
   ],
   "id": "73fd65bf9bb6f908",
   "outputs": [
    {
     "name": "stdout",
     "output_type": "stream",
     "text": [
      "불합격\n"
     ]
    }
   ],
   "execution_count": 11
  },
  {
   "metadata": {},
   "cell_type": "markdown",
   "source": [
    "- 삼항 연산자 실습 예제\n",
    "1. 키보드로 서로다른 두 개의 정수를 입력 받아 둘 중에 큰 수를 출력하시오."
   ],
   "id": "eb5ed557780c1841"
  },
  {
   "metadata": {
    "ExecuteTime": {
     "end_time": "2024-12-14T09:00:55.676014Z",
     "start_time": "2024-12-14T09:00:52.711375Z"
    }
   },
   "cell_type": "code",
   "source": [
    "a = int(input('정수입력1 >>'))\n",
    "b = int(input('정수입력2 >>'))\n",
    "\n",
    "# a=3, b=10\n",
    "print(f'{b}이 더 큰 값이다') if a < b else print(f'{a}이 더 큰 값이다.')\n",
    "\n",
    "# (심화)같은 값도 처리하는 방법\n",
    "# a if a>b else b if a<b else print('숫자가 같습니다')"
   ],
   "id": "b36c1c388b25b01f",
   "outputs": [
    {
     "name": "stdout",
     "output_type": "stream",
     "text": [
      "10이 더 큰 값이다.\n"
     ]
    }
   ],
   "execution_count": 23
  },
  {
   "metadata": {},
   "cell_type": "markdown",
   "source": [
    "#### 과제\n",
    "- 키보드를 통해 정수를 입력받아 num에 대입하고 삼항연산자를 이용하여 숫자가 홀수이면 ‘홀수입니다’, 짝수이면 ‘짝수입니다’, 0일 경우 '0입니다'를 출력해보기"
   ],
   "id": "2c193dc3b0e9428b"
  },
  {
   "metadata": {
    "ExecuteTime": {
     "end_time": "2024-12-15T09:38:46.952046Z",
     "start_time": "2024-12-15T09:38:45.302546Z"
    }
   },
   "cell_type": "code",
   "source": [
    "num = int(input('숫자입력'))\n",
    "\n",
    "print('홀수입니다') if num % 2 == 1 else print('짝수입니다') if num !=0 else print('0입니다')"
   ],
   "id": "ce0619ff24c35812",
   "outputs": [
    {
     "name": "stdout",
     "output_type": "stream",
     "text": [
      "홀수입니다\n"
     ]
    }
   ],
   "execution_count": 9
  },
  {
   "metadata": {
    "ExecuteTime": {
     "end_time": "2024-12-15T09:54:08.751071Z",
     "start_time": "2024-12-15T09:54:08.747309Z"
    }
   },
   "cell_type": "code",
   "source": [
    "a = [1,2,3,4]\n",
    "\n",
    "print('yes') if 1 in a else print('no')"
   ],
   "id": "28d2f5f2df0bcba5",
   "outputs": [
    {
     "name": "stdout",
     "output_type": "stream",
     "text": [
      "yes\n"
     ]
    }
   ],
   "execution_count": 22
  },
  {
   "metadata": {},
   "cell_type": "code",
   "outputs": [],
   "execution_count": null,
   "source": "",
   "id": "f74a498ff8ceb563"
  }
 ],
 "metadata": {
  "kernelspec": {
   "display_name": "Python 3 (ipykernel)",
   "language": "python",
   "name": "python3"
  },
  "language_info": {
   "codemirror_mode": {
    "name": "ipython",
    "version": 3
   },
   "file_extension": ".py",
   "mimetype": "text/x-python",
   "name": "python",
   "nbconvert_exporter": "python",
   "pygments_lexer": "ipython3",
   "version": "3.12.7"
  }
 },
 "nbformat": 4,
 "nbformat_minor": 5
}

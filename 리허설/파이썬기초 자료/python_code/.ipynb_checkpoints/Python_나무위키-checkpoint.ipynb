{
 "cells": [
  {
   "cell_type": "markdown",
   "id": "33dfaa24",
   "metadata": {},
   "source": [
    "####  PEP 20에서 제시된 파이썬 기본 철학(The Zen of Python) 중 19개 "
   ]
  },
  {
   "cell_type": "markdown",
   "id": "13620bba",
   "metadata": {},
   "source": [
    "- https://peps.python.org/pep-0020/"
   ]
  },
  {
   "cell_type": "code",
   "execution_count": 1,
   "id": "de2f561e",
   "metadata": {
    "ExecuteTime": {
     "end_time": "2022-11-07T01:49:12.985543Z",
     "start_time": "2022-11-07T01:49:12.964598Z"
    }
   },
   "outputs": [
    {
     "name": "stdout",
     "output_type": "stream",
     "text": [
      "The Zen of Python, by Tim Peters\n",
      "\n",
      "Beautiful is better than ugly.\n",
      "Explicit is better than implicit.\n",
      "Simple is better than complex.\n",
      "Complex is better than complicated.\n",
      "Flat is better than nested.\n",
      "Sparse is better than dense.\n",
      "Readability counts.\n",
      "Special cases aren't special enough to break the rules.\n",
      "Although practicality beats purity.\n",
      "Errors should never pass silently.\n",
      "Unless explicitly silenced.\n",
      "In the face of ambiguity, refuse the temptation to guess.\n",
      "There should be one-- and preferably only one --obvious way to do it.\n",
      "Although that way may not be obvious at first unless you're Dutch.\n",
      "Now is better than never.\n",
      "Although never is often better than *right* now.\n",
      "If the implementation is hard to explain, it's a bad idea.\n",
      "If the implementation is easy to explain, it may be a good idea.\n",
      "Namespaces are one honking great idea -- let's do more of those!\n"
     ]
    }
   ],
   "source": [
    "# 코드의 축약보다 뚜렷하게 보이는 흐름을 중시하는 파이썬의 철학을 지칭하는 개념 => pythonic(파이썬스러움)\n",
    "import this "
   ]
  },
  {
   "cell_type": "markdown",
   "id": "13603013",
   "metadata": {},
   "source": [
    "아름다운 것이 추한 것보다 낫다. (Beautiful is better than ugly.)<br>\n",
    "명시적인 것이 암시적인 것보다 낫다. (Explicit is better than implicit.)<br>\n",
    "간결한 것이 복합적인 것보다 낫다. (Simple is better than complex.)<br>\n",
    "복합적인 것이 복잡한 것보다 낫다. (Complex is better than complicated.)<br>\n",
    "수평적인 것이 내포된 것보다 낫다. (Flat is better than nested.)<br>\n",
    "여유로운 것이 밀집한 것보다 낫다. (Sparse is better than dense.)<br>\n",
    "가독성은 중요하다. (Readability counts.)<br>\n",
    "특별한 경우들은 규칙을 어길 정도로 특별하지 않다. (Special cases aren't special enough to break the rules.)<br>\n",
    "허나 실용성은 순수성을 이긴다. (Although practicality beats purity.)<br>\n",
    "오류는 절대로 조용히 지나가지 않는다. (Errors should never pass silently.)<br>\n",
    "명시적으로 오류를 감추려는 의도가 아니라면. (Unless explicitly silenced.)<br>\n",
    "모호함을 대할 때, 이를 추측하려는 유혹을 거부하라. (In the face of ambiguity, refuse the temptation to guess.)<br>\n",
    "명확한, 그리고 가급적이면 유일한 하나의 방법은 항상 존재한다. (There should be one-- and preferably only one --obvious way to do it.)<br>\n",
    "비록 그 방법이 처음에는 명확해 보이지 않을지라도[9]. (Although that way may not be obvious at first unless you're Dutch.)<br>\n",
    "지금 행동에 옮기는 것이 아예 안 하는 것보다는 낫다. (Now is better than never.)<br>\n",
    "비록 아예 안 하는 것이 지금 *당장* 하는 것보다 나을 때도 많지만. (Although never is often better than *right* now.)<br>\n",
    "구현 결과를 설명하기 쉽지 않다면, 그것은 나쁜 아이디어이다. (If the implementation is hard to explain, it's a bad idea.)<br>\n",
    "구현 결과를 설명하기 쉽다면, 그것은 좋은 아이디어일지도 모른다. (If the implementation is easy to explain, it may be a good idea.)<br>\n",
    "네임스페이스를 사용하는 것은 완전 좋은 생각이다! (Namespaces are one honking great idea -- let's do more of those!)<br>"
   ]
  },
  {
   "cell_type": "markdown",
   "id": "1b85db16",
   "metadata": {},
   "source": [
    "따라서 다른 언어들의 코딩 스타일은 각자의 취향에 맞게 발산 진화하는 반면, 파이썬은 위의 철학들을 만족시키는 하나의 스타일로 수렴 진화하는 성향이 있다.[10] 이런 성향은 다른 언어에는 없는 파이썬스러움(pythonic)이라는 독특한 개념을 낳게 되었는데, 복잡하지 않으면서 의미가 명확하고, 코드의 축약보다 뚜렷하게 보이는 흐름을 중시하는 파이썬의 철학을 지칭하는 개념이다."
   ]
  },
  {
   "cell_type": "markdown",
   "id": "625ea29b",
   "metadata": {},
   "source": [
    "#### 파이썬 장점\n",
    "- 빠른 개발 속도\n",
    "- 피드백 용이성\n",
    "- 과학 및 공학 친화성\n",
    "- 거대한 생태계"
   ]
  },
  {
   "cell_type": "markdown",
   "id": "0fb6d360",
   "metadata": {},
   "source": [
    "#### 단점 \n",
    "- 느린 실행 속도 :  Script 언어의 특성으로 컴파일 과정 없이 실행과정에서 번역과 실행이 동시에 일어나므로, 수정이 빠르지만 컴파일 언어보다 느린 실행속도를 보여줌"
   ]
  },
  {
   "cell_type": "code",
   "execution_count": 3,
   "id": "89e6a8ea",
   "metadata": {
    "ExecuteTime": {
     "end_time": "2022-11-07T05:38:09.866107Z",
     "start_time": "2022-11-07T05:38:09.859151Z"
    }
   },
   "outputs": [
    {
     "name": "stdout",
     "output_type": "stream",
     "text": [
      "['False', 'None', 'True', '__peg_parser__', 'and', 'as', 'assert', 'async', 'await', 'break', 'class', 'continue', 'def', 'del', 'elif', 'else', 'except', 'finally', 'for', 'from', 'global', 'if', 'import', 'in', 'is', 'lambda', 'nonlocal', 'not', 'or', 'pass', 'raise', 'return', 'try', 'while', 'with', 'yield']\n"
     ]
    }
   ],
   "source": [
    "import keyword\n",
    "print(keyword.kwlist)"
   ]
  },
  {
   "cell_type": "code",
   "execution_count": 15,
   "id": "00b4a900",
   "metadata": {
    "ExecuteTime": {
     "end_time": "2022-11-07T05:46:08.995764Z",
     "start_time": "2022-11-07T05:46:08.977812Z"
    }
   },
   "outputs": [
    {
     "name": "stdout",
     "output_type": "stream",
     "text": [
      "파이썬\n",
      "- 동적언어\n",
      "- 직관적, 명시적, 간결함\n"
     ]
    }
   ],
   "source": [
    "s = '파이썬\\n- 동적언어\\n- 직관적, 명시적, 간결함'\n",
    "print(s)"
   ]
  },
  {
   "cell_type": "code",
   "execution_count": 30,
   "id": "205a0605",
   "metadata": {},
   "outputs": [
    {
     "name": "stdout",
     "output_type": "stream",
     "text": [
      "파이썬\n",
      "- 동적언어\n",
      "- 직관적, 명시적, 1.2\n"
     ]
    }
   ],
   "source": [
    "feature = 1.24651\n",
    "s = f\"\"\"파이썬\n",
    "- 동적언어\n",
    "- 직관적, 명시적, {feature:.1f}\"\"\"\n",
    "print(s)"
   ]
  },
  {
   "cell_type": "code",
   "execution_count": 120,
   "id": "d076d158",
   "metadata": {},
   "outputs": [
    {
     "name": "stdout",
     "output_type": "stream",
     "text": [
      "2022-11-07 15:34:44.410353\n",
      "실행 당시 현재 시간은 15시 34분 44초입니다.\n"
     ]
    }
   ],
   "source": [
    "from datetime import datetime\n",
    "current_time = datetime.now()\n",
    "print(current_time) # hour, minute, second 변수 사용\n",
    "print(f'실행 당시 현재 시간은 {current_time.hour}시 {current_time.minute}분 {current_time.second}초입니다.')"
   ]
  },
  {
   "cell_type": "code",
   "execution_count": 80,
   "id": "5bde7f9a",
   "metadata": {},
   "outputs": [
    {
     "name": "stdout",
     "output_type": "stream",
     "text": [
      "15시 11분 15초입니다.\n"
     ]
    }
   ],
   "source": [
    "from datetime import datetime\n",
    "\n",
    "now = datetime.now()\n",
    "current_time = now.strftime(\"%H시 %m분 %S초입니다.\")\n",
    "print(current_time)"
   ]
  },
  {
   "cell_type": "code",
   "execution_count": 139,
   "id": "93f552f1",
   "metadata": {},
   "outputs": [
    {
     "name": "stdout",
     "output_type": "stream",
     "text": [
      "기사가 업로드된 일자는 2022.03.10입니다.\n"
     ]
    }
   ],
   "source": [
    "article = \"[요기요, 화이트데이 맞이 '선물하기' 이벤트 진행] 기사입력 2022.03.10. 작성자 이나영기자 요기요는 화이트데이를 앞두고 요기요 선물하기 서비스를 이용하는 고객들을 위한‘너와 나의 선물고리’이벤트를 진행한다고 10일 밝혔다.\"\n",
    "article\n",
    "\n",
    "start = article.find('2022')\n",
    "end = article.find('작성자')\n",
    "day = article[start:end-2]\n",
    "print(f'기사가 업로드된 일자는 {day}입니다.')"
   ]
  },
  {
   "cell_type": "code",
   "execution_count": 144,
   "id": "2bd1f61a",
   "metadata": {},
   "outputs": [
    {
     "name": "stdout",
     "output_type": "stream",
     "text": [
      "정수 입력>> 30\n",
      "3과 5의 배수입니다.\n"
     ]
    }
   ],
   "source": [
    "num = int(input('정수 입력>> '))\n",
    "if num % 5 == 0 and num%3 ==0:\n",
    "    print('3과 5의 배수입니다.')\n",
    "else:\n",
    "    print('3과 5의 배수가 아닙니다.')"
   ]
  },
  {
   "cell_type": "code",
   "execution_count": 149,
   "id": "7e56f3a3",
   "metadata": {},
   "outputs": [
    {
     "name": "stdout",
     "output_type": "stream",
     "text": [
      "마스크 개수 입력 >> 7\n",
      "8개들이 포장지 개수 : 0\n",
      "5개들이 포장지 개수 : 2\n"
     ]
    }
   ],
   "source": [
    "cnt_mask = int(input('마스크 개수 입력 >> '))\n",
    "eight,five,ch = 0,0,0\n",
    "\n",
    "eight= cnt_mask//8\n",
    "five = cnt_mask%8//5\n",
    "ch = cnt_mask%8%5\n",
    "\n",
    "if ch >=0:\n",
    "    five += 1\n",
    "    \n",
    "print(\"8개들이 포장지 개수 : {}\".format(eight))\n",
    "print(\"5개들이 포장지 개수 : {}\".format(five))"
   ]
  },
  {
   "cell_type": "code",
   "execution_count": null,
   "id": "cecb2014",
   "metadata": {},
   "outputs": [],
   "source": [
    "print('''\n",
    "================================================\n",
    "================---- 자판기 ----================\n",
    "================================================\n",
    "== 1.콜라 == 2.사이다 ==  3.물  =======insert===\n",
    "==--------==----------==--------=======------===\n",
    "==   600  ==    800   ==  1000  ======= O00원===\n",
    "=======================================------===\n",
    "================================================\n",
    "==++++++++++++++++++++++++++++++++++++++++++++==\n",
    "==++++++++++++++++++++++++++++++++++++++++++++==\n",
    "==++++++++++++++++++++++++++++++++++++++++++++==\n",
    "==+++++++++++++++              +++++++++++++++==\n",
    "==+++++++++++++++     SMHRD    +++++++++++++++==\n",
    "==+++++++++++++++              +++++++++++++++==\n",
    "==++++++++++++++++++++++++++++++++++++++++++++==\n",
    "==++++++++++++++++++++++++++++++++++++++++++++==\n",
    "================================================\n",
    "================================================\n",
    "  ===                                      ===\n",
    "  ===                                      ===\n",
    "'‘’)\n",
    "\n",
    "inputMe = int(input(\"메뉴를 선택하세요: \"))\n",
    "inputMo = int(input(\"돈을 넣으세요 : \"))\n",
    "change = 0\n",
    "\n",
    "if inputMe ==1:\n",
    "    change = inputMo - 600\n",
    "elif inputMe ==2:\n",
    "    change = inputMo - 800\n",
    "elif inputMe == 3:\n",
    "    change = inputMo - 1000\n",
    "\n",
    "ch,o,b =0,0,0\n",
    "if change < 0 :\n",
    "    print(\"잔액이 부족합니다\")\n",
    "else:\n",
    "    ch= change//1000\n",
    "    o = change % 1000 // 500\n",
    "    b = change % 1000 % 500 //100\n",
    "    print(f\"천원:{ch}개, 오백원:{o}개, 백원:{b}개\")"
   ]
  },
  {
   "cell_type": "code",
   "execution_count": 163,
   "id": "2464c74e",
   "metadata": {},
   "outputs": [],
   "source": [
    "def print_menu():\n",
    "    print(\"\"\"\n",
    "================================================\n",
    "================---- 자판기 ----================\n",
    "================================================\n",
    "== 1.콜라 == 2.사이다 ==  3.물  =======insert===\n",
    "==--------==----------==--------=======------===\n",
    "==   600  ==    800   ==  1000  ======= O00원===\n",
    "=======================================------===\n",
    "================================================\n",
    "==++++++++++++++++++++++++++++++++++++++++++++==\n",
    "==++++++++++++++++++++++++++++++++++++++++++++==\n",
    "==++++++++++++++++++++++++++++++++++++++++++++==\n",
    "==+++++++++++++++              +++++++++++++++==\n",
    "==+++++++++++++++     SMHRD    +++++++++++++++==\n",
    "==+++++++++++++++              +++++++++++++++==\n",
    "==++++++++++++++++++++++++++++++++++++++++++++==\n",
    "==++++++++++++++++++++++++++++++++++++++++++++==\n",
    "================================================\n",
    "================================================\n",
    "  ===                                      ===\n",
    "  ===                                      ===\"\"\")"
   ]
  },
  {
   "cell_type": "code",
   "execution_count": 165,
   "id": "cfd27182",
   "metadata": {},
   "outputs": [
    {
     "name": "stdout",
     "output_type": "stream",
     "text": [
      "\n",
      "================================================\n",
      "================---- 자판기 ----================\n",
      "================================================\n",
      "== 1.콜라 == 2.사이다 ==  3.물  =======insert===\n",
      "==--------==----------==--------=======------===\n",
      "==   600  ==    800   ==  1000  ======= O00원===\n",
      "=======================================------===\n",
      "================================================\n",
      "==++++++++++++++++++++++++++++++++++++++++++++==\n",
      "==++++++++++++++++++++++++++++++++++++++++++++==\n",
      "==++++++++++++++++++++++++++++++++++++++++++++==\n",
      "==+++++++++++++++              +++++++++++++++==\n",
      "==+++++++++++++++     SMHRD    +++++++++++++++==\n",
      "==+++++++++++++++              +++++++++++++++==\n",
      "==++++++++++++++++++++++++++++++++++++++++++++==\n",
      "==++++++++++++++++++++++++++++++++++++++++++++==\n",
      "================================================\n",
      "================================================\n",
      "  ===                                      ===\n",
      "  ===                                      ===\n",
      "금액 넣기>> 500\n",
      "메뉴 선택(번호입력)>> 3\n",
      "금액이 부족합니다.\n"
     ]
    }
   ],
   "source": [
    "print_menu()\n",
    "input_coin = int(input('금액 넣기>> '))\n",
    "choice_mn = int(input('메뉴 선택(번호입력)>> '))\n",
    "ch,ob,b,change_money = 0,0,0,0\n",
    "\n",
    "if choice_mn == 1:\n",
    "    change_money = input_coin - 600 # 콜라\n",
    "elif choice_mn ==2:\n",
    "    change_money = input_coin - 800 # 사이다\n",
    "else :\n",
    "    change_money = input_coin - 1000 # 물\n",
    "\n",
    "#잔돈 변환\n",
    "if change_money<0:\n",
    "    print('금액이 부족합니다.')\n",
    "else:\n",
    "    ch = change_money//1000\n",
    "    ob = change_money%1000//500\n",
    "    b  = change_money%1000%500//100  \n",
    "    print(f'거스름돈 >> 1000원 {ch}개 500원 {ob}개 100원 {b}개')"
   ]
  },
  {
   "cell_type": "code",
   "execution_count": 168,
   "id": "c557eee9",
   "metadata": {},
   "outputs": [
    {
     "data": {
      "text/plain": [
       "[1, 2, 3, 1, 2, 3, 1, 2, 3]"
      ]
     },
     "execution_count": 168,
     "metadata": {},
     "output_type": "execute_result"
    }
   ],
   "source": [
    "list4 = [1,2,3]\n",
    "list4 * 3"
   ]
  },
  {
   "cell_type": "code",
   "execution_count": 222,
   "id": "85c0499e",
   "metadata": {},
   "outputs": [],
   "source": [
    "fruits = ['사과','포도',['수박','멜론'],'오렌지']"
   ]
  },
  {
   "cell_type": "code",
   "execution_count": 223,
   "id": "4390fbf6",
   "metadata": {},
   "outputs": [],
   "source": [
    "apple = fruits[0]\n",
    "melon = fruits[2][1]\n",
    "orange = fruits[3]"
   ]
  },
  {
   "cell_type": "code",
   "execution_count": 225,
   "id": "2d1b1148",
   "metadata": {
    "scrolled": true
   },
   "outputs": [
    {
     "data": {
      "text/plain": [
       "['사과', '멜론', '오렌지']"
      ]
     },
     "execution_count": 225,
     "metadata": {},
     "output_type": "execute_result"
    }
   ],
   "source": [
    "choice_lst = []\n",
    "choice_lst.append(apple)\n",
    "choice_lst.append(melon)\n",
    "choice_lst.append(orange)\n",
    "choice_lst"
   ]
  },
  {
   "cell_type": "code",
   "execution_count": 224,
   "id": "930c69c8",
   "metadata": {},
   "outputs": [
    {
     "data": {
      "text/plain": [
       "['사과', '멜론', '오렌지']"
      ]
     },
     "execution_count": 224,
     "metadata": {},
     "output_type": "execute_result"
    }
   ],
   "source": [
    "fruits = ['사과','포도',['수박','멜론'],'오렌지']\n",
    "apple = fruits[0]\n",
    "melon = fruits[2][1]\n",
    "orange = fruits[3]\n",
    "\n",
    "choice_lst = []\n",
    "choice_lst.extend([apple,melon,orange])\n",
    "choice_lst"
   ]
  },
  {
   "cell_type": "code",
   "execution_count": 208,
   "id": "b8261c0b",
   "metadata": {},
   "outputs": [],
   "source": [
    "music_lst =[['사건의 지평선','윤하'],['After LIKE','IVE'],['새삥','지코']]"
   ]
  },
  {
   "cell_type": "code",
   "execution_count": 210,
   "id": "0c016929",
   "metadata": {},
   "outputs": [
    {
     "name": "stdout",
     "output_type": "stream",
     "text": [
      "추가 위치 번호 >> 3\n",
      "노래 제목 >> Attention\n",
      "가수 >> 뉴진스\n"
     ]
    }
   ],
   "source": [
    "loc = int(input('추가 위치 번호 >> '))\n",
    "song = input('노래 제목 >> ')\n",
    "singer = input('가수 >> ')\n",
    "music_lst.insert(loc-1, [song,singer])"
   ]
  },
  {
   "cell_type": "code",
   "execution_count": 211,
   "id": "ce1f8e11",
   "metadata": {
    "scrolled": true
   },
   "outputs": [
    {
     "data": {
      "text/plain": [
       "[['사건의 지평선', '윤하'], ['After LIKE', 'IVE'], ['Attention', '뉴진스'], ['새삥', '지코']]"
      ]
     },
     "execution_count": 211,
     "metadata": {},
     "output_type": "execute_result"
    }
   ],
   "source": [
    "music_lst"
   ]
  },
  {
   "cell_type": "code",
   "execution_count": 220,
   "id": "f245f68f",
   "metadata": {},
   "outputs": [
    {
     "data": {
      "text/plain": [
       "[5, 7, 8, 2, 3, 4]"
      ]
     },
     "execution_count": 220,
     "metadata": {},
     "output_type": "execute_result"
    }
   ],
   "source": [
    "list6 = [0,1,2,3,4]\n",
    "list6[0:2] = [5,7,8]\n",
    "list6"
   ]
  },
  {
   "cell_type": "code",
   "execution_count": 226,
   "id": "f507e60e",
   "metadata": {
    "scrolled": true
   },
   "outputs": [
    {
     "name": "stdout",
     "output_type": "stream",
     "text": [
      "[1, 2, 3] 1 2 3\n"
     ]
    }
   ],
   "source": [
    "t = [1,2,3]\n",
    "a,b,c = t\n",
    "print(t,a,b,c)"
   ]
  },
  {
   "cell_type": "code",
   "execution_count": 230,
   "id": "6171ebcf",
   "metadata": {},
   "outputs": [
    {
     "name": "stdout",
     "output_type": "stream",
     "text": [
      "입력 2018> 2018\n"
     ]
    },
    {
     "data": {
      "text/plain": [
       "'2018'"
      ]
     },
     "execution_count": 230,
     "metadata": {},
     "output_type": "execute_result"
    }
   ],
   "source": [
    "input('입력 2018> ')"
   ]
  },
  {
   "cell_type": "code",
   "execution_count": 233,
   "id": "980a388a",
   "metadata": {},
   "outputs": [
    {
     "name": "stdout",
     "output_type": "stream",
     "text": [
      "입력 2018> '2018'\n"
     ]
    },
    {
     "data": {
      "text/plain": [
       "\"'2018'\""
      ]
     },
     "execution_count": 233,
     "metadata": {},
     "output_type": "execute_result"
    }
   ],
   "source": [
    "input(\"입력 2018> \")"
   ]
  },
  {
   "cell_type": "code",
   "execution_count": null,
   "id": "e3d26ac6",
   "metadata": {},
   "outputs": [],
   "source": []
  }
 ],
 "metadata": {
  "kernelspec": {
   "display_name": "Python 3 (ipykernel)",
   "language": "python",
   "name": "python3"
  },
  "language_info": {
   "codemirror_mode": {
    "name": "ipython",
    "version": 3
   },
   "file_extension": ".py",
   "mimetype": "text/x-python",
   "name": "python",
   "nbconvert_exporter": "python",
   "pygments_lexer": "ipython3",
   "version": "3.9.12"
  },
  "toc": {
   "base_numbering": 1,
   "nav_menu": {
    "height": "55px",
    "width": "520px"
   },
   "number_sections": true,
   "sideBar": true,
   "skip_h1_title": false,
   "title_cell": "Table of Contents",
   "title_sidebar": "Contents",
   "toc_cell": false,
   "toc_position": {
    "height": "calc(100% - 180px)",
    "left": "10px",
    "top": "150px",
    "width": "165px"
   },
   "toc_section_display": true,
   "toc_window_display": false
  },
  "varInspector": {
   "cols": {
    "lenName": 16,
    "lenType": 16,
    "lenVar": 40
   },
   "kernels_config": {
    "python": {
     "delete_cmd_postfix": "",
     "delete_cmd_prefix": "del ",
     "library": "var_list.py",
     "varRefreshCmd": "print(var_dic_list())"
    },
    "r": {
     "delete_cmd_postfix": ") ",
     "delete_cmd_prefix": "rm(",
     "library": "var_list.r",
     "varRefreshCmd": "cat(var_dic_list()) "
    }
   },
   "types_to_exclude": [
    "module",
    "function",
    "builtin_function_or_method",
    "instance",
    "_Feature"
   ],
   "window_display": false
  }
 },
 "nbformat": 4,
 "nbformat_minor": 5
}
